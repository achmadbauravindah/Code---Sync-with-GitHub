{
 "cells": [
  {
   "cell_type": "code",
   "execution_count": null,
   "metadata": {},
   "outputs": [
    {
     "name": "stdout",
     "output_type": "stream",
     "text": [
      "['../Models Evaluation/MobileNet/training/run_20241202_152610/fold_4/summary_log_fold_4.csv', '../Models Evaluation/MobileNet/training/run_20241202_152610/fold_5/summary_log_fold_5.csv', '../Models Evaluation/MobileNet/training/run_20241202_152610/fold_2/summary_log_fold_2.csv', '../Models Evaluation/MobileNet/training/run_20241202_152610/fold_3/summary_log_fold_3.csv', '../Models Evaluation/MobileNet/training/run_20241202_152610/fold_1/summary_log_fold_1.csv', '../Models Evaluation/MobileNet/training/run_20241202_151542/fold_4/summary_log_fold_4.csv', '../Models Evaluation/MobileNet/training/run_20241202_151542/fold_5/summary_log_fold_5.csv', '../Models Evaluation/MobileNet/training/run_20241202_151542/fold_2/summary_log_fold_2.csv', '../Models Evaluation/MobileNet/training/run_20241202_151542/fold_3/summary_log_fold_3.csv', '../Models Evaluation/MobileNet/training/run_20241202_151542/fold_1/summary_log_fold_1.csv', '../Models Evaluation/MobileNet/training/run_20241202_151921/fold_4/summary_log_fold_4.csv', '../Models Evaluation/MobileNet/training/run_20241202_151921/fold_5/summary_log_fold_5.csv', '../Models Evaluation/MobileNet/training/run_20241202_151921/fold_2/summary_log_fold_2.csv', '../Models Evaluation/MobileNet/training/run_20241202_151921/fold_3/summary_log_fold_3.csv', '../Models Evaluation/MobileNet/training/run_20241202_151921/fold_1/summary_log_fold_1.csv', '../Models Evaluation/MobileNet/training/run_20241202_151150/fold_2/summary_log_fold_2.csv', '../Models Evaluation/MobileNet/training/run_20241202_151150/fold_1/summary_log_fold_1.csv', '../Models Evaluation/MobileNet/training/run_20241204_104948/fold_4/summary_log_fold_4.csv', '../Models Evaluation/MobileNet/training/run_20241204_104948/fold_5/summary_log_fold_5.csv', '../Models Evaluation/MobileNet/training/run_20241204_104948/fold_2/summary_log_fold_2.csv', '../Models Evaluation/MobileNet/training/run_20241204_104948/fold_3/summary_log_fold_3.csv', '../Models Evaluation/MobileNet/training/run_20241204_104948/fold_1/summary_log_fold_1.csv', '../Models Evaluation/MobileNet/training/run_20241204_140027/fold_4/summary_log_fold_4.csv', '../Models Evaluation/MobileNet/training/run_20241204_140027/fold_5/summary_log_fold_5.csv', '../Models Evaluation/MobileNet/training/run_20241204_140027/fold_2/summary_log_fold_2.csv', '../Models Evaluation/MobileNet/training/run_20241204_140027/fold_3/summary_log_fold_3.csv', '../Models Evaluation/MobileNet/training/run_20241204_140027/fold_1/summary_log_fold_1.csv', '../Models Evaluation/Xception/training/run_20241204_144302/fold_1/summary_log_fold_1.csv', '../Models Evaluation/Xception/training/run_20241202_184733/fold_4/summary_log_fold_4.csv', '../Models Evaluation/Xception/training/run_20241202_184733/fold_5/summary_log_fold_5.csv', '../Models Evaluation/Xception/training/run_20241202_184733/fold_2/summary_log_fold_2.csv', '../Models Evaluation/Xception/training/run_20241202_184733/fold_3/summary_log_fold_3.csv', '../Models Evaluation/Xception/training/run_20241202_184733/fold_1/summary_log_fold_1.csv', '../Models Evaluation/Xception/training/run_20241204_120150/fold_4/summary_log_fold_4.csv', '../Models Evaluation/Xception/training/run_20241204_120150/fold_5/summary_log_fold_5.csv', '../Models Evaluation/Xception/training/run_20241204_120150/fold_2/summary_log_fold_2.csv', '../Models Evaluation/Xception/training/run_20241204_120150/fold_3/summary_log_fold_3.csv', '../Models Evaluation/Xception/training/run_20241204_120150/fold_1/summary_log_fold_1.csv']\n",
      "../Models Evaluation/MobileNet/training/run_20241202_152610/fold_4/summary_log_fold_4.csv\n",
      "../Models Evaluation/MobileNet/training/run_20241202_152610/fold_5/summary_log_fold_5.csv\n",
      "../Models Evaluation/MobileNet/training/run_20241202_152610/fold_2/summary_log_fold_2.csv\n",
      "../Models Evaluation/MobileNet/training/run_20241202_152610/fold_3/summary_log_fold_3.csv\n",
      "../Models Evaluation/MobileNet/training/run_20241202_152610/fold_1/summary_log_fold_1.csv\n",
      "../Models Evaluation/MobileNet/training/run_20241202_151542/fold_4/summary_log_fold_4.csv\n",
      "../Models Evaluation/MobileNet/training/run_20241202_151542/fold_5/summary_log_fold_5.csv\n",
      "../Models Evaluation/MobileNet/training/run_20241202_151542/fold_2/summary_log_fold_2.csv\n",
      "../Models Evaluation/MobileNet/training/run_20241202_151542/fold_3/summary_log_fold_3.csv\n",
      "../Models Evaluation/MobileNet/training/run_20241202_151542/fold_1/summary_log_fold_1.csv\n",
      "../Models Evaluation/MobileNet/training/run_20241202_151921/fold_4/summary_log_fold_4.csv\n",
      "../Models Evaluation/MobileNet/training/run_20241202_151921/fold_5/summary_log_fold_5.csv\n",
      "../Models Evaluation/MobileNet/training/run_20241202_151921/fold_2/summary_log_fold_2.csv\n",
      "../Models Evaluation/MobileNet/training/run_20241202_151921/fold_3/summary_log_fold_3.csv\n",
      "../Models Evaluation/MobileNet/training/run_20241202_151921/fold_1/summary_log_fold_1.csv\n",
      "../Models Evaluation/MobileNet/training/run_20241202_151150/fold_2/summary_log_fold_2.csv\n",
      "../Models Evaluation/MobileNet/training/run_20241202_151150/fold_1/summary_log_fold_1.csv\n",
      "../Models Evaluation/MobileNet/training/run_20241204_104948/fold_4/summary_log_fold_4.csv\n",
      "../Models Evaluation/MobileNet/training/run_20241204_104948/fold_5/summary_log_fold_5.csv\n",
      "../Models Evaluation/MobileNet/training/run_20241204_104948/fold_2/summary_log_fold_2.csv\n",
      "../Models Evaluation/MobileNet/training/run_20241204_104948/fold_3/summary_log_fold_3.csv\n",
      "../Models Evaluation/MobileNet/training/run_20241204_104948/fold_1/summary_log_fold_1.csv\n",
      "../Models Evaluation/MobileNet/training/run_20241204_140027/fold_4/summary_log_fold_4.csv\n",
      "../Models Evaluation/MobileNet/training/run_20241204_140027/fold_5/summary_log_fold_5.csv\n",
      "../Models Evaluation/MobileNet/training/run_20241204_140027/fold_2/summary_log_fold_2.csv\n",
      "../Models Evaluation/MobileNet/training/run_20241204_140027/fold_3/summary_log_fold_3.csv\n",
      "../Models Evaluation/MobileNet/training/run_20241204_140027/fold_1/summary_log_fold_1.csv\n",
      "../Models Evaluation/Xception/training/run_20241204_144302/fold_1/summary_log_fold_1.csv\n",
      "../Models Evaluation/Xception/training/run_20241202_184733/fold_4/summary_log_fold_4.csv\n",
      "../Models Evaluation/Xception/training/run_20241202_184733/fold_5/summary_log_fold_5.csv\n",
      "../Models Evaluation/Xception/training/run_20241202_184733/fold_2/summary_log_fold_2.csv\n",
      "../Models Evaluation/Xception/training/run_20241202_184733/fold_3/summary_log_fold_3.csv\n",
      "../Models Evaluation/Xception/training/run_20241202_184733/fold_1/summary_log_fold_1.csv\n",
      "../Models Evaluation/Xception/training/run_20241204_120150/fold_4/summary_log_fold_4.csv\n",
      "../Models Evaluation/Xception/training/run_20241204_120150/fold_5/summary_log_fold_5.csv\n",
      "../Models Evaluation/Xception/training/run_20241204_120150/fold_2/summary_log_fold_2.csv\n",
      "../Models Evaluation/Xception/training/run_20241204_120150/fold_3/summary_log_fold_3.csv\n",
      "../Models Evaluation/Xception/training/run_20241204_120150/fold_1/summary_log_fold_1.csv\n",
      "Consolidated data saved to consolidated_summary.csv\n"
     ]
    }
   ],
   "source": [
    "import os\n",
    "import pandas as pd\n",
    "import glob\n",
    "\n",
    "# Define the parent folder name and file pattern\n",
    "parent_folder = \"../Models Evaluation\"\n",
    "file_prefix = \"summary_log_fold_\"\n",
    "output_file = \"consolidated_summary.csv\"\n",
    "\n",
    "# Initialize an empty DataFrame to store consolidated data\n",
    "consolidated_data = pd.DataFrame()\n",
    "\n",
    "# Search for matching files using glob pattern\n",
    "search_pattern = f\"**/{parent_folder}/**/{file_prefix}*.csv\"\n",
    "matching_files = glob.glob(search_pattern, recursive=True)\n",
    "\n",
    "for file_path in matching_files:\n",
    "\n",
    "    try:\n",
    "        # Read the CSV file into a DataFrame\n",
    "        data = pd.read_csv(file_path)\n",
    "\n",
    "        # Append the data to the consolidated DataFrame\n",
    "        consolidated_data = pd.concat([consolidated_data, data], ignore_index=True)\n",
    "    except Exception as e:\n",
    "        print(f\"Error reading {file_path}: {e}\")\n",
    "\n",
    "# Save the consolidated data to a CSV file\n",
    "if not consolidated_data.empty:\n",
    "    consolidated_data.to_csv(output_file, index=False)\n",
    "    print(f\"Consolidated data saved to {output_file}\")\n",
    "else:\n",
    "    print(\"No matching CSV files were found.\")\n"
   ]
  }
 ],
 "metadata": {
  "kernelspec": {
   "display_name": "tf217",
   "language": "python",
   "name": "python3"
  },
  "language_info": {
   "codemirror_mode": {
    "name": "ipython",
    "version": 3
   },
   "file_extension": ".py",
   "mimetype": "text/x-python",
   "name": "python",
   "nbconvert_exporter": "python",
   "pygments_lexer": "ipython3",
   "version": "3.12.3"
  }
 },
 "nbformat": 4,
 "nbformat_minor": 2
}
