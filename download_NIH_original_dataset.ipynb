{
 "cells": [
  {
   "cell_type": "code",
   "execution_count": 1,
   "metadata": {},
   "outputs": [],
   "source": [
    "_ = ! git clone https://github.com/achmadbauravindah/ravin_kaggle_credential.git # get credential from kaggle\n",
    "_ = ! pip install kaggle # install kaggle on drevice\n",
    "_ = ! mkdir ~/.kaggle # make hidden folder .kaggle to configure credential\n",
    "_ = ! cp ravin_kaggle_credential/kaggle.json ~/.kaggle/ # copy credential from github to .kaggle folder\n",
    "_ = ! chmod 600 ~/.kaggle/kaggle.json # change access\n",
    "# _ = ! kaggle datasets download orl-datasets # which dataset to download\n",
    "# _ = ! unzip orl-datasets # unzip if data zipped"
   ]
  },
  {
   "cell_type": "code",
   "execution_count": 2,
   "metadata": {},
   "outputs": [
    {
     "name": "stdout",
     "output_type": "stream",
     "text": [
      "Dataset URL: https://www.kaggle.com/datasets/nih-chest-xrays/data\n",
      "License(s): CC0-1.0\n",
      "Downloading data.zip to /root/projects/tf217\n",
      "100%|█████████████████████████████████████▉| 42.0G/42.0G [28:08<00:00, 23.0MB/s]\n",
      "100%|██████████████████████████████████████| 42.0G/42.0G [28:08<00:00, 26.7MB/s]\n"
     ]
    }
   ],
   "source": [
    "!kaggle datasets download -d nih-chest-xrays/data"
   ]
  },
  {
   "cell_type": "code",
   "execution_count": 3,
   "metadata": {},
   "outputs": [],
   "source": [
    "import zipfile\n",
    "with zipfile.ZipFile('data.zip', 'r') as zip_ref:\n",
    "    zip_ref.extractall('nih_chest_xrays')"
   ]
  }
 ],
 "metadata": {
  "kernelspec": {
   "display_name": "tf217",
   "language": "python",
   "name": "python3"
  },
  "language_info": {
   "codemirror_mode": {
    "name": "ipython",
    "version": 3
   },
   "file_extension": ".py",
   "mimetype": "text/x-python",
   "name": "python",
   "nbconvert_exporter": "python",
   "pygments_lexer": "ipython3",
   "version": "3.12.3"
  }
 },
 "nbformat": 4,
 "nbformat_minor": 2
}
