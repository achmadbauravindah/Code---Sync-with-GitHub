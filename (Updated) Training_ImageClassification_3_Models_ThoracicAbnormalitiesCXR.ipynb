{
 "cells": [
  {
   "cell_type": "markdown",
   "metadata": {
    "id": "aV_ApICAFyAS"
   },
   "source": [
    "The 3 Models are:\n",
    "- MobileNet\n",
    "- ShuffleNet\n",
    "- EfficientNet"
   ]
  },
  {
   "cell_type": "markdown",
   "metadata": {
    "id": "Zz3vyoQhx6bi"
   },
   "source": [
    "# Device Information\n"
   ]
  },
  {
   "cell_type": "code",
   "execution_count": 1,
   "metadata": {
    "colab": {
     "base_uri": "https://localhost:8080/"
    },
    "id": "6vGAe1Nyx6bk",
    "outputId": "c482f6af-0328-4377-d2f8-647af775e82f"
   },
   "outputs": [
    {
     "name": "stdout",
     "output_type": "stream",
     "text": [
      "KNAME TYPE   SIZE MODEL\n",
      "sda   disk 388.4M Virtual Disk\n",
      "sdb   disk    16G Virtual Disk\n",
      "sdc   disk     1T Virtual Disk\n"
     ]
    }
   ],
   "source": [
    "! lsblk -io KNAME,TYPE,SIZE,MODEL #disk"
   ]
  },
  {
   "cell_type": "code",
   "execution_count": 2,
   "metadata": {
    "colab": {
     "base_uri": "https://localhost:8080/"
    },
    "id": "apX9TCZVx6bm",
    "outputId": "c32893f5-c9c5-4842-ec55-3bbaaaa2e6a4"
   },
   "outputs": [
    {
     "name": "stdout",
     "output_type": "stream",
     "text": [
      "achmadbauravindah           \n",
      "    description: Computer\n",
      "    width: 64 bits\n",
      "    capabilities: smp vsyscall32\n",
      "  *-core\n",
      "       description: Motherboard\n",
      "       physical id: 0\n",
      "     *-memory\n",
      "          description: System memory\n",
      "          physical id: 1\n",
      "          size: 64GiB\n",
      "     *-cpu\n",
      "          product: 12th Gen Intel(R) Core(TM) i9-12900\n",
      "          vendor: Intel Corp.\n",
      "          physical id: 2\n",
      "          bus info: cpu@0\n",
      "          version: 6.151.2\n",
      "          width: 64 bits\n",
      "          capabilities: fpu fpu_exception wp vme de pse tsc msr pae mce cx8 apic sep mtrr pge mca cmov pat pse36 clflush mmx fxsr sse sse2 ss ht syscall nx pdpe1gb rdtscp x86-64 constant_tsc rep_good nopl xtopology tsc_reliable nonstop_tsc cpuid pni pclmulqdq vmx ssse3 fma cx16 pcid sse4_1 sse4_2 x2apic movbe popcnt tsc_deadline_timer aes xsave avx f16c rdrand hypervisor lahf_lm abm 3dnowprefetch invpcid_single ssbd ibrs ibpb stibp ibrs_enhanced tpr_shadow vnmi ept vpid ept_ad fsgsbase tsc_adjust bmi1 avx2 smep bmi2 erms invpcid rdseed adx smap clflushopt clwb sha_ni xsaveopt xsavec xgetbv1 xsaves avx_vnni umip waitpkg gfni vaes vpclmulqdq rdpid movdiri movdir64b fsrm md_clear serialize flush_l1d arch_capabilities\n",
      "          configuration: microcode=4294967295\n",
      "     *-display\n",
      "          description: 3D controller\n",
      "          product: Basic Render Driver\n",
      "          vendor: Microsoft Corporation\n",
      "          physical id: 3\n",
      "          bus info: pci@4638:00:00.0\n",
      "          version: 00\n",
      "          width: 32 bits\n",
      "          clock: 33MHz\n",
      "          capabilities: bus_master cap_list\n",
      "          configuration: driver=dxgkrnl latency=0\n",
      "          resources: irq:0\n",
      "     *-scsi:0\n",
      "          description: SCSI storage controller\n",
      "          product: Virtio 1.0 console\n",
      "          vendor: Red Hat, Inc.\n",
      "          physical id: 4\n",
      "          bus info: pci@5582:00:00.0\n",
      "          version: 01\n",
      "          width: 64 bits\n",
      "          clock: 33MHz\n",
      "          capabilities: scsi msix bus_master cap_list\n",
      "          configuration: driver=virtio-pci latency=64\n",
      "          resources: iomemory:90-8f iomemory:90-8f iomemory:90-8f irq:0 memory:9ffe00000-9ffe00fff memory:9ffe01000-9ffe01fff memory:9ffe02000-9ffe02fff\n",
      "        *-virtio0 UNCLAIMED\n",
      "             description: Virtual I/O device\n",
      "             physical id: 0\n",
      "             bus info: virtio@0\n",
      "             configuration: driver=virtio_console\n",
      "     *-generic\n",
      "          description: System peripheral\n",
      "          product: Virtio file system\n",
      "          vendor: Red Hat, Inc.\n",
      "          physical id: 0\n",
      "          bus info: pci@57bb:00:00.0\n",
      "          version: 01\n",
      "          width: 64 bits\n",
      "          clock: 33MHz\n",
      "          capabilities: msix bus_master cap_list\n",
      "          configuration: driver=virtio-pci latency=64\n",
      "          resources: iomemory:e0-df iomemory:e0-df iomemory:c0-bf irq:0 memory:e00000000-e00000fff memory:e00001000-e00001fff memory:c00000000-dffffffff\n",
      "        *-virtio1 UNCLAIMED\n",
      "             description: Virtual I/O device\n",
      "             physical id: 0\n",
      "             bus info: virtio@1\n",
      "             configuration: driver=virtiofs\n",
      "     *-pnp00:00\n",
      "          product: PnP device PNP0b00\n",
      "          physical id: 5\n",
      "          capabilities: pnp\n",
      "          configuration: driver=rtc_cmos\n",
      "     *-scsi:1\n",
      "          physical id: 6\n",
      "          logical name: scsi0\n",
      "        *-disk:0\n",
      "             description: SCSI Disk\n",
      "             product: Virtual Disk\n",
      "             vendor: Linux\n",
      "             physical id: 0.0.0\n",
      "             bus info: scsi@0:0.0.0\n",
      "             logical name: /dev/sda\n",
      "             version: 1.0\n",
      "             size: 388MiB\n",
      "             capabilities: extended_attributes large_files huge_files extents ext2 initialized\n",
      "             configuration: ansiversion=5 filesystem=ext2 logicalsectorsize=512 sectorsize=512 state=clean\n",
      "        *-disk:1\n",
      "             description: Linux swap volume\n",
      "             product: Virtual Disk\n",
      "             vendor: Msft\n",
      "             physical id: 0.0.1\n",
      "             bus info: scsi@0:0.0.1\n",
      "             logical name: /dev/sdb\n",
      "             version: 1\n",
      "             serial: 9c98513d-1c1f-474c-88ae-2dc89a31f2ca\n",
      "             size: 16GiB\n",
      "             capacity: 16GiB\n",
      "             capabilities: swap initialized\n",
      "             configuration: ansiversion=5 filesystem=swap logicalsectorsize=512 pagesize=4096 sectorsize=4096\n",
      "        *-disk:2\n",
      "             description: EXT4 volume\n",
      "             product: Virtual Disk\n",
      "             vendor: Linux\n",
      "             physical id: 0.0.2\n",
      "             bus info: scsi@0:0.0.2\n",
      "             logical name: /dev/sdc\n",
      "             logical name: /\n",
      "             logical name: /mnt/wslg/distro\n",
      "             version: 1.0\n",
      "             serial: ab3a7251-1e74-4188-93f0-c7172618a129\n",
      "             size: 1TiB\n",
      "             capabilities: journaled extended_attributes large_files huge_files dir_nlink recover 64bit extents ext4 ext2 initialized\n",
      "             configuration: ansiversion=5 created=2024-10-04 16:49:54 filesystem=ext4 lastmountpoint=/distro logicalsectorsize=512 modified=2024-12-02 14:45:54 mount.fstype=ext4 mount.options=ro,relatime,discard,errors=remount-ro,data=ordered mounted=2024-12-02 14:45:54 sectorsize=4096 state=mounted\n",
      "  *-usbhost:0\n",
      "       product: USB/IP Virtual Host Controller\n",
      "       vendor: Linux 5.15.167.4-microsoft-standard-WSL2 vhci_hcd\n",
      "       physical id: 1\n",
      "       bus info: usb@1\n",
      "       logical name: usb1\n",
      "       version: 5.15\n",
      "       capabilities: usb-2.00\n",
      "       configuration: driver=hub slots=8 speed=480Mbit/s\n",
      "  *-usbhost:1\n",
      "       product: USB/IP Virtual Host Controller\n",
      "       vendor: Linux 5.15.167.4-microsoft-standard-WSL2 vhci_hcd\n",
      "       physical id: 2\n",
      "       bus info: usb@2\n",
      "       logical name: usb2\n",
      "       version: 5.15\n",
      "       capabilities: usb-3.00\n",
      "       configuration: driver=hub slots=8 speed=5000Mbit/s\n",
      "  *-network\n",
      "       description: Ethernet interface\n",
      "       physical id: 3\n",
      "       logical name: eth0\n",
      "       serial: 00:15:5d:6e:ad:c4\n",
      "       size: 10Gbit/s\n",
      "       capabilities: ethernet physical\n",
      "       configuration: autonegotiation=off broadcast=yes driver=hv_netvsc driverversion=5.15.167.4-microsoft-standard-W duplex=full firmware=N/A ip=172.20.66.36 link=yes multicast=yes speed=10Gbit/s\n"
     ]
    }
   ],
   "source": [
    "_ = ! apt install lshw #CPU\n",
    "! lshw"
   ]
  },
  {
   "cell_type": "code",
   "execution_count": 3,
   "metadata": {
    "colab": {
     "base_uri": "https://localhost:8080/"
    },
    "id": "Czsv_Erhx6bm",
    "outputId": "3d2767aa-c658-4972-8b88-345dad285bbd"
   },
   "outputs": [
    {
     "name": "stdout",
     "output_type": "stream",
     "text": [
      "Wed Dec  4 14:00:24 2024       \n",
      "+-----------------------------------------------------------------------------------------+\n",
      "| NVIDIA-SMI 565.51.01              Driver Version: 565.90         CUDA Version: 12.7     |\n",
      "|-----------------------------------------+------------------------+----------------------+\n",
      "| GPU  Name                 Persistence-M | Bus-Id          Disp.A | Volatile Uncorr. ECC |\n",
      "| Fan  Temp   Perf          Pwr:Usage/Cap |           Memory-Usage | GPU-Util  Compute M. |\n",
      "|                                         |                        |               MIG M. |\n",
      "|=========================================+========================+======================|\n",
      "|   0  NVIDIA GeForce RTX 3080        On  |   00000000:01:00.0 Off |                  N/A |\n",
      "|  0%   43C    P8             25W /  320W |     529MiB /  10240MiB |     33%      Default |\n",
      "|                                         |                        |                  N/A |\n",
      "+-----------------------------------------+------------------------+----------------------+\n",
      "                                                                                         \n",
      "+-----------------------------------------------------------------------------------------+\n",
      "| Processes:                                                                              |\n",
      "|  GPU   GI   CI        PID   Type   Process name                              GPU Memory |\n",
      "|        ID   ID                                                               Usage      |\n",
      "|=========================================================================================|\n",
      "|    0   N/A  N/A        33      G   /Xwayland                                   N/A      |\n",
      "+-----------------------------------------------------------------------------------------+\n"
     ]
    }
   ],
   "source": [
    "gpu_info = !nvidia-smi\n",
    "gpu_info = '\\n'.join(gpu_info)\n",
    "if gpu_info.find('failed') >= 0:\n",
    "  print('Not connected to a GPU')\n",
    "else:\n",
    "  print(gpu_info)"
   ]
  },
  {
   "cell_type": "markdown",
   "metadata": {
    "id": "bKSwQJ9Hx6bm"
   },
   "source": [
    "# Welcome to Thoracic Abnormalities Detection with Mobile Model\n"
   ]
  },
  {
   "cell_type": "markdown",
   "metadata": {
    "id": "Us0ri3lDx6bm"
   },
   "source": [
    "Dataset: Online Dataset\n",
    "<br>\n",
    "<br>\n",
    "Dataset Reference: https://vindr.ai/datasets/cxr"
   ]
  },
  {
   "cell_type": "markdown",
   "metadata": {
    "id": "zaRvhRTLx6bn"
   },
   "source": [
    "### Connect Google Drive"
   ]
  },
  {
   "cell_type": "code",
   "execution_count": 4,
   "metadata": {
    "colab": {
     "base_uri": "https://localhost:8080/"
    },
    "id": "WDo5AWK5x6bn",
    "outputId": "c1e3fd7d-7f8b-4396-a406-b8794c565769"
   },
   "outputs": [],
   "source": [
    "# from google.colab import drive\n",
    "# drive.mount('/content/drive')"
   ]
  },
  {
   "cell_type": "markdown",
   "metadata": {
    "id": "GhNybNN8x6bn"
   },
   "source": [
    "### Import All Requirements Library"
   ]
  },
  {
   "cell_type": "code",
   "execution_count": 5,
   "metadata": {
    "id": "n5r6dXC-b3sf"
   },
   "outputs": [
    {
     "name": "stderr",
     "output_type": "stream",
     "text": [
      "2024-12-04 14:00:25.113064: I tensorflow/core/util/port.cc:153] oneDNN custom operations are on. You may see slightly different numerical results due to floating-point round-off errors from different computation orders. To turn them off, set the environment variable `TF_ENABLE_ONEDNN_OPTS=0`.\n",
      "2024-12-04 14:00:25.121342: E external/local_xla/xla/stream_executor/cuda/cuda_fft.cc:477] Unable to register cuFFT factory: Attempting to register factory for plugin cuFFT when one has already been registered\n",
      "WARNING: All log messages before absl::InitializeLog() is called are written to STDERR\n",
      "E0000 00:00:1733288425.130916  564112 cuda_dnn.cc:8310] Unable to register cuDNN factory: Attempting to register factory for plugin cuDNN when one has already been registered\n",
      "E0000 00:00:1733288425.133654  564112 cuda_blas.cc:1418] Unable to register cuBLAS factory: Attempting to register factory for plugin cuBLAS when one has already been registered\n",
      "2024-12-04 14:00:25.145148: I tensorflow/core/platform/cpu_feature_guard.cc:210] This TensorFlow binary is optimized to use available CPU instructions in performance-critical operations.\n",
      "To enable the following instructions: AVX2 AVX_VNNI FMA, in other operations, rebuild TensorFlow with the appropriate compiler flags.\n"
     ]
    }
   ],
   "source": [
    "# Full Tensorflow\n",
    "import tensorflow as tf\n",
    "from tensorflow.keras.layers import Input, Conv2D, Concatenate, Dropout, Conv2DTranspose, MaxPooling2D, UpSampling2D, BatchNormalization, Activation, SeparableConv2D, Add, GlobalAveragePooling2D, Dense, Flatten, AveragePooling2D, Lambda, Rescaling\n",
    "from tensorflow import keras\n",
    "from tensorflow.keras.utils import plot_model\n",
    "from tensorflow.keras.callbacks import CSVLogger, ModelCheckpoint\n",
    "from tensorflow.keras import backend as K\n",
    "from tensorflow.keras.preprocessing.image import load_img, array_to_img, img_to_array\n",
    "from tensorflow.keras import Model\n",
    "from tensorflow.keras import metrics\n",
    "from tensorflow.keras.callbacks import Callback\n",
    "\n",
    "# MISC\n",
    "from datetime import datetime\n",
    "import matplotlib.pyplot as plt\n",
    "from tqdm import tqdm\n",
    "import numpy as np\n",
    "import pandas as pd\n",
    "# import gdown\n",
    "from datetime import datetime\n",
    "import os\n",
    "import glob"
   ]
  },
  {
   "cell_type": "code",
   "execution_count": 6,
   "metadata": {
    "id": "PmTVTz_5x6bn"
   },
   "outputs": [],
   "source": [
    "# Install Writer Excel (Untuk dokumentasi hasil pelatihan)\n",
    "_ = ! pip install xlsxwriter"
   ]
  },
  {
   "cell_type": "markdown",
   "metadata": {
    "id": "Ad9zku42x6bn"
   },
   "source": [
    "### Set Dataset Path"
   ]
  },
  {
   "cell_type": "code",
   "execution_count": 7,
   "metadata": {},
   "outputs": [],
   "source": [
    "parent_dir = \"../Code - Thoracic Abnormalities (only Windows)/\""
   ]
  },
  {
   "cell_type": "code",
   "execution_count": 8,
   "metadata": {
    "id": "vm1MNCCqx6bo"
   },
   "outputs": [],
   "source": [
    "# Drive\n",
    "EXCEL_FILENAME = \"Split_NIH_ThoracicAbnotmalities_Dataset.xlsx\""
   ]
  },
  {
   "cell_type": "code",
   "execution_count": 9,
   "metadata": {
    "colab": {
     "base_uri": "https://localhost:8080/"
    },
    "id": "IjRtUW2Cfv5f",
    "outputId": "207682e5-03cf-41b6-fa1d-85aa9dd2552a"
   },
   "outputs": [],
   "source": [
    "# # Download Dataset in zip, this happen because more efficient to load npy npy images\n",
    "# def download_dataset(id_url):\n",
    "#     # Download Folder from Another Account Shared Folder\n",
    "#     url = \"https://drive.google.com/uc?id=\" + id_url\n",
    "#     # file_output = \"Rice Leafs Dataset (Preprocessed).zip\"\n",
    "#     file_output = \"NIH Thoracic Dataset (Filtered).zip\"\n",
    "#     gdown.download(url, file_output, quiet=False)\n",
    "\n",
    "#     # _ = ! unzip \"Rice Leafs Dataset (Preprocessed).zip\" # unzip if data zipped\n",
    "#     _ = ! unzip \"NIH Thoracic Dataset (Filtered).zip\" # unzip if data zipped\n",
    "\n",
    "# id_url = \"1sAwTqnYk92MWnkWvYGJsPetIvfNPH_E-\"\n",
    "# download_dataset(id_url)"
   ]
  },
  {
   "cell_type": "markdown",
   "metadata": {
    "id": "CxV2tr1ogDiq"
   },
   "source": [
    "### Initiate Labels (Abnormalities)"
   ]
  },
  {
   "cell_type": "code",
   "execution_count": 10,
   "metadata": {
    "colab": {
     "base_uri": "https://localhost:8080/"
    },
    "id": "Ubdf1zRMgH_Q",
    "outputId": "73348745-96ef-4e95-b2f9-ad76a8666f15"
   },
   "outputs": [
    {
     "data": {
      "text/plain": [
       "Index(['atelectasis', 'cardiomegaly', 'effusion', 'pneumothorax',\n",
       "       'nodule/mass'],\n",
       "      dtype='object')"
      ]
     },
     "execution_count": 10,
     "metadata": {},
     "output_type": "execute_result"
    }
   ],
   "source": [
    "meta_data_df = pd.read_excel(EXCEL_FILENAME)\n",
    "selected_labels = meta_data_df.columns[2:]\n",
    "selected_labels"
   ]
  },
  {
   "cell_type": "markdown",
   "metadata": {
    "id": "-rPLIcttx6bo"
   },
   "source": [
    "### Show 1 Sample Image"
   ]
  },
  {
   "cell_type": "code",
   "execution_count": 11,
   "metadata": {
    "colab": {
     "base_uri": "https://localhost:8080/",
     "height": 488
    },
    "id": "QzR8A171x6bo",
    "outputId": "4a3a2fbb-5987-4400-b507-e9e758011a52"
   },
   "outputs": [
    {
     "name": "stdout",
     "output_type": "stream",
     "text": [
      "Sample Image\n",
      "Images Path: ../Code - Thoracic Abnormalities (only Windows)/NIH Original Dataset/images_006/images/00012326_000.png\n",
      "LABEL: ['pneumothorax']\n"
     ]
    },
    {
     "data": {
      "image/png": "[encoded data removed]",
      "text/plain": [
       "<Figure size 640x480 with 1 Axes>"
      ]
     },
     "metadata": {},
     "output_type": "display_data"
    }
   ],
   "source": [
    "root_directory = \"../Code - Thoracic Abnormalities (only Windows)/NIH Original Dataset\" # If you in Google Colab,  change the root directory\n",
    "# root_directory = \"data\n",
    "image_name = meta_data_df['Image Index'][30]\n",
    "sample_image = glob.glob(f\"{root_directory}/**/{image_name}\", recursive=True)[0]\n",
    "# Show label\n",
    "row = meta_data_df.iloc[30, 2:]\n",
    "labels = row[row == 1].index.tolist()\n",
    "\n",
    "print(\"Sample Image\")\n",
    "print(\"Images Path: {}\".format(sample_image))\n",
    "fig, axes = plt.subplots(1, 1)\n",
    "_ = axes.imshow(img_to_array(load_img(sample_image, target_size=(224, 224), color_mode='grayscale')).astype('uint8'))\n",
    "print(\"LABEL:\", labels)"
   ]
  },
  {
   "cell_type": "markdown",
   "metadata": {
    "id": "avsdJm63Zhfb"
   },
   "source": [
    "# MobileNet Model\n"
   ]
  },
  {
   "cell_type": "code",
   "execution_count": 12,
   "metadata": {
    "id": "1lGqM1kGYhnH"
   },
   "outputs": [],
   "source": [
    "class MobileNet_Model(Model):\n",
    "    def __init__(self):\n",
    "        pass\n",
    "\n",
    "    def custom_net_layers(self, inputs):\n",
    "        custom_net_model = tf.keras.applications.MobileNet(\n",
    "                                                        include_top=False,\n",
    "                                                        weights='imagenet',\n",
    "                                                        input_tensor=inputs,\n",
    "                                                        input_shape=(224, 224, 3),\n",
    "                                                        pooling='max')\n",
    "        custom_layers = custom_net_model.output\n",
    "        return custom_layers\n",
    "\n",
    "\n",
    "\n",
    "    def call(self, inputs):\n",
    "        # MobileNet Layers\n",
    "        custom_net_layers = self.custom_net_layers(inputs)\n",
    "\n",
    "        # FCL Classifier\n",
    "        outputs = Dense(5, activation='sigmoid')(custom_net_layers)\n",
    "        return outputs\n",
    "\n",
    "def buildModelMobileNet():\n",
    "    global MobileNet_Model\n",
    "    # MODEL BUILDING\n",
    "    input_shape = (224, 224, 3)\n",
    "    input_layer = Input(shape=input_shape, name='input_layer')\n",
    "    build_model = MobileNet_Model()\n",
    "    output_layer = build_model.call(input_layer)\n",
    "\n",
    "    # Final Model\n",
    "    model = tf.keras.Model(inputs=[input_layer], outputs=[output_layer])\n",
    "    learning_rate = 0.0001\n",
    "    optimizer = keras.optimizers.Adam(learning_rate=learning_rate)\n",
    "\n",
    "    # Compile Model\n",
    "    model.compile(optimizer=optimizer, loss='binary_crossentropy', metrics=['accuracy'])\n",
    "    return model"
   ]
  },
  {
   "cell_type": "markdown",
   "metadata": {
    "id": "Osea_wxkZxhA"
   },
   "source": [
    "# ShuffleNet Models, I will try xception first"
   ]
  },
  {
   "cell_type": "code",
   "execution_count": 13,
   "metadata": {
    "id": "HcVtX1hGZxhA"
   },
   "outputs": [],
   "source": [
    "class Xception_Model(Model):\n",
    "    def __init__(self):\n",
    "        pass\n",
    "\n",
    "    def custom_net_layers(self, inputs):\n",
    "        custom_net_model = tf.keras.applications.Xception(\n",
    "                                                        include_top=False,\n",
    "                                                        weights=None,\n",
    "                                                        input_tensor=inputs,\n",
    "                                                        input_shape=(224, 224, 3),\n",
    "                                                        pooling='avg')\n",
    "        custom_layers = custom_net_model.output\n",
    "        return custom_layers\n",
    "\n",
    "\n",
    "\n",
    "    def call(self, inputs):\n",
    "        # Xception Layers\n",
    "        custom_net_layers = self.custom_net_layers(inputs)\n",
    "\n",
    "        # FCL Classifier\n",
    "        outputs = Dense(5, activation='sigmoid')(custom_net_layers)\n",
    "        return outputs\n",
    "\n",
    "def buildModelXception():\n",
    "    global Xception_Model\n",
    "    # MODEL BUILDING\n",
    "    input_shape = (224, 224, 3)\n",
    "    input_layer = Input(shape=input_shape, name='input_layer')\n",
    "    build_model = Xception_Model()\n",
    "    output_layer = build_model.call(input_layer)\n",
    "\n",
    "    # Final Model\n",
    "    model = tf.keras.Model(inputs=[input_layer], outputs=[output_layer])\n",
    "    learning_rate = 0.001\n",
    "    optimizer = keras.optimizers.Adam(learning_rate=learning_rate)\n",
    "\n",
    "    # Compile Model\n",
    "    model.compile(optimizer=optimizer, loss='binary_crossentropy', metrics=['accuracy'])\n",
    "    return model\n",
    "\n",
    "\n"
   ]
  },
  {
   "cell_type": "markdown",
   "metadata": {
    "id": "_EOuByQ8Zzlz"
   },
   "source": [
    "# EfficientNet Model\n"
   ]
  },
  {
   "cell_type": "code",
   "execution_count": 14,
   "metadata": {
    "id": "ANgXWbVqZzl0"
   },
   "outputs": [],
   "source": [
    "# class EfficientNetB0_Model(Model):\n",
    "#     def __init__(self):\n",
    "#         pass\n",
    "\n",
    "#     def custom_net_layers(self, inputs):\n",
    "#         custom_net_model = tf.keras.applications.EfficientNetB0(\n",
    "#                                                         include_top=False,\n",
    "#                                                         weights='imagenet',\n",
    "#                                                         input_tensor=inputs,\n",
    "#                                                         input_shape=(224, 224, 3),\n",
    "#                                                         pooling='avg',\n",
    "#                                                         classes=3)\n",
    "#         custom_layers = custom_net_model.output\n",
    "#         return custom_layers\n",
    "\n",
    "\n",
    "\n",
    "#     def call(self, inputs):\n",
    "#         # EfficientNetB0 Layers\n",
    "#         custom_net_layers = self.custom_net_layers(inputs)\n",
    "\n",
    "#         # FCL Classifier\n",
    "#         outputs = Dense(3, activation='softmax')(custom_net_layers)\n",
    "#         return outputs\n",
    "\n",
    "# def buildModelEfficientNetB0():\n",
    "#     global EfficientNetB0_Model\n",
    "#     # MODEL BUILDING\n",
    "#     input_shape = (224, 224, 3)\n",
    "#     input_layer = Input(shape=input_shape, name='input_layer')\n",
    "#     build_model = EfficientNetB0_Model()\n",
    "#     output_layer = build_model.call(input_layer)\n",
    "\n",
    "#     # Final Model\n",
    "#     model = tf.keras.Model(inputs=[input_layer], outputs=[output_layer])\n",
    "#     learning_rate = 0.001\n",
    "#     optimizer = keras.optimizers.Adam(learning_rate=learning_rate)\n",
    "\n",
    "#     # Compile Model\n",
    "#     model.compile(optimizer=optimizer, loss='categorical_crossentropy', metrics=['accuracy'])\n",
    "#     return model"
   ]
  },
  {
   "cell_type": "markdown",
   "metadata": {
    "id": "m1NPec8gIJFu"
   },
   "source": [
    "### Get Images Array from Filepath in Excel"
   ]
  },
  {
   "cell_type": "code",
   "execution_count": 15,
   "metadata": {
    "id": "Cymz24lMIJFv"
   },
   "outputs": [],
   "source": [
    "import os\n",
    "import numpy as np\n",
    "import pandas as pd\n",
    "from tqdm import tqdm\n",
    "from concurrent.futures import ThreadPoolExecutor\n",
    "from tensorflow.keras.preprocessing.image import load_img, img_to_array\n",
    "\n",
    "def get_file_path_map(root_directory):\n",
    "    \"\"\"\n",
    "    Pre-index all file paths in the root directory for faster lookups.\n",
    "    \"\"\"\n",
    "    file_map = {}\n",
    "    for root, _, files in os.walk(root_directory):\n",
    "        for file in files:\n",
    "            file_map[file] = os.path.join(root, file)\n",
    "    return file_map\n",
    "\n",
    "def load_and_process_image(image_path):\n",
    "    \"\"\"\n",
    "    Load and process a single image given its path.\n",
    "    \"\"\"\n",
    "    try:\n",
    "        image_arr = img_to_array(load_img(image_path, target_size=(224, 224), color_mode='rgb')) / 255.0\n",
    "        return image_arr\n",
    "    except Exception as e:\n",
    "        print(f\"Error loading image {image_path}: {e}\")\n",
    "        return None\n",
    "\n",
    "def getArrFromExcel(sheet_name):\n",
    "    # Get Labels\n",
    "    meta_data_df = pd.read_excel(EXCEL_FILENAME, sheet_name=sheet_name)\n",
    "    image_names = meta_data_df['Image Index']\n",
    "    labels = meta_data_df.iloc[:, 2:]\n",
    "\n",
    "    # Build a file path map for faster lookups\n",
    "    root_directory = \"../Code - Thoracic Abnormalities (only Windows)/NIH Original Dataset\" # If you in Google Colab,  change the root directory\n",
    "    file_path_map = get_file_path_map(root_directory)\n",
    "\n",
    "    # Prepare to store image arrays\n",
    "    images_arr = []\n",
    "\n",
    "    # Use ThreadPoolExecutor for parallel image loading\n",
    "    with ThreadPoolExecutor() as executor:\n",
    "        future_to_image = {executor.submit(load_and_process_image, file_path_map[image_name]): image_name\n",
    "                           for image_name in image_names if image_name in file_path_map}\n",
    "\n",
    "        for future in tqdm(future_to_image, total=len(future_to_image), desc=\"Processing images\"):\n",
    "            result = future.result()\n",
    "            if result is not None:\n",
    "                images_arr.append(result)\n",
    "\n",
    "    return np.array(images_arr), labels"
   ]
  },
  {
   "cell_type": "code",
   "execution_count": 16,
   "metadata": {
    "id": "1y0jdpSZx6br"
   },
   "outputs": [],
   "source": [
    "# # Example\n",
    "# train_sheet_name_per_fold = \"fold_1_val\"\n",
    "# train_images_arr, labels = getArrFromExcel(train_sheet_name_per_fold)\n",
    "# train_images_arr.shape"
   ]
  },
  {
   "cell_type": "markdown",
   "metadata": {
    "id": "qobLBHJMx6bs"
   },
   "source": [
    "### Model Training with K-Fold"
   ]
  },
  {
   "cell_type": "markdown",
   "metadata": {
    "id": "DBK4sWKcmSTb"
   },
   "source": [
    "# ---MobileNet Training---"
   ]
  },
  {
   "cell_type": "code",
   "execution_count": 17,
   "metadata": {
    "colab": {
     "base_uri": "https://localhost:8080/",
     "height": 1000
    },
    "id": "QDrqUGyoyUVd",
    "outputId": "72bee917-c0e1-4027-8ef1-e8f65b988af8"
   },
   "outputs": [],
   "source": [
    "# model = buildModelMobileNet()\n",
    "# model.summary()"
   ]
  },
  {
   "cell_type": "code",
   "execution_count": 18,
   "metadata": {
    "colab": {
     "base_uri": "https://localhost:8080/"
    },
    "id": "WcsAXaaix6bs",
    "outputId": "24e3141a-1dc7-46ce-9d03-c7f43210973c"
   },
   "outputs": [
    {
     "name": "stdout",
     "output_type": "stream",
     "text": [
      "##################### FOLD - 1 #####################\n"
     ]
    },
    {
     "name": "stderr",
     "output_type": "stream",
     "text": [
      "Processing images: 100%|██████████| 7360/7360 [00:15<00:00, 463.90it/s]\n",
      "Processing images: 100%|██████████| 1840/1840 [00:03<00:00, 577.93it/s]\n",
      "I0000 00:00:1733288449.143426  564112 gpu_device.cc:2022] Created device /job:localhost/replica:0/task:0/device:GPU:0 with 7537 MB memory:  -> device: 0, name: NVIDIA GeForce RTX 3080, pci bus id: 0000:01:00.0, compute capability: 8.6\n"
     ]
    },
    {
     "name": "stdout",
     "output_type": "stream",
     "text": [
      "Epoch 1/50\n"
     ]
    },
    {
     "name": "stderr",
     "output_type": "stream",
     "text": [
      "/root/projects/tf217/tf217/lib/python3.12/site-packages/keras/src/models/functional.py:225: UserWarning: The structure of `inputs` doesn't match the expected structure: ['input_layer']. Received: the structure of inputs=*\n",
      "  warnings.warn(\n",
      "WARNING: All log messages before absl::InitializeLog() is called are written to STDERR\n",
      "I0000 00:00:1733288459.045181  564407 service.cc:148] XLA service 0x7fc810014e20 initialized for platform CUDA (this does not guarantee that XLA will be used). Devices:\n",
      "I0000 00:00:1733288459.045212  564407 service.cc:156]   StreamExecutor device (0): NVIDIA GeForce RTX 3080, Compute Capability 8.6\n",
      "2024-12-04 14:00:59.185031: I tensorflow/compiler/mlir/tensorflow/utils/dump_mlir_util.cc:268] disabling MLIR crash reproducer, set env var `MLIR_CRASH_REPRODUCER_DIRECTORY` to enable.\n",
      "I0000 00:00:1733288459.854091  564407 cuda_dnn.cc:529] Loaded cuDNN version 90300\n"
     ]
    },
    {
     "name": "stdout",
     "output_type": "stream",
     "text": [
      "\u001b[1m  6/920\u001b[0m \u001b[37m━━━━━━━━━━━━━━━━━━━━\u001b[0m \u001b[1m23s\u001b[0m 26ms/step - accuracy: 0.3295 - loss: 2.8258"
     ]
    },
    {
     "name": "stderr",
     "output_type": "stream",
     "text": [
      "I0000 00:00:1733288466.448498  564407 device_compiler.h:188] Compiled cluster using XLA!  This line is logged at most once for the lifetime of the process.\n"
     ]
    },
    {
     "name": "stdout",
     "output_type": "stream",
     "text": [
      "\u001b[1m917/920\u001b[0m \u001b[32m━━━━━━━━━━━━━━━━━━━\u001b[0m\u001b[37m━\u001b[0m \u001b[1m0s\u001b[0m 11ms/step - accuracy: 0.3038 - loss: 0.9225"
     ]
    },
    {
     "name": "stderr",
     "output_type": "stream",
     "text": [
      "/root/projects/tf217/tf217/lib/python3.12/site-packages/keras/src/models/functional.py:225: UserWarning: The structure of `inputs` doesn't match the expected structure: ['input_layer']. Received: the structure of inputs=*\n",
      "  warnings.warn(\n"
     ]
    },
    {
     "name": "stdout",
     "output_type": "stream",
     "text": [
      "\u001b[1m920/920\u001b[0m \u001b[32m━━━━━━━━━━━━━━━━━━━━\u001b[0m\u001b[37m\u001b[0m \u001b[1m26s\u001b[0m 14ms/step - accuracy: 0.3039 - loss: 0.9218 - val_accuracy: 0.3870 - val_loss: 0.7178\n",
      "Epoch 2/50\n",
      "\u001b[1m920/920\u001b[0m \u001b[32m━━━━━━━━━━━━━━━━━━━━\u001b[0m\u001b[37m\u001b[0m \u001b[1m9s\u001b[0m 10ms/step - accuracy: 0.4331 - loss: 0.5788 - val_accuracy: 0.3967 - val_loss: 0.6400\n",
      "Epoch 3/50\n",
      "\u001b[1m920/920\u001b[0m \u001b[32m━━━━━━━━━━━━━━━━━━━━\u001b[0m\u001b[37m\u001b[0m \u001b[1m8s\u001b[0m 9ms/step - accuracy: 0.5158 - loss: 0.4778 - val_accuracy: 0.4750 - val_loss: 0.5795\n",
      "Epoch 4/50\n",
      "\u001b[1m920/920\u001b[0m \u001b[32m━━━━━━━━━━━━━━━━━━━━\u001b[0m\u001b[37m\u001b[0m \u001b[1m8s\u001b[0m 9ms/step - accuracy: 0.5827 - loss: 0.4132 - val_accuracy: 0.4054 - val_loss: 0.6419\n",
      "Epoch 5/50\n",
      "\u001b[1m920/920\u001b[0m \u001b[32m━━━━━━━━━━━━━━━━━━━━\u001b[0m\u001b[37m\u001b[0m \u001b[1m10s\u001b[0m 11ms/step - accuracy: 0.6198 - loss: 0.3680 - val_accuracy: 0.4609 - val_loss: 0.6238\n",
      "Epoch 6/50\n",
      "\u001b[1m920/920\u001b[0m \u001b[32m━━━━━━━━━━━━━━━━━━━━\u001b[0m\u001b[37m\u001b[0m \u001b[1m8s\u001b[0m 9ms/step - accuracy: 0.6588 - loss: 0.3380 - val_accuracy: 0.5049 - val_loss: 0.5889\n",
      "Epoch 7/50\n",
      "\u001b[1m920/920\u001b[0m \u001b[32m━━━━━━━━━━━━━━━━━━━━\u001b[0m\u001b[37m\u001b[0m \u001b[1m8s\u001b[0m 9ms/step - accuracy: 0.6919 - loss: 0.2926 - val_accuracy: 0.4984 - val_loss: 0.5911\n",
      "Epoch 8/50\n",
      "\u001b[1m920/920\u001b[0m \u001b[32m━━━━━━━━━━━━━━━━━━━━\u001b[0m\u001b[37m\u001b[0m \u001b[1m8s\u001b[0m 9ms/step - accuracy: 0.7185 - loss: 0.2536 - val_accuracy: 0.4859 - val_loss: 0.6402\n",
      "Epoch 9/50\n",
      "\u001b[1m920/920\u001b[0m \u001b[32m━━━━━━━━━━━━━━━━━━━━\u001b[0m\u001b[37m\u001b[0m \u001b[1m10s\u001b[0m 11ms/step - accuracy: 0.7565 - loss: 0.2201 - val_accuracy: 0.4929 - val_loss: 0.5898\n",
      "Epoch 10/50\n",
      "\u001b[1m920/920\u001b[0m \u001b[32m━━━━━━━━━━━━━━━━━━━━\u001b[0m\u001b[37m\u001b[0m \u001b[1m8s\u001b[0m 9ms/step - accuracy: 0.7940 - loss: 0.1780 - val_accuracy: 0.4647 - val_loss: 0.7349\n",
      "Epoch 11/50\n",
      "\u001b[1m920/920\u001b[0m \u001b[32m━━━━━━━━━━━━━━━━━━━━\u001b[0m\u001b[37m\u001b[0m \u001b[1m8s\u001b[0m 9ms/step - accuracy: 0.8097 - loss: 0.1521 - val_accuracy: 0.5011 - val_loss: 0.6496\n",
      "Epoch 12/50\n",
      "\u001b[1m920/920\u001b[0m \u001b[32m━━━━━━━━━━━━━━━━━━━━\u001b[0m\u001b[37m\u001b[0m \u001b[1m8s\u001b[0m 9ms/step - accuracy: 0.8163 - loss: 0.1341 - val_accuracy: 0.4842 - val_loss: 0.7116\n",
      "Epoch 13/50\n",
      "\u001b[1m920/920\u001b[0m \u001b[32m━━━━━━━━━━━━━━━━━━━━\u001b[0m\u001b[37m\u001b[0m \u001b[1m10s\u001b[0m 11ms/step - accuracy: 0.8307 - loss: 0.1107 - val_accuracy: 0.4717 - val_loss: 0.7424\n",
      "Epoch 14/50\n",
      "\u001b[1m920/920\u001b[0m \u001b[32m━━━━━━━━━━━━━━━━━━━━\u001b[0m\u001b[37m\u001b[0m \u001b[1m8s\u001b[0m 9ms/step - accuracy: 0.8388 - loss: 0.0994 - val_accuracy: 0.5027 - val_loss: 0.8517\n",
      "Epoch 15/50\n",
      "\u001b[1m920/920\u001b[0m \u001b[32m━━━━━━━━━━━━━━━━━━━━\u001b[0m\u001b[37m\u001b[0m \u001b[1m8s\u001b[0m 9ms/step - accuracy: 0.8437 - loss: 0.0853 - val_accuracy: 0.5092 - val_loss: 0.7307\n",
      "Epoch 16/50\n",
      "\u001b[1m920/920\u001b[0m \u001b[32m━━━━━━━━━━━━━━━━━━━━\u001b[0m\u001b[37m\u001b[0m \u001b[1m8s\u001b[0m 9ms/step - accuracy: 0.8443 - loss: 0.0734 - val_accuracy: 0.5065 - val_loss: 0.8145\n",
      "Epoch 17/50\n",
      "\u001b[1m920/920\u001b[0m \u001b[32m━━━━━━━━━━━━━━━━━━━━\u001b[0m\u001b[37m\u001b[0m \u001b[1m10s\u001b[0m 11ms/step - accuracy: 0.8560 - loss: 0.0663 - val_accuracy: 0.5179 - val_loss: 0.7877\n",
      "Epoch 18/50\n",
      "\u001b[1m920/920\u001b[0m \u001b[32m━━━━━━━━━━━━━━━━━━━━\u001b[0m\u001b[37m\u001b[0m \u001b[1m8s\u001b[0m 9ms/step - accuracy: 0.8544 - loss: 0.0579 - val_accuracy: 0.4870 - val_loss: 0.8731\n",
      "Epoch 19/50\n",
      "\u001b[1m920/920\u001b[0m \u001b[32m━━━━━━━━━━━━━━━━━━━━\u001b[0m\u001b[37m\u001b[0m \u001b[1m8s\u001b[0m 9ms/step - accuracy: 0.8400 - loss: 0.0621 - val_accuracy: 0.5152 - val_loss: 0.8332\n",
      "Epoch 20/50\n",
      "\u001b[1m920/920\u001b[0m \u001b[32m━━━━━━━━━━━━━━━━━━━━\u001b[0m\u001b[37m\u001b[0m \u001b[1m8s\u001b[0m 9ms/step - accuracy: 0.8497 - loss: 0.0535 - val_accuracy: 0.5234 - val_loss: 0.8240\n",
      "Epoch 21/50\n",
      "\u001b[1m920/920\u001b[0m \u001b[32m━━━━━━━━━━━━━━━━━━━━\u001b[0m\u001b[37m\u001b[0m \u001b[1m10s\u001b[0m 11ms/step - accuracy: 0.8549 - loss: 0.0505 - val_accuracy: 0.5071 - val_loss: 0.8310\n",
      "Epoch 22/50\n",
      "\u001b[1m920/920\u001b[0m \u001b[32m━━━━━━━━━━━━━━━━━━━━\u001b[0m\u001b[37m\u001b[0m \u001b[1m8s\u001b[0m 9ms/step - accuracy: 0.8593 - loss: 0.0453 - val_accuracy: 0.5027 - val_loss: 0.9156\n",
      "Epoch 23/50\n",
      "\u001b[1m920/920\u001b[0m \u001b[32m━━━━━━━━━━━━━━━━━━━━\u001b[0m\u001b[37m\u001b[0m \u001b[1m8s\u001b[0m 9ms/step - accuracy: 0.8565 - loss: 0.0470 - val_accuracy: 0.5054 - val_loss: 0.9263\n",
      "Epoch 24/50\n",
      "\u001b[1m920/920\u001b[0m \u001b[32m━━━━━━━━━━━━━━━━━━━━\u001b[0m\u001b[37m\u001b[0m \u001b[1m10s\u001b[0m 11ms/step - accuracy: 0.8599 - loss: 0.0479 - val_accuracy: 0.5082 - val_loss: 0.8771\n",
      "Epoch 25/50\n",
      "\u001b[1m920/920\u001b[0m \u001b[32m━━━━━━━━━━━━━━━━━━━━\u001b[0m\u001b[37m\u001b[0m \u001b[1m8s\u001b[0m 9ms/step - accuracy: 0.8520 - loss: 0.0384 - val_accuracy: 0.5082 - val_loss: 0.8959\n",
      "Epoch 26/50\n",
      "\u001b[1m920/920\u001b[0m \u001b[32m━━━━━━━━━━━━━━━━━━━━\u001b[0m\u001b[37m\u001b[0m \u001b[1m8s\u001b[0m 9ms/step - accuracy: 0.8517 - loss: 0.0434 - val_accuracy: 0.5000 - val_loss: 0.9805\n",
      "Epoch 27/50\n",
      "\u001b[1m920/920\u001b[0m \u001b[32m━━━━━━━━━━━━━━━━━━━━\u001b[0m\u001b[37m\u001b[0m \u001b[1m8s\u001b[0m 9ms/step - accuracy: 0.8579 - loss: 0.0448 - val_accuracy: 0.5109 - val_loss: 0.9620\n",
      "Epoch 28/50\n",
      "\u001b[1m920/920\u001b[0m \u001b[32m━━━━━━━━━━━━━━━━━━━━\u001b[0m\u001b[37m\u001b[0m \u001b[1m10s\u001b[0m 11ms/step - accuracy: 0.8568 - loss: 0.0356 - val_accuracy: 0.5076 - val_loss: 0.9395\n",
      "Epoch 29/50\n",
      "\u001b[1m920/920\u001b[0m \u001b[32m━━━━━━━━━━━━━━━━━━━━\u001b[0m\u001b[37m\u001b[0m \u001b[1m8s\u001b[0m 9ms/step - accuracy: 0.8654 - loss: 0.0381 - val_accuracy: 0.4978 - val_loss: 0.9431\n",
      "Epoch 30/50\n",
      "\u001b[1m920/920\u001b[0m \u001b[32m━━━━━━━━━━━━━━━━━━━━\u001b[0m\u001b[37m\u001b[0m \u001b[1m8s\u001b[0m 9ms/step - accuracy: 0.8617 - loss: 0.0403 - val_accuracy: 0.5255 - val_loss: 1.0733\n",
      "Epoch 31/50\n",
      "\u001b[1m920/920\u001b[0m \u001b[32m━━━━━━━━━━━━━━━━━━━━\u001b[0m\u001b[37m\u001b[0m \u001b[1m8s\u001b[0m 9ms/step - accuracy: 0.8621 - loss: 0.0339 - val_accuracy: 0.4223 - val_loss: 1.2610\n",
      "Epoch 32/50\n",
      "\u001b[1m920/920\u001b[0m \u001b[32m━━━━━━━━━━━━━━━━━━━━\u001b[0m\u001b[37m\u001b[0m \u001b[1m10s\u001b[0m 11ms/step - accuracy: 0.8596 - loss: 0.0337 - val_accuracy: 0.4582 - val_loss: 1.1071\n",
      "Epoch 33/50\n",
      "\u001b[1m920/920\u001b[0m \u001b[32m━━━━━━━━━━━━━━━━━━━━\u001b[0m\u001b[37m\u001b[0m \u001b[1m8s\u001b[0m 9ms/step - accuracy: 0.8586 - loss: 0.0319 - val_accuracy: 0.5196 - val_loss: 0.9740\n",
      "Epoch 34/50\n",
      "\u001b[1m920/920\u001b[0m \u001b[32m━━━━━━━━━━━━━━━━━━━━\u001b[0m\u001b[37m\u001b[0m \u001b[1m8s\u001b[0m 9ms/step - accuracy: 0.8542 - loss: 0.0314 - val_accuracy: 0.5114 - val_loss: 1.0313\n",
      "Epoch 35/50\n",
      "\u001b[1m920/920\u001b[0m \u001b[32m━━━━━━━━━━━━━━━━━━━━\u001b[0m\u001b[37m\u001b[0m \u001b[1m8s\u001b[0m 9ms/step - accuracy: 0.8598 - loss: 0.0278 - val_accuracy: 0.5082 - val_loss: 1.0313\n",
      "Epoch 36/50\n",
      "\u001b[1m920/920\u001b[0m \u001b[32m━━━━━━━━━━━━━━━━━━━━\u001b[0m\u001b[37m\u001b[0m \u001b[1m10s\u001b[0m 11ms/step - accuracy: 0.8579 - loss: 0.0306 - val_accuracy: 0.4962 - val_loss: 1.0111\n",
      "Epoch 37/50\n",
      "\u001b[1m920/920\u001b[0m \u001b[32m━━━━━━━━━━━━━━━━━━━━\u001b[0m\u001b[37m\u001b[0m \u001b[1m8s\u001b[0m 9ms/step - accuracy: 0.8627 - loss: 0.0254 - val_accuracy: 0.5255 - val_loss: 1.0721\n",
      "Epoch 38/50\n",
      "\u001b[1m920/920\u001b[0m \u001b[32m━━━━━━━━━━━━━━━━━━━━\u001b[0m\u001b[37m\u001b[0m \u001b[1m8s\u001b[0m 9ms/step - accuracy: 0.8611 - loss: 0.0261 - val_accuracy: 0.5147 - val_loss: 1.1370\n",
      "Epoch 39/50\n",
      "\u001b[1m920/920\u001b[0m \u001b[32m━━━━━━━━━━━━━━━━━━━━\u001b[0m\u001b[37m\u001b[0m \u001b[1m9s\u001b[0m 10ms/step - accuracy: 0.8729 - loss: 0.0263 - val_accuracy: 0.5266 - val_loss: 1.0292\n",
      "Epoch 40/50\n",
      "\u001b[1m920/920\u001b[0m \u001b[32m━━━━━━━━━━━━━━━━━━━━\u001b[0m\u001b[37m\u001b[0m \u001b[1m11s\u001b[0m 12ms/step - accuracy: 0.8611 - loss: 0.0244 - val_accuracy: 0.5212 - val_loss: 1.0798\n",
      "Epoch 41/50\n",
      "\u001b[1m920/920\u001b[0m \u001b[32m━━━━━━━━━━━━━━━━━━━━\u001b[0m\u001b[37m\u001b[0m \u001b[1m9s\u001b[0m 9ms/step - accuracy: 0.8618 - loss: 0.0248 - val_accuracy: 0.5228 - val_loss: 1.1336\n",
      "Epoch 42/50\n",
      "\u001b[1m920/920\u001b[0m \u001b[32m━━━━━━━━━━━━━━━━━━━━\u001b[0m\u001b[37m\u001b[0m \u001b[1m9s\u001b[0m 10ms/step - accuracy: 0.8571 - loss: 0.0302 - val_accuracy: 0.5125 - val_loss: 1.1147\n",
      "Epoch 43/50\n",
      "\u001b[1m920/920\u001b[0m \u001b[32m━━━━━━━━━━━━━━━━━━━━\u001b[0m\u001b[37m\u001b[0m \u001b[1m9s\u001b[0m 10ms/step - accuracy: 0.8529 - loss: 0.0284 - val_accuracy: 0.5310 - val_loss: 1.1073\n",
      "Epoch 44/50\n",
      "\u001b[1m920/920\u001b[0m \u001b[32m━━━━━━━━━━━━━━━━━━━━\u001b[0m\u001b[37m\u001b[0m \u001b[1m11s\u001b[0m 12ms/step - accuracy: 0.8607 - loss: 0.0236 - val_accuracy: 0.5342 - val_loss: 1.0841\n",
      "Epoch 45/50\n",
      "\u001b[1m920/920\u001b[0m \u001b[32m━━━━━━━━━━━━━━━━━━━━\u001b[0m\u001b[37m\u001b[0m \u001b[1m9s\u001b[0m 10ms/step - accuracy: 0.8545 - loss: 0.0268 - val_accuracy: 0.5179 - val_loss: 1.1504\n",
      "Epoch 46/50\n",
      "\u001b[1m920/920\u001b[0m \u001b[32m━━━━━━━━━━━━━━━━━━━━\u001b[0m\u001b[37m\u001b[0m \u001b[1m9s\u001b[0m 10ms/step - accuracy: 0.8579 - loss: 0.0270 - val_accuracy: 0.5234 - val_loss: 1.1013\n",
      "Epoch 47/50\n",
      "\u001b[1m920/920\u001b[0m \u001b[32m━━━━━━━━━━━━━━━━━━━━\u001b[0m\u001b[37m\u001b[0m \u001b[1m11s\u001b[0m 12ms/step - accuracy: 0.8517 - loss: 0.0232 - val_accuracy: 0.5337 - val_loss: 1.1209\n",
      "Epoch 48/50\n",
      "\u001b[1m920/920\u001b[0m \u001b[32m━━━━━━━━━━━━━━━━━━━━\u001b[0m\u001b[37m\u001b[0m \u001b[1m9s\u001b[0m 10ms/step - accuracy: 0.8582 - loss: 0.0190 - val_accuracy: 0.5364 - val_loss: 1.1701\n",
      "Epoch 49/50\n",
      "\u001b[1m920/920\u001b[0m \u001b[32m━━━━━━━━━━━━━━━━━━━━\u001b[0m\u001b[37m\u001b[0m \u001b[1m9s\u001b[0m 10ms/step - accuracy: 0.8611 - loss: 0.0237 - val_accuracy: 0.5022 - val_loss: 1.1648\n",
      "Epoch 50/50\n",
      "\u001b[1m920/920\u001b[0m \u001b[32m━━━━━━━━━━━━━━━━━━━━\u001b[0m\u001b[37m\u001b[0m \u001b[1m9s\u001b[0m 10ms/step - accuracy: 0.8614 - loss: 0.0221 - val_accuracy: 0.4951 - val_loss: 1.2679\n"
     ]
    },
    {
     "name": "stderr",
     "output_type": "stream",
     "text": [
      "WARNING:absl:You are saving your model as an HDF5 file via `model.save()` or `keras.saving.save_model(model)`. This file format is considered legacy. We recommend using instead the native Keras format, e.g. `model.save('my_model.keras')` or `keras.saving.save_model(model, 'my_model.keras')`. \n"
     ]
    },
    {
     "name": "stdout",
     "output_type": "stream",
     "text": [
      "##################### FOLD - 2 #####################\n"
     ]
    },
    {
     "name": "stderr",
     "output_type": "stream",
     "text": [
      "Processing images: 100%|██████████| 7360/7360 [00:15<00:00, 483.80it/s]\n",
      "Processing images: 100%|██████████| 1840/1840 [00:03<00:00, 530.42it/s]\n"
     ]
    },
    {
     "name": "stdout",
     "output_type": "stream",
     "text": [
      "Epoch 1/50\n"
     ]
    },
    {
     "name": "stderr",
     "output_type": "stream",
     "text": [
      "/root/projects/tf217/tf217/lib/python3.12/site-packages/keras/src/models/functional.py:225: UserWarning: The structure of `inputs` doesn't match the expected structure: ['input_layer']. Received: the structure of inputs=*\n",
      "  warnings.warn(\n"
     ]
    },
    {
     "name": "stdout",
     "output_type": "stream",
     "text": [
      "\u001b[1m917/920\u001b[0m \u001b[32m━━━━━━━━━━━━━━━━━━━\u001b[0m\u001b[37m━\u001b[0m \u001b[1m0s\u001b[0m 11ms/step - accuracy: 0.3048 - loss: 0.9184"
     ]
    },
    {
     "name": "stderr",
     "output_type": "stream",
     "text": [
      "/root/projects/tf217/tf217/lib/python3.12/site-packages/keras/src/models/functional.py:225: UserWarning: The structure of `inputs` doesn't match the expected structure: ['input_layer']. Received: the structure of inputs=*\n",
      "  warnings.warn(\n"
     ]
    },
    {
     "name": "stdout",
     "output_type": "stream",
     "text": [
      "\u001b[1m920/920\u001b[0m \u001b[32m━━━━━━━━━━━━━━━━━━━━\u001b[0m\u001b[37m\u001b[0m \u001b[1m23s\u001b[0m 13ms/step - accuracy: 0.3049 - loss: 0.9177 - val_accuracy: 0.3745 - val_loss: 0.7109\n",
      "Epoch 2/50\n",
      "\u001b[1m920/920\u001b[0m \u001b[32m━━━━━━━━━━━━━━━━━━━━\u001b[0m\u001b[37m\u001b[0m \u001b[1m9s\u001b[0m 10ms/step - accuracy: 0.4530 - loss: 0.5516 - val_accuracy: 0.4299 - val_loss: 0.5573\n",
      "Epoch 3/50\n",
      "\u001b[1m920/920\u001b[0m \u001b[32m━━━━━━━━━━━━━━━━━━━━\u001b[0m\u001b[37m\u001b[0m \u001b[1m9s\u001b[0m 10ms/step - accuracy: 0.5209 - loss: 0.4556 - val_accuracy: 0.4788 - val_loss: 0.5366\n",
      "Epoch 4/50\n",
      "\u001b[1m920/920\u001b[0m \u001b[32m━━━━━━━━━━━━━━━━━━━━\u001b[0m\u001b[37m\u001b[0m \u001b[1m11s\u001b[0m 12ms/step - accuracy: 0.5739 - loss: 0.4176 - val_accuracy: 0.4859 - val_loss: 0.5500\n",
      "Epoch 5/50\n",
      "\u001b[1m920/920\u001b[0m \u001b[32m━━━━━━━━━━━━━━━━━━━━\u001b[0m\u001b[37m\u001b[0m \u001b[1m9s\u001b[0m 10ms/step - accuracy: 0.6000 - loss: 0.3839 - val_accuracy: 0.4685 - val_loss: 0.5431\n",
      "Epoch 6/50\n",
      "\u001b[1m920/920\u001b[0m \u001b[32m━━━━━━━━━━━━━━━━━━━━\u001b[0m\u001b[37m\u001b[0m \u001b[1m9s\u001b[0m 10ms/step - accuracy: 0.6267 - loss: 0.3489 - val_accuracy: 0.4511 - val_loss: 0.5953\n",
      "Epoch 7/50\n",
      "\u001b[1m920/920\u001b[0m \u001b[32m━━━━━━━━━━━━━━━━━━━━\u001b[0m\u001b[37m\u001b[0m \u001b[1m9s\u001b[0m 10ms/step - accuracy: 0.6772 - loss: 0.3119 - val_accuracy: 0.4299 - val_loss: 0.5925\n",
      "Epoch 8/50\n",
      "\u001b[1m920/920\u001b[0m \u001b[32m━━━━━━━━━━━━━━━━━━━━\u001b[0m\u001b[37m\u001b[0m \u001b[1m11s\u001b[0m 12ms/step - accuracy: 0.7079 - loss: 0.2802 - val_accuracy: 0.5196 - val_loss: 0.5625\n",
      "Epoch 9/50\n",
      "\u001b[1m920/920\u001b[0m \u001b[32m━━━━━━━━━━━━━━━━━━━━\u001b[0m\u001b[37m\u001b[0m \u001b[1m9s\u001b[0m 10ms/step - accuracy: 0.7440 - loss: 0.2363 - val_accuracy: 0.4962 - val_loss: 0.6235\n",
      "Epoch 10/50\n",
      "\u001b[1m920/920\u001b[0m \u001b[32m━━━━━━━━━━━━━━━━━━━━\u001b[0m\u001b[37m\u001b[0m \u001b[1m9s\u001b[0m 10ms/step - accuracy: 0.7792 - loss: 0.1926 - val_accuracy: 0.4973 - val_loss: 0.5914\n",
      "Epoch 11/50\n",
      "\u001b[1m920/920\u001b[0m \u001b[32m━━━━━━━━━━━━━━━━━━━━\u001b[0m\u001b[37m\u001b[0m \u001b[1m11s\u001b[0m 12ms/step - accuracy: 0.7876 - loss: 0.1650 - val_accuracy: 0.4989 - val_loss: 0.6189\n",
      "Epoch 12/50\n",
      "\u001b[1m920/920\u001b[0m \u001b[32m━━━━━━━━━━━━━━━━━━━━\u001b[0m\u001b[37m\u001b[0m \u001b[1m9s\u001b[0m 10ms/step - accuracy: 0.8217 - loss: 0.1304 - val_accuracy: 0.5152 - val_loss: 0.6316\n",
      "Epoch 13/50\n",
      "\u001b[1m920/920\u001b[0m \u001b[32m━━━━━━━━━━━━━━━━━━━━\u001b[0m\u001b[37m\u001b[0m \u001b[1m9s\u001b[0m 10ms/step - accuracy: 0.8284 - loss: 0.1134 - val_accuracy: 0.5293 - val_loss: 0.6584\n",
      "Epoch 14/50\n",
      "\u001b[1m920/920\u001b[0m \u001b[32m━━━━━━━━━━━━━━━━━━━━\u001b[0m\u001b[37m\u001b[0m \u001b[1m9s\u001b[0m 10ms/step - accuracy: 0.8395 - loss: 0.0972 - val_accuracy: 0.4783 - val_loss: 0.7635\n",
      "Epoch 15/50\n",
      "\u001b[1m920/920\u001b[0m \u001b[32m━━━━━━━━━━━━━━━━━━━━\u001b[0m\u001b[37m\u001b[0m \u001b[1m11s\u001b[0m 12ms/step - accuracy: 0.8462 - loss: 0.0812 - val_accuracy: 0.4571 - val_loss: 0.8477\n",
      "Epoch 16/50\n",
      "\u001b[1m920/920\u001b[0m \u001b[32m━━━━━━━━━━━━━━━━━━━━\u001b[0m\u001b[37m\u001b[0m \u001b[1m9s\u001b[0m 10ms/step - accuracy: 0.8451 - loss: 0.0733 - val_accuracy: 0.4897 - val_loss: 0.7521\n",
      "Epoch 17/50\n",
      "\u001b[1m920/920\u001b[0m \u001b[32m━━━━━━━━━━━━━━━━━━━━\u001b[0m\u001b[37m\u001b[0m \u001b[1m9s\u001b[0m 10ms/step - accuracy: 0.8556 - loss: 0.0729 - val_accuracy: 0.5168 - val_loss: 0.7055\n",
      "Epoch 18/50\n",
      "\u001b[1m920/920\u001b[0m \u001b[32m━━━━━━━━━━━━━━━━━━━━\u001b[0m\u001b[37m\u001b[0m \u001b[1m11s\u001b[0m 12ms/step - accuracy: 0.8446 - loss: 0.0605 - val_accuracy: 0.5185 - val_loss: 0.7534\n",
      "Epoch 19/50\n",
      "\u001b[1m920/920\u001b[0m \u001b[32m━━━━━━━━━━━━━━━━━━━━\u001b[0m\u001b[37m\u001b[0m \u001b[1m9s\u001b[0m 10ms/step - accuracy: 0.8485 - loss: 0.0604 - val_accuracy: 0.5250 - val_loss: 0.7673\n",
      "Epoch 20/50\n",
      "\u001b[1m920/920\u001b[0m \u001b[32m━━━━━━━━━━━━━━━━━━━━\u001b[0m\u001b[37m\u001b[0m \u001b[1m9s\u001b[0m 10ms/step - accuracy: 0.8478 - loss: 0.0575 - val_accuracy: 0.4402 - val_loss: 1.0045\n",
      "Epoch 21/50\n",
      "\u001b[1m920/920\u001b[0m \u001b[32m━━━━━━━━━━━━━━━━━━━━\u001b[0m\u001b[37m\u001b[0m \u001b[1m9s\u001b[0m 10ms/step - accuracy: 0.8536 - loss: 0.0526 - val_accuracy: 0.4918 - val_loss: 0.8765\n",
      "Epoch 22/50\n",
      "\u001b[1m920/920\u001b[0m \u001b[32m━━━━━━━━━━━━━━━━━━━━\u001b[0m\u001b[37m\u001b[0m \u001b[1m11s\u001b[0m 12ms/step - accuracy: 0.8513 - loss: 0.0499 - val_accuracy: 0.4598 - val_loss: 1.0453\n",
      "Epoch 23/50\n",
      "\u001b[1m920/920\u001b[0m \u001b[32m━━━━━━━━━━━━━━━━━━━━\u001b[0m\u001b[37m\u001b[0m \u001b[1m9s\u001b[0m 10ms/step - accuracy: 0.8598 - loss: 0.0493 - val_accuracy: 0.4913 - val_loss: 0.9194\n",
      "Epoch 24/50\n",
      "\u001b[1m920/920\u001b[0m \u001b[32m━━━━━━━━━━━━━━━━━━━━\u001b[0m\u001b[37m\u001b[0m \u001b[1m9s\u001b[0m 10ms/step - accuracy: 0.8602 - loss: 0.0459 - val_accuracy: 0.5000 - val_loss: 0.8398\n",
      "Epoch 25/50\n",
      "\u001b[1m920/920\u001b[0m \u001b[32m━━━━━━━━━━━━━━━━━━━━\u001b[0m\u001b[37m\u001b[0m \u001b[1m11s\u001b[0m 12ms/step - accuracy: 0.8572 - loss: 0.0469 - val_accuracy: 0.4875 - val_loss: 1.0445\n",
      "Epoch 26/50\n",
      "\u001b[1m920/920\u001b[0m \u001b[32m━━━━━━━━━━━━━━━━━━━━\u001b[0m\u001b[37m\u001b[0m \u001b[1m9s\u001b[0m 10ms/step - accuracy: 0.8562 - loss: 0.0428 - val_accuracy: 0.5000 - val_loss: 0.9189\n",
      "Epoch 27/50\n",
      "\u001b[1m920/920\u001b[0m \u001b[32m━━━━━━━━━━━━━━━━━━━━\u001b[0m\u001b[37m\u001b[0m \u001b[1m9s\u001b[0m 10ms/step - accuracy: 0.8637 - loss: 0.0385 - val_accuracy: 0.5098 - val_loss: 0.9119\n",
      "Epoch 28/50\n",
      "\u001b[1m920/920\u001b[0m \u001b[32m━━━━━━━━━━━━━━━━━━━━\u001b[0m\u001b[37m\u001b[0m \u001b[1m9s\u001b[0m 10ms/step - accuracy: 0.8522 - loss: 0.0412 - val_accuracy: 0.5103 - val_loss: 0.8419\n",
      "Epoch 29/50\n",
      "\u001b[1m920/920\u001b[0m \u001b[32m━━━━━━━━━━━━━━━━━━━━\u001b[0m\u001b[37m\u001b[0m \u001b[1m11s\u001b[0m 12ms/step - accuracy: 0.8654 - loss: 0.0387 - val_accuracy: 0.5375 - val_loss: 0.8741\n",
      "Epoch 30/50\n",
      "\u001b[1m920/920\u001b[0m \u001b[32m━━━━━━━━━━━━━━━━━━━━\u001b[0m\u001b[37m\u001b[0m \u001b[1m9s\u001b[0m 10ms/step - accuracy: 0.8557 - loss: 0.0312 - val_accuracy: 0.5016 - val_loss: 0.9627\n",
      "Epoch 31/50\n",
      "\u001b[1m920/920\u001b[0m \u001b[32m━━━━━━━━━━━━━━━━━━━━\u001b[0m\u001b[37m\u001b[0m \u001b[1m9s\u001b[0m 10ms/step - accuracy: 0.8571 - loss: 0.0387 - val_accuracy: 0.5212 - val_loss: 0.8701\n",
      "Epoch 32/50\n",
      "\u001b[1m920/920\u001b[0m \u001b[32m━━━━━━━━━━━━━━━━━━━━\u001b[0m\u001b[37m\u001b[0m \u001b[1m11s\u001b[0m 12ms/step - accuracy: 0.8607 - loss: 0.0291 - val_accuracy: 0.4783 - val_loss: 0.9678\n",
      "Epoch 33/50\n",
      "\u001b[1m920/920\u001b[0m \u001b[32m━━━━━━━━━━━━━━━━━━━━\u001b[0m\u001b[37m\u001b[0m \u001b[1m9s\u001b[0m 10ms/step - accuracy: 0.8564 - loss: 0.0356 - val_accuracy: 0.5408 - val_loss: 0.9484\n",
      "Epoch 34/50\n",
      "\u001b[1m920/920\u001b[0m \u001b[32m━━━━━━━━━━━━━━━━━━━━\u001b[0m\u001b[37m\u001b[0m \u001b[1m9s\u001b[0m 10ms/step - accuracy: 0.8563 - loss: 0.0293 - val_accuracy: 0.4951 - val_loss: 0.9503\n",
      "Epoch 35/50\n",
      "\u001b[1m920/920\u001b[0m \u001b[32m━━━━━━━━━━━━━━━━━━━━\u001b[0m\u001b[37m\u001b[0m \u001b[1m9s\u001b[0m 10ms/step - accuracy: 0.8646 - loss: 0.0274 - val_accuracy: 0.5217 - val_loss: 1.0018\n",
      "Epoch 36/50\n",
      "\u001b[1m920/920\u001b[0m \u001b[32m━━━━━━━━━━━━━━━━━━━━\u001b[0m\u001b[37m\u001b[0m \u001b[1m11s\u001b[0m 12ms/step - accuracy: 0.8554 - loss: 0.0299 - val_accuracy: 0.4875 - val_loss: 1.0391\n",
      "Epoch 37/50\n",
      "\u001b[1m920/920\u001b[0m \u001b[32m━━━━━━━━━━━━━━━━━━━━\u001b[0m\u001b[37m\u001b[0m \u001b[1m9s\u001b[0m 10ms/step - accuracy: 0.8552 - loss: 0.0290 - val_accuracy: 0.5359 - val_loss: 1.0033\n",
      "Epoch 38/50\n",
      "\u001b[1m920/920\u001b[0m \u001b[32m━━━━━━━━━━━━━━━━━━━━\u001b[0m\u001b[37m\u001b[0m \u001b[1m9s\u001b[0m 10ms/step - accuracy: 0.8540 - loss: 0.0287 - val_accuracy: 0.5120 - val_loss: 0.9886\n",
      "Epoch 39/50\n",
      "\u001b[1m920/920\u001b[0m \u001b[32m━━━━━━━━━━━━━━━━━━━━\u001b[0m\u001b[37m\u001b[0m \u001b[1m11s\u001b[0m 12ms/step - accuracy: 0.8524 - loss: 0.0310 - val_accuracy: 0.5332 - val_loss: 0.9647\n",
      "Epoch 40/50\n",
      "\u001b[1m920/920\u001b[0m \u001b[32m━━━━━━━━━━━━━━━━━━━━\u001b[0m\u001b[37m\u001b[0m \u001b[1m9s\u001b[0m 10ms/step - accuracy: 0.8622 - loss: 0.0267 - val_accuracy: 0.4630 - val_loss: 1.1393\n",
      "Epoch 41/50\n",
      "\u001b[1m920/920\u001b[0m \u001b[32m━━━━━━━━━━━━━━━━━━━━\u001b[0m\u001b[37m\u001b[0m \u001b[1m9s\u001b[0m 10ms/step - accuracy: 0.8616 - loss: 0.0280 - val_accuracy: 0.5272 - val_loss: 1.0108\n",
      "Epoch 42/50\n",
      "\u001b[1m920/920\u001b[0m \u001b[32m━━━━━━━━━━━━━━━━━━━━\u001b[0m\u001b[37m\u001b[0m \u001b[1m9s\u001b[0m 10ms/step - accuracy: 0.8657 - loss: 0.0219 - val_accuracy: 0.4886 - val_loss: 1.0453\n",
      "Epoch 43/50\n",
      "\u001b[1m920/920\u001b[0m \u001b[32m━━━━━━━━━━━━━━━━━━━━\u001b[0m\u001b[37m\u001b[0m \u001b[1m11s\u001b[0m 12ms/step - accuracy: 0.8519 - loss: 0.0228 - val_accuracy: 0.5022 - val_loss: 1.0746\n",
      "Epoch 44/50\n",
      "\u001b[1m920/920\u001b[0m \u001b[32m━━━━━━━━━━━━━━━━━━━━\u001b[0m\u001b[37m\u001b[0m \u001b[1m9s\u001b[0m 10ms/step - accuracy: 0.8613 - loss: 0.0274 - val_accuracy: 0.5277 - val_loss: 1.0106\n",
      "Epoch 45/50\n",
      "\u001b[1m920/920\u001b[0m \u001b[32m━━━━━━━━━━━━━━━━━━━━\u001b[0m\u001b[37m\u001b[0m \u001b[1m9s\u001b[0m 10ms/step - accuracy: 0.8590 - loss: 0.0284 - val_accuracy: 0.5125 - val_loss: 1.0337\n",
      "Epoch 46/50\n",
      "\u001b[1m920/920\u001b[0m \u001b[32m━━━━━━━━━━━━━━━━━━━━\u001b[0m\u001b[37m\u001b[0m \u001b[1m11s\u001b[0m 12ms/step - accuracy: 0.8516 - loss: 0.0226 - val_accuracy: 0.4913 - val_loss: 1.1470\n",
      "Epoch 47/50\n",
      "\u001b[1m920/920\u001b[0m \u001b[32m━━━━━━━━━━━━━━━━━━━━\u001b[0m\u001b[37m\u001b[0m \u001b[1m9s\u001b[0m 10ms/step - accuracy: 0.8521 - loss: 0.0207 - val_accuracy: 0.5125 - val_loss: 0.9886\n",
      "Epoch 48/50\n",
      "\u001b[1m920/920\u001b[0m \u001b[32m━━━━━━━━━━━━━━━━━━━━\u001b[0m\u001b[37m\u001b[0m \u001b[1m9s\u001b[0m 10ms/step - accuracy: 0.8574 - loss: 0.0213 - val_accuracy: 0.5321 - val_loss: 1.0315\n",
      "Epoch 49/50\n",
      "\u001b[1m920/920\u001b[0m \u001b[32m━━━━━━━━━━━━━━━━━━━━\u001b[0m\u001b[37m\u001b[0m \u001b[1m9s\u001b[0m 10ms/step - accuracy: 0.8556 - loss: 0.0184 - val_accuracy: 0.5359 - val_loss: 1.0497\n",
      "Epoch 50/50\n",
      "\u001b[1m920/920\u001b[0m \u001b[32m━━━━━━━━━━━━━━━━━━━━\u001b[0m\u001b[37m\u001b[0m \u001b[1m11s\u001b[0m 12ms/step - accuracy: 0.8630 - loss: 0.0219 - val_accuracy: 0.5190 - val_loss: 1.0505\n"
     ]
    },
    {
     "name": "stderr",
     "output_type": "stream",
     "text": [
      "WARNING:absl:You are saving your model as an HDF5 file via `model.save()` or `keras.saving.save_model(model)`. This file format is considered legacy. We recommend using instead the native Keras format, e.g. `model.save('my_model.keras')` or `keras.saving.save_model(model, 'my_model.keras')`. \n"
     ]
    },
    {
     "name": "stdout",
     "output_type": "stream",
     "text": [
      "##################### FOLD - 3 #####################\n"
     ]
    },
    {
     "name": "stderr",
     "output_type": "stream",
     "text": [
      "Processing images: 100%|██████████| 7360/7360 [00:13<00:00, 559.84it/s]\n",
      "Processing images: 100%|██████████| 1840/1840 [00:03<00:00, 545.04it/s]\n"
     ]
    },
    {
     "name": "stdout",
     "output_type": "stream",
     "text": [
      "Epoch 1/50\n"
     ]
    },
    {
     "name": "stderr",
     "output_type": "stream",
     "text": [
      "/root/projects/tf217/tf217/lib/python3.12/site-packages/keras/src/models/functional.py:225: UserWarning: The structure of `inputs` doesn't match the expected structure: ['input_layer']. Received: the structure of inputs=*\n",
      "  warnings.warn(\n"
     ]
    },
    {
     "name": "stdout",
     "output_type": "stream",
     "text": [
      "\u001b[1m917/920\u001b[0m \u001b[32m━━━━━━━━━━━━━━━━━━━\u001b[0m\u001b[37m━\u001b[0m \u001b[1m0s\u001b[0m 9ms/step - accuracy: 0.3106 - loss: 1.1122"
     ]
    },
    {
     "name": "stderr",
     "output_type": "stream",
     "text": [
      "/root/projects/tf217/tf217/lib/python3.12/site-packages/keras/src/models/functional.py:225: UserWarning: The structure of `inputs` doesn't match the expected structure: ['input_layer']. Received: the structure of inputs=*\n",
      "  warnings.warn(\n"
     ]
    },
    {
     "name": "stdout",
     "output_type": "stream",
     "text": [
      "\u001b[1m920/920\u001b[0m \u001b[32m━━━━━━━━━━━━━━━━━━━━\u001b[0m\u001b[37m\u001b[0m \u001b[1m23s\u001b[0m 12ms/step - accuracy: 0.3108 - loss: 1.1109 - val_accuracy: 0.3701 - val_loss: 0.6749\n",
      "Epoch 2/50\n",
      "\u001b[1m920/920\u001b[0m \u001b[32m━━━━━━━━━━━━━━━━━━━━\u001b[0m\u001b[37m\u001b[0m \u001b[1m9s\u001b[0m 10ms/step - accuracy: 0.4488 - loss: 0.5672 - val_accuracy: 0.4587 - val_loss: 0.6218\n",
      "Epoch 3/50\n",
      "\u001b[1m920/920\u001b[0m \u001b[32m━━━━━━━━━━━━━━━━━━━━\u001b[0m\u001b[37m\u001b[0m \u001b[1m11s\u001b[0m 12ms/step - accuracy: 0.5303 - loss: 0.4726 - val_accuracy: 0.4728 - val_loss: 0.5825\n",
      "Epoch 4/50\n",
      "\u001b[1m920/920\u001b[0m \u001b[32m━━━━━━━━━━━━━━━━━━━━\u001b[0m\u001b[37m\u001b[0m \u001b[1m9s\u001b[0m 10ms/step - accuracy: 0.5778 - loss: 0.4123 - val_accuracy: 0.5000 - val_loss: 0.5297\n",
      "Epoch 5/50\n",
      "\u001b[1m920/920\u001b[0m \u001b[32m━━━━━━━━━━━━━━━━━━━━\u001b[0m\u001b[37m\u001b[0m \u001b[1m9s\u001b[0m 10ms/step - accuracy: 0.6281 - loss: 0.3699 - val_accuracy: 0.4679 - val_loss: 0.5509\n",
      "Epoch 6/50\n",
      "\u001b[1m920/920\u001b[0m \u001b[32m━━━━━━━━━━━━━━━━━━━━\u001b[0m\u001b[37m\u001b[0m \u001b[1m9s\u001b[0m 10ms/step - accuracy: 0.6653 - loss: 0.3307 - val_accuracy: 0.4886 - val_loss: 0.5708\n",
      "Epoch 7/50\n",
      "\u001b[1m920/920\u001b[0m \u001b[32m━━━━━━━━━━━━━━━━━━━━\u001b[0m\u001b[37m\u001b[0m \u001b[1m11s\u001b[0m 12ms/step - accuracy: 0.6815 - loss: 0.3042 - val_accuracy: 0.4565 - val_loss: 0.6007\n",
      "Epoch 8/50\n",
      "\u001b[1m920/920\u001b[0m \u001b[32m━━━━━━━━━━━━━━━━━━━━\u001b[0m\u001b[37m\u001b[0m \u001b[1m9s\u001b[0m 10ms/step - accuracy: 0.7249 - loss: 0.2576 - val_accuracy: 0.4810 - val_loss: 0.5939\n",
      "Epoch 9/50\n",
      "\u001b[1m920/920\u001b[0m \u001b[32m━━━━━━━━━━━━━━━━━━━━\u001b[0m\u001b[37m\u001b[0m \u001b[1m9s\u001b[0m 10ms/step - accuracy: 0.7745 - loss: 0.2028 - val_accuracy: 0.4946 - val_loss: 0.6002\n",
      "Epoch 10/50\n",
      "\u001b[1m920/920\u001b[0m \u001b[32m━━━━━━━━━━━━━━━━━━━━\u001b[0m\u001b[37m\u001b[0m \u001b[1m11s\u001b[0m 12ms/step - accuracy: 0.7916 - loss: 0.1786 - val_accuracy: 0.4793 - val_loss: 0.6053\n",
      "Epoch 11/50\n",
      "\u001b[1m920/920\u001b[0m \u001b[32m━━━━━━━━━━━━━━━━━━━━\u001b[0m\u001b[37m\u001b[0m \u001b[1m9s\u001b[0m 10ms/step - accuracy: 0.8240 - loss: 0.1474 - val_accuracy: 0.4815 - val_loss: 0.6580\n",
      "Epoch 12/50\n",
      "\u001b[1m920/920\u001b[0m \u001b[32m━━━━━━━━━━━━━━━━━━━━\u001b[0m\u001b[37m\u001b[0m \u001b[1m9s\u001b[0m 10ms/step - accuracy: 0.8318 - loss: 0.1208 - val_accuracy: 0.5174 - val_loss: 0.6245\n",
      "Epoch 13/50\n",
      "\u001b[1m920/920\u001b[0m \u001b[32m━━━━━━━━━━━━━━━━━━━━\u001b[0m\u001b[37m\u001b[0m \u001b[1m9s\u001b[0m 10ms/step - accuracy: 0.8323 - loss: 0.1054 - val_accuracy: 0.4603 - val_loss: 0.7196\n",
      "Epoch 14/50\n",
      "\u001b[1m920/920\u001b[0m \u001b[32m━━━━━━━━━━━━━━━━━━━━\u001b[0m\u001b[37m\u001b[0m \u001b[1m11s\u001b[0m 12ms/step - accuracy: 0.8439 - loss: 0.0905 - val_accuracy: 0.5299 - val_loss: 0.7238\n",
      "Epoch 15/50\n",
      "\u001b[1m920/920\u001b[0m \u001b[32m━━━━━━━━━━━━━━━━━━━━\u001b[0m\u001b[37m\u001b[0m \u001b[1m9s\u001b[0m 10ms/step - accuracy: 0.8549 - loss: 0.0827 - val_accuracy: 0.4723 - val_loss: 0.8065\n",
      "Epoch 16/50\n",
      "\u001b[1m920/920\u001b[0m \u001b[32m━━━━━━━━━━━━━━━━━━━━\u001b[0m\u001b[37m\u001b[0m \u001b[1m9s\u001b[0m 10ms/step - accuracy: 0.8611 - loss: 0.0751 - val_accuracy: 0.5163 - val_loss: 0.7531\n",
      "Epoch 17/50\n",
      "\u001b[1m920/920\u001b[0m \u001b[32m━━━━━━━━━━━━━━━━━━━━\u001b[0m\u001b[37m\u001b[0m \u001b[1m11s\u001b[0m 12ms/step - accuracy: 0.8500 - loss: 0.0699 - val_accuracy: 0.5207 - val_loss: 0.7968\n",
      "Epoch 18/50\n",
      "\u001b[1m920/920\u001b[0m \u001b[32m━━━━━━━━━━━━━━━━━━━━\u001b[0m\u001b[37m\u001b[0m \u001b[1m9s\u001b[0m 10ms/step - accuracy: 0.8641 - loss: 0.0631 - val_accuracy: 0.4707 - val_loss: 0.8204\n",
      "Epoch 19/50\n",
      "\u001b[1m920/920\u001b[0m \u001b[32m━━━━━━━━━━━━━━━━━━━━\u001b[0m\u001b[37m\u001b[0m \u001b[1m9s\u001b[0m 10ms/step - accuracy: 0.8666 - loss: 0.0592 - val_accuracy: 0.5245 - val_loss: 0.7913\n",
      "Epoch 20/50\n",
      "\u001b[1m920/920\u001b[0m \u001b[32m━━━━━━━━━━━━━━━━━━━━\u001b[0m\u001b[37m\u001b[0m \u001b[1m9s\u001b[0m 10ms/step - accuracy: 0.8500 - loss: 0.0565 - val_accuracy: 0.5005 - val_loss: 0.8817\n",
      "Epoch 21/50\n",
      "\u001b[1m920/920\u001b[0m \u001b[32m━━━━━━━━━━━━━━━━━━━━\u001b[0m\u001b[37m\u001b[0m \u001b[1m11s\u001b[0m 12ms/step - accuracy: 0.8460 - loss: 0.0597 - val_accuracy: 0.5147 - val_loss: 0.8914\n",
      "Epoch 22/50\n",
      "\u001b[1m920/920\u001b[0m \u001b[32m━━━━━━━━━━━━━━━━━━━━\u001b[0m\u001b[37m\u001b[0m \u001b[1m9s\u001b[0m 10ms/step - accuracy: 0.8638 - loss: 0.0475 - val_accuracy: 0.4989 - val_loss: 0.8747\n",
      "Epoch 23/50\n",
      "\u001b[1m920/920\u001b[0m \u001b[32m━━━━━━━━━━━━━━━━━━━━\u001b[0m\u001b[37m\u001b[0m \u001b[1m9s\u001b[0m 10ms/step - accuracy: 0.8636 - loss: 0.0453 - val_accuracy: 0.4940 - val_loss: 0.8484\n",
      "Epoch 24/50\n",
      "\u001b[1m920/920\u001b[0m \u001b[32m━━━━━━━━━━━━━━━━━━━━\u001b[0m\u001b[37m\u001b[0m \u001b[1m11s\u001b[0m 12ms/step - accuracy: 0.8558 - loss: 0.0484 - val_accuracy: 0.5136 - val_loss: 0.9057\n",
      "Epoch 25/50\n",
      "\u001b[1m920/920\u001b[0m \u001b[32m━━━━━━━━━━━━━━━━━━━━\u001b[0m\u001b[37m\u001b[0m \u001b[1m9s\u001b[0m 10ms/step - accuracy: 0.8538 - loss: 0.0442 - val_accuracy: 0.5071 - val_loss: 0.8949\n",
      "Epoch 26/50\n",
      "\u001b[1m920/920\u001b[0m \u001b[32m━━━━━━━━━━━━━━━━━━━━\u001b[0m\u001b[37m\u001b[0m \u001b[1m9s\u001b[0m 10ms/step - accuracy: 0.8670 - loss: 0.0422 - val_accuracy: 0.5326 - val_loss: 0.9156\n",
      "Epoch 27/50\n",
      "\u001b[1m920/920\u001b[0m \u001b[32m━━━━━━━━━━━━━━━━━━━━\u001b[0m\u001b[37m\u001b[0m \u001b[1m9s\u001b[0m 10ms/step - accuracy: 0.8671 - loss: 0.0339 - val_accuracy: 0.5016 - val_loss: 0.9177\n",
      "Epoch 28/50\n",
      "\u001b[1m920/920\u001b[0m \u001b[32m━━━━━━━━━━━━━━━━━━━━\u001b[0m\u001b[37m\u001b[0m \u001b[1m11s\u001b[0m 12ms/step - accuracy: 0.8610 - loss: 0.0445 - val_accuracy: 0.4701 - val_loss: 1.0512\n",
      "Epoch 29/50\n",
      "\u001b[1m920/920\u001b[0m \u001b[32m━━━━━━━━━━━━━━━━━━━━\u001b[0m\u001b[37m\u001b[0m \u001b[1m9s\u001b[0m 10ms/step - accuracy: 0.8582 - loss: 0.0386 - val_accuracy: 0.5418 - val_loss: 0.9231\n",
      "Epoch 30/50\n",
      "\u001b[1m920/920\u001b[0m \u001b[32m━━━━━━━━━━━━━━━━━━━━\u001b[0m\u001b[37m\u001b[0m \u001b[1m9s\u001b[0m 10ms/step - accuracy: 0.8586 - loss: 0.0343 - val_accuracy: 0.4842 - val_loss: 1.0036\n",
      "Epoch 31/50\n",
      "\u001b[1m920/920\u001b[0m \u001b[32m━━━━━━━━━━━━━━━━━━━━\u001b[0m\u001b[37m\u001b[0m \u001b[1m11s\u001b[0m 12ms/step - accuracy: 0.8662 - loss: 0.0390 - val_accuracy: 0.5359 - val_loss: 0.9690\n",
      "Epoch 32/50\n",
      "\u001b[1m920/920\u001b[0m \u001b[32m━━━━━━━━━━━━━━━━━━━━\u001b[0m\u001b[37m\u001b[0m \u001b[1m9s\u001b[0m 10ms/step - accuracy: 0.8637 - loss: 0.0332 - val_accuracy: 0.5261 - val_loss: 0.9172\n",
      "Epoch 33/50\n",
      "\u001b[1m920/920\u001b[0m \u001b[32m━━━━━━━━━━━━━━━━━━━━\u001b[0m\u001b[37m\u001b[0m \u001b[1m9s\u001b[0m 10ms/step - accuracy: 0.8637 - loss: 0.0362 - val_accuracy: 0.5092 - val_loss: 1.0310\n",
      "Epoch 34/50\n",
      "\u001b[1m920/920\u001b[0m \u001b[32m━━━━━━━━━━━━━━━━━━━━\u001b[0m\u001b[37m\u001b[0m \u001b[1m9s\u001b[0m 10ms/step - accuracy: 0.8608 - loss: 0.0307 - val_accuracy: 0.5364 - val_loss: 1.0290\n",
      "Epoch 35/50\n",
      "\u001b[1m920/920\u001b[0m \u001b[32m━━━━━━━━━━━━━━━━━━━━\u001b[0m\u001b[37m\u001b[0m \u001b[1m11s\u001b[0m 12ms/step - accuracy: 0.8562 - loss: 0.0326 - val_accuracy: 0.5261 - val_loss: 1.1366\n",
      "Epoch 36/50\n",
      "\u001b[1m920/920\u001b[0m \u001b[32m━━━━━━━━━━━━━━━━━━━━\u001b[0m\u001b[37m\u001b[0m \u001b[1m9s\u001b[0m 10ms/step - accuracy: 0.8623 - loss: 0.0322 - val_accuracy: 0.4793 - val_loss: 1.0793\n",
      "Epoch 37/50\n",
      "\u001b[1m920/920\u001b[0m \u001b[32m━━━━━━━━━━━━━━━━━━━━\u001b[0m\u001b[37m\u001b[0m \u001b[1m9s\u001b[0m 10ms/step - accuracy: 0.8661 - loss: 0.0280 - val_accuracy: 0.5033 - val_loss: 0.9826\n",
      "Epoch 38/50\n",
      "\u001b[1m920/920\u001b[0m \u001b[32m━━━━━━━━━━━━━━━━━━━━\u001b[0m\u001b[37m\u001b[0m \u001b[1m11s\u001b[0m 12ms/step - accuracy: 0.8672 - loss: 0.0277 - val_accuracy: 0.5239 - val_loss: 0.9898\n",
      "Epoch 39/50\n",
      "\u001b[1m920/920\u001b[0m \u001b[32m━━━━━━━━━━━━━━━━━━━━\u001b[0m\u001b[37m\u001b[0m \u001b[1m9s\u001b[0m 10ms/step - accuracy: 0.8579 - loss: 0.0305 - val_accuracy: 0.5234 - val_loss: 1.0103\n",
      "Epoch 40/50\n",
      "\u001b[1m920/920\u001b[0m \u001b[32m━━━━━━━━━━━━━━━━━━━━\u001b[0m\u001b[37m\u001b[0m \u001b[1m9s\u001b[0m 10ms/step - accuracy: 0.8581 - loss: 0.0261 - val_accuracy: 0.5364 - val_loss: 1.0180\n",
      "Epoch 41/50\n",
      "\u001b[1m920/920\u001b[0m \u001b[32m━━━━━━━━━━━━━━━━━━━━\u001b[0m\u001b[37m\u001b[0m \u001b[1m9s\u001b[0m 10ms/step - accuracy: 0.8668 - loss: 0.0283 - val_accuracy: 0.5196 - val_loss: 0.9829\n",
      "Epoch 42/50\n",
      "\u001b[1m920/920\u001b[0m \u001b[32m━━━━━━━━━━━━━━━━━━━━\u001b[0m\u001b[37m\u001b[0m \u001b[1m11s\u001b[0m 12ms/step - accuracy: 0.8673 - loss: 0.0237 - val_accuracy: 0.5370 - val_loss: 1.0785\n",
      "Epoch 43/50\n",
      "\u001b[1m920/920\u001b[0m \u001b[32m━━━━━━━━━━━━━━━━━━━━\u001b[0m\u001b[37m\u001b[0m \u001b[1m9s\u001b[0m 10ms/step - accuracy: 0.8633 - loss: 0.0227 - val_accuracy: 0.5038 - val_loss: 1.1294\n",
      "Epoch 44/50\n",
      "\u001b[1m920/920\u001b[0m \u001b[32m━━━━━━━━━━━━━━━━━━━━\u001b[0m\u001b[37m\u001b[0m \u001b[1m9s\u001b[0m 10ms/step - accuracy: 0.8662 - loss: 0.0226 - val_accuracy: 0.4924 - val_loss: 1.1513\n",
      "Epoch 45/50\n",
      "\u001b[1m920/920\u001b[0m \u001b[32m━━━━━━━━━━━━━━━━━━━━\u001b[0m\u001b[37m\u001b[0m \u001b[1m11s\u001b[0m 12ms/step - accuracy: 0.8624 - loss: 0.0279 - val_accuracy: 0.5250 - val_loss: 1.0770\n",
      "Epoch 46/50\n",
      "\u001b[1m920/920\u001b[0m \u001b[32m━━━━━━━━━━━━━━━━━━━━\u001b[0m\u001b[37m\u001b[0m \u001b[1m9s\u001b[0m 10ms/step - accuracy: 0.8663 - loss: 0.0235 - val_accuracy: 0.5158 - val_loss: 1.0641\n",
      "Epoch 47/50\n",
      "\u001b[1m920/920\u001b[0m \u001b[32m━━━━━━━━━━━━━━━━━━━━\u001b[0m\u001b[37m\u001b[0m \u001b[1m9s\u001b[0m 10ms/step - accuracy: 0.8683 - loss: 0.0236 - val_accuracy: 0.5239 - val_loss: 1.0241\n",
      "Epoch 48/50\n",
      "\u001b[1m920/920\u001b[0m \u001b[32m━━━━━━━━━━━━━━━━━━━━\u001b[0m\u001b[37m\u001b[0m \u001b[1m9s\u001b[0m 10ms/step - accuracy: 0.8715 - loss: 0.0190 - val_accuracy: 0.5049 - val_loss: 1.2595\n",
      "Epoch 49/50\n",
      "\u001b[1m920/920\u001b[0m \u001b[32m━━━━━━━━━━━━━━━━━━━━\u001b[0m\u001b[37m\u001b[0m \u001b[1m11s\u001b[0m 12ms/step - accuracy: 0.8683 - loss: 0.0211 - val_accuracy: 0.5136 - val_loss: 1.1235\n",
      "Epoch 50/50\n",
      "\u001b[1m920/920\u001b[0m \u001b[32m━━━━━━━━━━━━━━━━━━━━\u001b[0m\u001b[37m\u001b[0m \u001b[1m9s\u001b[0m 10ms/step - accuracy: 0.8702 - loss: 0.0180 - val_accuracy: 0.5582 - val_loss: 1.1788\n"
     ]
    },
    {
     "name": "stderr",
     "output_type": "stream",
     "text": [
      "WARNING:absl:You are saving your model as an HDF5 file via `model.save()` or `keras.saving.save_model(model)`. This file format is considered legacy. We recommend using instead the native Keras format, e.g. `model.save('my_model.keras')` or `keras.saving.save_model(model, 'my_model.keras')`. \n"
     ]
    },
    {
     "name": "stdout",
     "output_type": "stream",
     "text": [
      "##################### FOLD - 4 #####################\n"
     ]
    },
    {
     "name": "stderr",
     "output_type": "stream",
     "text": [
      "Processing images: 100%|██████████| 7360/7360 [00:13<00:00, 559.48it/s]\n",
      "Processing images: 100%|██████████| 1840/1840 [00:05<00:00, 344.57it/s]\n"
     ]
    },
    {
     "name": "stdout",
     "output_type": "stream",
     "text": [
      "Epoch 1/50\n"
     ]
    },
    {
     "name": "stderr",
     "output_type": "stream",
     "text": [
      "/root/projects/tf217/tf217/lib/python3.12/site-packages/keras/src/models/functional.py:225: UserWarning: The structure of `inputs` doesn't match the expected structure: ['input_layer']. Received: the structure of inputs=*\n",
      "  warnings.warn(\n"
     ]
    },
    {
     "name": "stdout",
     "output_type": "stream",
     "text": [
      "\u001b[1m918/920\u001b[0m \u001b[32m━━━━━━━━━━━━━━━━━━━\u001b[0m\u001b[37m━\u001b[0m \u001b[1m0s\u001b[0m 9ms/step - accuracy: 0.2944 - loss: 0.8888"
     ]
    },
    {
     "name": "stderr",
     "output_type": "stream",
     "text": [
      "/root/projects/tf217/tf217/lib/python3.12/site-packages/keras/src/models/functional.py:225: UserWarning: The structure of `inputs` doesn't match the expected structure: ['input_layer']. Received: the structure of inputs=*\n",
      "  warnings.warn(\n"
     ]
    },
    {
     "name": "stdout",
     "output_type": "stream",
     "text": [
      "\u001b[1m920/920\u001b[0m \u001b[32m━━━━━━━━━━━━━━━━━━━━\u001b[0m\u001b[37m\u001b[0m \u001b[1m21s\u001b[0m 12ms/step - accuracy: 0.2946 - loss: 0.8884 - val_accuracy: 0.3538 - val_loss: 0.6878\n",
      "Epoch 2/50\n",
      "\u001b[1m920/920\u001b[0m \u001b[32m━━━━━━━━━━━━━━━━━━━━\u001b[0m\u001b[37m\u001b[0m \u001b[1m11s\u001b[0m 12ms/step - accuracy: 0.4612 - loss: 0.5506 - val_accuracy: 0.4609 - val_loss: 0.5697\n",
      "Epoch 3/50\n",
      "\u001b[1m920/920\u001b[0m \u001b[32m━━━━━━━━━━━━━━━━━━━━\u001b[0m\u001b[37m\u001b[0m \u001b[1m9s\u001b[0m 10ms/step - accuracy: 0.5222 - loss: 0.4724 - val_accuracy: 0.4522 - val_loss: 0.5591\n",
      "Epoch 4/50\n",
      "\u001b[1m920/920\u001b[0m \u001b[32m━━━━━━━━━━━━━━━━━━━━\u001b[0m\u001b[37m\u001b[0m \u001b[1m9s\u001b[0m 10ms/step - accuracy: 0.5588 - loss: 0.4263 - val_accuracy: 0.4625 - val_loss: 0.5646\n",
      "Epoch 5/50\n",
      "\u001b[1m920/920\u001b[0m \u001b[32m━━━━━━━━━━━━━━━━━━━━\u001b[0m\u001b[37m\u001b[0m \u001b[1m9s\u001b[0m 10ms/step - accuracy: 0.5953 - loss: 0.3908 - val_accuracy: 0.4549 - val_loss: 0.5906\n",
      "Epoch 6/50\n",
      "\u001b[1m920/920\u001b[0m \u001b[32m━━━━━━━━━━━━━━━━━━━━\u001b[0m\u001b[37m\u001b[0m \u001b[1m11s\u001b[0m 12ms/step - accuracy: 0.6337 - loss: 0.3415 - val_accuracy: 0.5016 - val_loss: 0.5447\n",
      "Epoch 7/50\n",
      "\u001b[1m920/920\u001b[0m \u001b[32m━━━━━━━━━━━━━━━━━━━━\u001b[0m\u001b[37m\u001b[0m \u001b[1m9s\u001b[0m 10ms/step - accuracy: 0.6825 - loss: 0.3010 - val_accuracy: 0.5038 - val_loss: 0.5526\n",
      "Epoch 8/50\n",
      "\u001b[1m920/920\u001b[0m \u001b[32m━━━━━━━━━━━━━━━━━━━━\u001b[0m\u001b[37m\u001b[0m \u001b[1m9s\u001b[0m 10ms/step - accuracy: 0.7344 - loss: 0.2561 - val_accuracy: 0.4804 - val_loss: 0.6070\n",
      "Epoch 9/50\n",
      "\u001b[1m920/920\u001b[0m \u001b[32m━━━━━━━━━━━━━━━━━━━━\u001b[0m\u001b[37m\u001b[0m \u001b[1m11s\u001b[0m 12ms/step - accuracy: 0.7509 - loss: 0.2311 - val_accuracy: 0.5228 - val_loss: 0.5918\n",
      "Epoch 10/50\n",
      "\u001b[1m920/920\u001b[0m \u001b[32m━━━━━━━━━━━━━━━━━━━━\u001b[0m\u001b[37m\u001b[0m \u001b[1m9s\u001b[0m 10ms/step - accuracy: 0.7739 - loss: 0.1942 - val_accuracy: 0.5043 - val_loss: 0.6202\n",
      "Epoch 11/50\n",
      "\u001b[1m920/920\u001b[0m \u001b[32m━━━━━━━━━━━━━━━━━━━━\u001b[0m\u001b[37m\u001b[0m \u001b[1m9s\u001b[0m 10ms/step - accuracy: 0.8212 - loss: 0.1555 - val_accuracy: 0.4571 - val_loss: 0.7082\n",
      "Epoch 12/50\n",
      "\u001b[1m920/920\u001b[0m \u001b[32m━━━━━━━━━━━━━━━━━━━━\u001b[0m\u001b[37m\u001b[0m \u001b[1m10s\u001b[0m 10ms/step - accuracy: 0.8237 - loss: 0.1324 - val_accuracy: 0.5054 - val_loss: 0.6921\n",
      "Epoch 13/50\n",
      "\u001b[1m920/920\u001b[0m \u001b[32m━━━━━━━━━━━━━━━━━━━━\u001b[0m\u001b[37m\u001b[0m \u001b[1m11s\u001b[0m 12ms/step - accuracy: 0.8404 - loss: 0.1082 - val_accuracy: 0.5337 - val_loss: 0.7183\n",
      "Epoch 14/50\n",
      "\u001b[1m920/920\u001b[0m \u001b[32m━━━━━━━━━━━━━━━━━━━━\u001b[0m\u001b[37m\u001b[0m \u001b[1m9s\u001b[0m 10ms/step - accuracy: 0.8515 - loss: 0.0935 - val_accuracy: 0.4766 - val_loss: 0.8115\n",
      "Epoch 15/50\n",
      "\u001b[1m920/920\u001b[0m \u001b[32m━━━━━━━━━━━━━━━━━━━━\u001b[0m\u001b[37m\u001b[0m \u001b[1m9s\u001b[0m 10ms/step - accuracy: 0.8468 - loss: 0.0791 - val_accuracy: 0.5179 - val_loss: 0.7614\n",
      "Epoch 16/50\n",
      "\u001b[1m920/920\u001b[0m \u001b[32m━━━━━━━━━━━━━━━━━━━━\u001b[0m\u001b[37m\u001b[0m \u001b[1m11s\u001b[0m 12ms/step - accuracy: 0.8533 - loss: 0.0807 - val_accuracy: 0.5038 - val_loss: 0.8500\n",
      "Epoch 17/50\n",
      "\u001b[1m920/920\u001b[0m \u001b[32m━━━━━━━━━━━━━━━━━━━━\u001b[0m\u001b[37m\u001b[0m \u001b[1m9s\u001b[0m 10ms/step - accuracy: 0.8555 - loss: 0.0728 - val_accuracy: 0.5207 - val_loss: 0.8264\n",
      "Epoch 18/50\n",
      "\u001b[1m920/920\u001b[0m \u001b[32m━━━━━━━━━━━━━━━━━━━━\u001b[0m\u001b[37m\u001b[0m \u001b[1m9s\u001b[0m 10ms/step - accuracy: 0.8639 - loss: 0.0645 - val_accuracy: 0.5092 - val_loss: 0.8126\n",
      "Epoch 19/50\n",
      "\u001b[1m920/920\u001b[0m \u001b[32m━━━━━━━━━━━━━━━━━━━━\u001b[0m\u001b[37m\u001b[0m \u001b[1m10s\u001b[0m 10ms/step - accuracy: 0.8556 - loss: 0.0585 - val_accuracy: 0.4875 - val_loss: 0.8045\n",
      "Epoch 20/50\n",
      "\u001b[1m920/920\u001b[0m \u001b[32m━━━━━━━━━━━━━━━━━━━━\u001b[0m\u001b[37m\u001b[0m \u001b[1m11s\u001b[0m 12ms/step - accuracy: 0.8602 - loss: 0.0569 - val_accuracy: 0.5266 - val_loss: 0.9273\n",
      "Epoch 21/50\n",
      "\u001b[1m920/920\u001b[0m \u001b[32m━━━━━━━━━━━━━━━━━━━━\u001b[0m\u001b[37m\u001b[0m \u001b[1m9s\u001b[0m 10ms/step - accuracy: 0.8589 - loss: 0.0490 - val_accuracy: 0.5386 - val_loss: 0.9163\n",
      "Epoch 22/50\n",
      "\u001b[1m920/920\u001b[0m \u001b[32m━━━━━━━━━━━━━━━━━━━━\u001b[0m\u001b[37m\u001b[0m \u001b[1m9s\u001b[0m 10ms/step - accuracy: 0.8610 - loss: 0.0493 - val_accuracy: 0.5207 - val_loss: 0.8737\n",
      "Epoch 23/50\n",
      "\u001b[1m920/920\u001b[0m \u001b[32m━━━━━━━━━━━━━━━━━━━━\u001b[0m\u001b[37m\u001b[0m \u001b[1m11s\u001b[0m 12ms/step - accuracy: 0.8693 - loss: 0.0433 - val_accuracy: 0.5141 - val_loss: 0.9835\n",
      "Epoch 24/50\n",
      "\u001b[1m920/920\u001b[0m \u001b[32m━━━━━━━━━━━━━━━━━━━━\u001b[0m\u001b[37m\u001b[0m \u001b[1m9s\u001b[0m 10ms/step - accuracy: 0.8682 - loss: 0.0442 - val_accuracy: 0.5071 - val_loss: 0.9874\n",
      "Epoch 25/50\n",
      "\u001b[1m920/920\u001b[0m \u001b[32m━━━━━━━━━━━━━━━━━━━━\u001b[0m\u001b[37m\u001b[0m \u001b[1m9s\u001b[0m 10ms/step - accuracy: 0.8554 - loss: 0.0428 - val_accuracy: 0.5179 - val_loss: 0.9402\n",
      "Epoch 26/50\n",
      "\u001b[1m920/920\u001b[0m \u001b[32m━━━━━━━━━━━━━━━━━━━━\u001b[0m\u001b[37m\u001b[0m \u001b[1m11s\u001b[0m 12ms/step - accuracy: 0.8589 - loss: 0.0421 - val_accuracy: 0.4429 - val_loss: 1.1098\n",
      "Epoch 27/50\n",
      "\u001b[1m920/920\u001b[0m \u001b[32m━━━━━━━━━━━━━━━━━━━━\u001b[0m\u001b[37m\u001b[0m \u001b[1m9s\u001b[0m 10ms/step - accuracy: 0.8580 - loss: 0.0408 - val_accuracy: 0.5239 - val_loss: 0.9334\n",
      "Epoch 28/50\n",
      "\u001b[1m920/920\u001b[0m \u001b[32m━━━━━━━━━━━━━━━━━━━━\u001b[0m\u001b[37m\u001b[0m \u001b[1m9s\u001b[0m 10ms/step - accuracy: 0.8610 - loss: 0.0403 - val_accuracy: 0.5174 - val_loss: 0.9517\n",
      "Epoch 29/50\n",
      "\u001b[1m920/920\u001b[0m \u001b[32m━━━━━━━━━━━━━━━━━━━━\u001b[0m\u001b[37m\u001b[0m \u001b[1m9s\u001b[0m 10ms/step - accuracy: 0.8543 - loss: 0.0376 - val_accuracy: 0.5462 - val_loss: 0.9863\n",
      "Epoch 30/50\n",
      "\u001b[1m920/920\u001b[0m \u001b[32m━━━━━━━━━━━━━━━━━━━━\u001b[0m\u001b[37m\u001b[0m \u001b[1m11s\u001b[0m 12ms/step - accuracy: 0.8529 - loss: 0.0356 - val_accuracy: 0.5011 - val_loss: 1.0321\n",
      "Epoch 31/50\n",
      "\u001b[1m920/920\u001b[0m \u001b[32m━━━━━━━━━━━━━━━━━━━━\u001b[0m\u001b[37m\u001b[0m \u001b[1m9s\u001b[0m 10ms/step - accuracy: 0.8678 - loss: 0.0295 - val_accuracy: 0.5201 - val_loss: 1.0014\n",
      "Epoch 32/50\n",
      "\u001b[1m920/920\u001b[0m \u001b[32m━━━━━━━━━━━━━━━━━━━━\u001b[0m\u001b[37m\u001b[0m \u001b[1m9s\u001b[0m 10ms/step - accuracy: 0.8541 - loss: 0.0331 - val_accuracy: 0.5109 - val_loss: 1.0724\n",
      "Epoch 33/50\n",
      "\u001b[1m920/920\u001b[0m \u001b[32m━━━━━━━━━━━━━━━━━━━━\u001b[0m\u001b[37m\u001b[0m \u001b[1m11s\u001b[0m 12ms/step - accuracy: 0.8529 - loss: 0.0335 - val_accuracy: 0.5212 - val_loss: 0.9948\n",
      "Epoch 34/50\n",
      "\u001b[1m920/920\u001b[0m \u001b[32m━━━━━━━━━━━━━━━━━━━━\u001b[0m\u001b[37m\u001b[0m \u001b[1m9s\u001b[0m 10ms/step - accuracy: 0.8622 - loss: 0.0250 - val_accuracy: 0.5473 - val_loss: 1.0896\n",
      "Epoch 35/50\n",
      "\u001b[1m920/920\u001b[0m \u001b[32m━━━━━━━━━━━━━━━━━━━━\u001b[0m\u001b[37m\u001b[0m \u001b[1m9s\u001b[0m 10ms/step - accuracy: 0.8604 - loss: 0.0327 - val_accuracy: 0.5315 - val_loss: 0.9954\n",
      "Epoch 36/50\n",
      "\u001b[1m920/920\u001b[0m \u001b[32m━━━━━━━━━━━━━━━━━━━━\u001b[0m\u001b[37m\u001b[0m \u001b[1m9s\u001b[0m 10ms/step - accuracy: 0.8703 - loss: 0.0318 - val_accuracy: 0.5087 - val_loss: 1.0369\n",
      "Epoch 37/50\n",
      "\u001b[1m920/920\u001b[0m \u001b[32m━━━━━━━━━━━━━━━━━━━━\u001b[0m\u001b[37m\u001b[0m \u001b[1m11s\u001b[0m 12ms/step - accuracy: 0.8621 - loss: 0.0279 - val_accuracy: 0.5516 - val_loss: 1.0980\n",
      "Epoch 38/50\n",
      "\u001b[1m920/920\u001b[0m \u001b[32m━━━━━━━━━━━━━━━━━━━━\u001b[0m\u001b[37m\u001b[0m \u001b[1m9s\u001b[0m 10ms/step - accuracy: 0.8563 - loss: 0.0318 - val_accuracy: 0.5201 - val_loss: 1.0150\n",
      "Epoch 39/50\n",
      "\u001b[1m920/920\u001b[0m \u001b[32m━━━━━━━━━━━━━━━━━━━━\u001b[0m\u001b[37m\u001b[0m \u001b[1m9s\u001b[0m 10ms/step - accuracy: 0.8626 - loss: 0.0239 - val_accuracy: 0.5277 - val_loss: 1.0587\n",
      "Epoch 40/50\n",
      "\u001b[1m920/920\u001b[0m \u001b[32m━━━━━━━━━━━━━━━━━━━━\u001b[0m\u001b[37m\u001b[0m \u001b[1m11s\u001b[0m 12ms/step - accuracy: 0.8662 - loss: 0.0267 - val_accuracy: 0.5120 - val_loss: 1.1031\n",
      "Epoch 41/50\n",
      "\u001b[1m920/920\u001b[0m \u001b[32m━━━━━━━━━━━━━━━━━━━━\u001b[0m\u001b[37m\u001b[0m \u001b[1m9s\u001b[0m 10ms/step - accuracy: 0.8654 - loss: 0.0195 - val_accuracy: 0.5342 - val_loss: 1.0722\n",
      "Epoch 42/50\n",
      "\u001b[1m920/920\u001b[0m \u001b[32m━━━━━━━━━━━━━━━━━━━━\u001b[0m\u001b[37m\u001b[0m \u001b[1m9s\u001b[0m 10ms/step - accuracy: 0.8627 - loss: 0.0274 - val_accuracy: 0.5011 - val_loss: 1.1044\n",
      "Epoch 43/50\n",
      "\u001b[1m920/920\u001b[0m \u001b[32m━━━━━━━━━━━━━━━━━━━━\u001b[0m\u001b[37m\u001b[0m \u001b[1m9s\u001b[0m 10ms/step - accuracy: 0.8677 - loss: 0.0265 - val_accuracy: 0.5000 - val_loss: 1.1233\n",
      "Epoch 44/50\n",
      "\u001b[1m920/920\u001b[0m \u001b[32m━━━━━━━━━━━━━━━━━━━━\u001b[0m\u001b[37m\u001b[0m \u001b[1m11s\u001b[0m 12ms/step - accuracy: 0.8609 - loss: 0.0231 - val_accuracy: 0.5201 - val_loss: 1.1383\n",
      "Epoch 45/50\n",
      "\u001b[1m920/920\u001b[0m \u001b[32m━━━━━━━━━━━━━━━━━━━━\u001b[0m\u001b[37m\u001b[0m \u001b[1m9s\u001b[0m 10ms/step - accuracy: 0.8701 - loss: 0.0228 - val_accuracy: 0.5005 - val_loss: 1.1762\n",
      "Epoch 46/50\n",
      "\u001b[1m920/920\u001b[0m \u001b[32m━━━━━━━━━━━━━━━━━━━━\u001b[0m\u001b[37m\u001b[0m \u001b[1m9s\u001b[0m 10ms/step - accuracy: 0.8646 - loss: 0.0226 - val_accuracy: 0.4804 - val_loss: 1.1675\n",
      "Epoch 47/50\n",
      "\u001b[1m920/920\u001b[0m \u001b[32m━━━━━━━━━━━━━━━━━━━━\u001b[0m\u001b[37m\u001b[0m \u001b[1m11s\u001b[0m 12ms/step - accuracy: 0.8642 - loss: 0.0190 - val_accuracy: 0.4951 - val_loss: 1.1804\n",
      "Epoch 48/50\n",
      "\u001b[1m920/920\u001b[0m \u001b[32m━━━━━━━━━━━━━━━━━━━━\u001b[0m\u001b[37m\u001b[0m \u001b[1m9s\u001b[0m 10ms/step - accuracy: 0.8636 - loss: 0.0222 - val_accuracy: 0.5408 - val_loss: 1.1430\n",
      "Epoch 49/50\n",
      "\u001b[1m920/920\u001b[0m \u001b[32m━━━━━━━━━━━━━━━━━━━━\u001b[0m\u001b[37m\u001b[0m \u001b[1m9s\u001b[0m 10ms/step - accuracy: 0.8597 - loss: 0.0220 - val_accuracy: 0.5272 - val_loss: 1.2568\n",
      "Epoch 50/50\n",
      "\u001b[1m920/920\u001b[0m \u001b[32m━━━━━━━━━━━━━━━━━━━━\u001b[0m\u001b[37m\u001b[0m \u001b[1m9s\u001b[0m 10ms/step - accuracy: 0.8608 - loss: 0.0279 - val_accuracy: 0.5424 - val_loss: 1.1422\n"
     ]
    },
    {
     "name": "stderr",
     "output_type": "stream",
     "text": [
      "WARNING:absl:You are saving your model as an HDF5 file via `model.save()` or `keras.saving.save_model(model)`. This file format is considered legacy. We recommend using instead the native Keras format, e.g. `model.save('my_model.keras')` or `keras.saving.save_model(model, 'my_model.keras')`. \n"
     ]
    },
    {
     "name": "stdout",
     "output_type": "stream",
     "text": [
      "##################### FOLD - 5 #####################\n"
     ]
    },
    {
     "name": "stderr",
     "output_type": "stream",
     "text": [
      "Processing images: 100%|██████████| 7360/7360 [00:13<00:00, 542.29it/s]\n",
      "Processing images: 100%|██████████| 1840/1840 [00:03<00:00, 541.66it/s]\n"
     ]
    },
    {
     "name": "stdout",
     "output_type": "stream",
     "text": [
      "Epoch 1/50\n"
     ]
    },
    {
     "name": "stderr",
     "output_type": "stream",
     "text": [
      "/root/projects/tf217/tf217/lib/python3.12/site-packages/keras/src/models/functional.py:225: UserWarning: The structure of `inputs` doesn't match the expected structure: ['input_layer']. Received: the structure of inputs=*\n",
      "  warnings.warn(\n"
     ]
    },
    {
     "name": "stdout",
     "output_type": "stream",
     "text": [
      "\u001b[1m917/920\u001b[0m \u001b[32m━━━━━━━━━━━━━━━━━━━\u001b[0m\u001b[37m━\u001b[0m \u001b[1m0s\u001b[0m 9ms/step - accuracy: 0.2955 - loss: 0.9277"
     ]
    },
    {
     "name": "stderr",
     "output_type": "stream",
     "text": [
      "/root/projects/tf217/tf217/lib/python3.12/site-packages/keras/src/models/functional.py:225: UserWarning: The structure of `inputs` doesn't match the expected structure: ['input_layer']. Received: the structure of inputs=*\n",
      "  warnings.warn(\n"
     ]
    },
    {
     "name": "stdout",
     "output_type": "stream",
     "text": [
      "\u001b[1m920/920\u001b[0m \u001b[32m━━━━━━━━━━━━━━━━━━━━\u001b[0m\u001b[37m\u001b[0m \u001b[1m24s\u001b[0m 12ms/step - accuracy: 0.2957 - loss: 0.9270 - val_accuracy: 0.2739 - val_loss: 0.8632\n",
      "Epoch 2/50\n",
      "\u001b[1m920/920\u001b[0m \u001b[32m━━━━━━━━━━━━━━━━━━━━\u001b[0m\u001b[37m\u001b[0m \u001b[1m9s\u001b[0m 10ms/step - accuracy: 0.4570 - loss: 0.5646 - val_accuracy: 0.4408 - val_loss: 0.6286\n",
      "Epoch 3/50\n",
      "\u001b[1m920/920\u001b[0m \u001b[32m━━━━━━━━━━━━━━━━━━━━\u001b[0m\u001b[37m\u001b[0m \u001b[1m9s\u001b[0m 10ms/step - accuracy: 0.5091 - loss: 0.4912 - val_accuracy: 0.4071 - val_loss: 0.5979\n",
      "Epoch 4/50\n",
      "\u001b[1m920/920\u001b[0m \u001b[32m━━━━━━━━━━━━━━━━━━━━\u001b[0m\u001b[37m\u001b[0m \u001b[1m11s\u001b[0m 12ms/step - accuracy: 0.5532 - loss: 0.4329 - val_accuracy: 0.4853 - val_loss: 0.6025\n",
      "Epoch 5/50\n",
      "\u001b[1m920/920\u001b[0m \u001b[32m━━━━━━━━━━━━━━━━━━━━\u001b[0m\u001b[37m\u001b[0m \u001b[1m9s\u001b[0m 10ms/step - accuracy: 0.5971 - loss: 0.3868 - val_accuracy: 0.4728 - val_loss: 0.5478\n",
      "Epoch 6/50\n",
      "\u001b[1m920/920\u001b[0m \u001b[32m━━━━━━━━━━━━━━━━━━━━\u001b[0m\u001b[37m\u001b[0m \u001b[1m9s\u001b[0m 10ms/step - accuracy: 0.6547 - loss: 0.3304 - val_accuracy: 0.4516 - val_loss: 0.5926\n",
      "Epoch 7/50\n",
      "\u001b[1m920/920\u001b[0m \u001b[32m━━━━━━━━━━━━━━━━━━━━\u001b[0m\u001b[37m\u001b[0m \u001b[1m11s\u001b[0m 12ms/step - accuracy: 0.7063 - loss: 0.2921 - val_accuracy: 0.4902 - val_loss: 0.5735\n",
      "Epoch 8/50\n",
      "\u001b[1m920/920\u001b[0m \u001b[32m━━━━━━━━━━━━━━━━━━━━\u001b[0m\u001b[37m\u001b[0m \u001b[1m9s\u001b[0m 10ms/step - accuracy: 0.7253 - loss: 0.2454 - val_accuracy: 0.4625 - val_loss: 0.5896\n",
      "Epoch 9/50\n",
      "\u001b[1m920/920\u001b[0m \u001b[32m━━━━━━━━━━━━━━━━━━━━\u001b[0m\u001b[37m\u001b[0m \u001b[1m9s\u001b[0m 10ms/step - accuracy: 0.7614 - loss: 0.2154 - val_accuracy: 0.4516 - val_loss: 0.6732\n",
      "Epoch 10/50\n",
      "\u001b[1m920/920\u001b[0m \u001b[32m━━━━━━━━━━━━━━━━━━━━\u001b[0m\u001b[37m\u001b[0m \u001b[1m9s\u001b[0m 10ms/step - accuracy: 0.7868 - loss: 0.1789 - val_accuracy: 0.5109 - val_loss: 0.6595\n",
      "Epoch 11/50\n",
      "\u001b[1m920/920\u001b[0m \u001b[32m━━━━━━━━━━━━━━━━━━━━\u001b[0m\u001b[37m\u001b[0m \u001b[1m11s\u001b[0m 12ms/step - accuracy: 0.8062 - loss: 0.1547 - val_accuracy: 0.5082 - val_loss: 0.6776\n",
      "Epoch 12/50\n",
      "\u001b[1m920/920\u001b[0m \u001b[32m━━━━━━━━━━━━━━━━━━━━\u001b[0m\u001b[37m\u001b[0m \u001b[1m9s\u001b[0m 10ms/step - accuracy: 0.8246 - loss: 0.1236 - val_accuracy: 0.4870 - val_loss: 0.6609\n",
      "Epoch 13/50\n",
      "\u001b[1m920/920\u001b[0m \u001b[32m━━━━━━━━━━━━━━━━━━━━\u001b[0m\u001b[37m\u001b[0m \u001b[1m9s\u001b[0m 10ms/step - accuracy: 0.8412 - loss: 0.1018 - val_accuracy: 0.5071 - val_loss: 0.7259\n",
      "Epoch 14/50\n",
      "\u001b[1m920/920\u001b[0m \u001b[32m━━━━━━━━━━━━━━━━━━━━\u001b[0m\u001b[37m\u001b[0m \u001b[1m11s\u001b[0m 12ms/step - accuracy: 0.8455 - loss: 0.0922 - val_accuracy: 0.4788 - val_loss: 0.7083\n",
      "Epoch 15/50\n",
      "\u001b[1m920/920\u001b[0m \u001b[32m━━━━━━━━━━━━━━━━━━━━\u001b[0m\u001b[37m\u001b[0m \u001b[1m9s\u001b[0m 10ms/step - accuracy: 0.8468 - loss: 0.0845 - val_accuracy: 0.4701 - val_loss: 0.7690\n",
      "Epoch 16/50\n",
      "\u001b[1m920/920\u001b[0m \u001b[32m━━━━━━━━━━━━━━━━━━━━\u001b[0m\u001b[37m\u001b[0m \u001b[1m9s\u001b[0m 10ms/step - accuracy: 0.8560 - loss: 0.0747 - val_accuracy: 0.5011 - val_loss: 0.7549\n",
      "Epoch 17/50\n",
      "\u001b[1m920/920\u001b[0m \u001b[32m━━━━━━━━━━━━━━━━━━━━\u001b[0m\u001b[37m\u001b[0m \u001b[1m9s\u001b[0m 10ms/step - accuracy: 0.8513 - loss: 0.0687 - val_accuracy: 0.4815 - val_loss: 0.7911\n",
      "Epoch 18/50\n",
      "\u001b[1m920/920\u001b[0m \u001b[32m━━━━━━━━━━━━━━━━━━━━\u001b[0m\u001b[37m\u001b[0m \u001b[1m11s\u001b[0m 12ms/step - accuracy: 0.8527 - loss: 0.0636 - val_accuracy: 0.4603 - val_loss: 0.8478\n",
      "Epoch 19/50\n",
      "\u001b[1m920/920\u001b[0m \u001b[32m━━━━━━━━━━━━━━━━━━━━\u001b[0m\u001b[37m\u001b[0m \u001b[1m9s\u001b[0m 9ms/step - accuracy: 0.8667 - loss: 0.0553 - val_accuracy: 0.5098 - val_loss: 0.8907\n",
      "Epoch 20/50\n",
      "\u001b[1m920/920\u001b[0m \u001b[32m━━━━━━━━━━━━━━━━━━━━\u001b[0m\u001b[37m\u001b[0m \u001b[1m9s\u001b[0m 10ms/step - accuracy: 0.8510 - loss: 0.0541 - val_accuracy: 0.4864 - val_loss: 0.9251\n",
      "Epoch 21/50\n",
      "\u001b[1m920/920\u001b[0m \u001b[32m━━━━━━━━━━━━━━━━━━━━\u001b[0m\u001b[37m\u001b[0m \u001b[1m11s\u001b[0m 11ms/step - accuracy: 0.8603 - loss: 0.0529 - val_accuracy: 0.5114 - val_loss: 0.8705\n",
      "Epoch 22/50\n",
      "\u001b[1m920/920\u001b[0m \u001b[32m━━━━━━━━━━━━━━━━━━━━\u001b[0m\u001b[37m\u001b[0m \u001b[1m9s\u001b[0m 10ms/step - accuracy: 0.8603 - loss: 0.0501 - val_accuracy: 0.4967 - val_loss: 0.8888\n",
      "Epoch 23/50\n",
      "\u001b[1m920/920\u001b[0m \u001b[32m━━━━━━━━━━━━━━━━━━━━\u001b[0m\u001b[37m\u001b[0m \u001b[1m9s\u001b[0m 9ms/step - accuracy: 0.8596 - loss: 0.0456 - val_accuracy: 0.4946 - val_loss: 0.8887\n",
      "Epoch 24/50\n",
      "\u001b[1m920/920\u001b[0m \u001b[32m━━━━━━━━━━━━━━━━━━━━\u001b[0m\u001b[37m\u001b[0m \u001b[1m9s\u001b[0m 10ms/step - accuracy: 0.8575 - loss: 0.0518 - val_accuracy: 0.5245 - val_loss: 0.8486\n",
      "Epoch 25/50\n",
      "\u001b[1m920/920\u001b[0m \u001b[32m━━━━━━━━━━━━━━━━━━━━\u001b[0m\u001b[37m\u001b[0m \u001b[1m11s\u001b[0m 12ms/step - accuracy: 0.8580 - loss: 0.0449 - val_accuracy: 0.4924 - val_loss: 0.9445\n",
      "Epoch 26/50\n",
      "\u001b[1m920/920\u001b[0m \u001b[32m━━━━━━━━━━━━━━━━━━━━\u001b[0m\u001b[37m\u001b[0m \u001b[1m9s\u001b[0m 9ms/step - accuracy: 0.8658 - loss: 0.0388 - val_accuracy: 0.4821 - val_loss: 1.0362\n",
      "Epoch 27/50\n",
      "\u001b[1m920/920\u001b[0m \u001b[32m━━━━━━━━━━━━━━━━━━━━\u001b[0m\u001b[37m\u001b[0m \u001b[1m9s\u001b[0m 9ms/step - accuracy: 0.8619 - loss: 0.0448 - val_accuracy: 0.5337 - val_loss: 0.9558\n",
      "Epoch 28/50\n",
      "\u001b[1m920/920\u001b[0m \u001b[32m━━━━━━━━━━━━━━━━━━━━\u001b[0m\u001b[37m\u001b[0m \u001b[1m9s\u001b[0m 10ms/step - accuracy: 0.8700 - loss: 0.0413 - val_accuracy: 0.5109 - val_loss: 0.9263\n",
      "Epoch 29/50\n",
      "\u001b[1m920/920\u001b[0m \u001b[32m━━━━━━━━━━━━━━━━━━━━\u001b[0m\u001b[37m\u001b[0m \u001b[1m11s\u001b[0m 12ms/step - accuracy: 0.8679 - loss: 0.0365 - val_accuracy: 0.5071 - val_loss: 0.9452\n",
      "Epoch 30/50\n",
      "\u001b[1m920/920\u001b[0m \u001b[32m━━━━━━━━━━━━━━━━━━━━\u001b[0m\u001b[37m\u001b[0m \u001b[1m8s\u001b[0m 9ms/step - accuracy: 0.8622 - loss: 0.0294 - val_accuracy: 0.4989 - val_loss: 0.9784\n",
      "Epoch 31/50\n",
      "\u001b[1m920/920\u001b[0m \u001b[32m━━━━━━━━━━━━━━━━━━━━\u001b[0m\u001b[37m\u001b[0m \u001b[1m9s\u001b[0m 9ms/step - accuracy: 0.8602 - loss: 0.0377 - val_accuracy: 0.5092 - val_loss: 1.0682\n",
      "Epoch 32/50\n",
      "\u001b[1m920/920\u001b[0m \u001b[32m━━━━━━━━━━━━━━━━━━━━\u001b[0m\u001b[37m\u001b[0m \u001b[1m11s\u001b[0m 12ms/step - accuracy: 0.8581 - loss: 0.0338 - val_accuracy: 0.5196 - val_loss: 1.0306\n",
      "Epoch 33/50\n",
      "\u001b[1m920/920\u001b[0m \u001b[32m━━━━━━━━━━━━━━━━━━━━\u001b[0m\u001b[37m\u001b[0m \u001b[1m9s\u001b[0m 9ms/step - accuracy: 0.8591 - loss: 0.0369 - val_accuracy: 0.5228 - val_loss: 0.9966\n",
      "Epoch 34/50\n",
      "\u001b[1m920/920\u001b[0m \u001b[32m━━━━━━━━━━━━━━━━━━━━\u001b[0m\u001b[37m\u001b[0m \u001b[1m8s\u001b[0m 9ms/step - accuracy: 0.8660 - loss: 0.0294 - val_accuracy: 0.5065 - val_loss: 0.9903\n",
      "Epoch 35/50\n",
      "\u001b[1m920/920\u001b[0m \u001b[32m━━━━━━━━━━━━━━━━━━━━\u001b[0m\u001b[37m\u001b[0m \u001b[1m9s\u001b[0m 9ms/step - accuracy: 0.8706 - loss: 0.0297 - val_accuracy: 0.5223 - val_loss: 0.9558\n",
      "Epoch 36/50\n",
      "\u001b[1m920/920\u001b[0m \u001b[32m━━━━━━━━━━━━━━━━━━━━\u001b[0m\u001b[37m\u001b[0m \u001b[1m11s\u001b[0m 12ms/step - accuracy: 0.8608 - loss: 0.0296 - val_accuracy: 0.5109 - val_loss: 1.0594\n",
      "Epoch 37/50\n",
      "\u001b[1m920/920\u001b[0m \u001b[32m━━━━━━━━━━━━━━━━━━━━\u001b[0m\u001b[37m\u001b[0m \u001b[1m8s\u001b[0m 9ms/step - accuracy: 0.8696 - loss: 0.0269 - val_accuracy: 0.5174 - val_loss: 1.0756\n",
      "Epoch 38/50\n",
      "\u001b[1m920/920\u001b[0m \u001b[32m━━━━━━━━━━━━━━━━━━━━\u001b[0m\u001b[37m\u001b[0m \u001b[1m9s\u001b[0m 9ms/step - accuracy: 0.8679 - loss: 0.0263 - val_accuracy: 0.5293 - val_loss: 1.1563\n",
      "Epoch 39/50\n",
      "\u001b[1m920/920\u001b[0m \u001b[32m━━━━━━━━━━━━━━━━━━━━\u001b[0m\u001b[37m\u001b[0m \u001b[1m9s\u001b[0m 10ms/step - accuracy: 0.8607 - loss: 0.0330 - val_accuracy: 0.5076 - val_loss: 1.0451\n",
      "Epoch 40/50\n",
      "\u001b[1m920/920\u001b[0m \u001b[32m━━━━━━━━━━━━━━━━━━━━\u001b[0m\u001b[37m\u001b[0m \u001b[1m11s\u001b[0m 12ms/step - accuracy: 0.8588 - loss: 0.0291 - val_accuracy: 0.5342 - val_loss: 1.0569\n",
      "Epoch 41/50\n",
      "\u001b[1m920/920\u001b[0m \u001b[32m━━━━━━━━━━━━━━━━━━━━\u001b[0m\u001b[37m\u001b[0m \u001b[1m8s\u001b[0m 9ms/step - accuracy: 0.8711 - loss: 0.0260 - val_accuracy: 0.5000 - val_loss: 1.0986\n",
      "Epoch 42/50\n",
      "\u001b[1m920/920\u001b[0m \u001b[32m━━━━━━━━━━━━━━━━━━━━\u001b[0m\u001b[37m\u001b[0m \u001b[1m9s\u001b[0m 9ms/step - accuracy: 0.8640 - loss: 0.0263 - val_accuracy: 0.5391 - val_loss: 1.0563\n",
      "Epoch 43/50\n",
      "\u001b[1m920/920\u001b[0m \u001b[32m━━━━━━━━━━━━━━━━━━━━\u001b[0m\u001b[37m\u001b[0m \u001b[1m11s\u001b[0m 11ms/step - accuracy: 0.8628 - loss: 0.0241 - val_accuracy: 0.5038 - val_loss: 1.0765\n",
      "Epoch 44/50\n",
      "\u001b[1m920/920\u001b[0m \u001b[32m━━━━━━━━━━━━━━━━━━━━\u001b[0m\u001b[37m\u001b[0m \u001b[1m9s\u001b[0m 9ms/step - accuracy: 0.8733 - loss: 0.0201 - val_accuracy: 0.5321 - val_loss: 1.1566\n",
      "Epoch 45/50\n",
      "\u001b[1m920/920\u001b[0m \u001b[32m━━━━━━━━━━━━━━━━━━━━\u001b[0m\u001b[37m\u001b[0m \u001b[1m8s\u001b[0m 9ms/step - accuracy: 0.8708 - loss: 0.0273 - val_accuracy: 0.4804 - val_loss: 1.1276\n",
      "Epoch 46/50\n",
      "\u001b[1m920/920\u001b[0m \u001b[32m━━━━━━━━━━━━━━━━━━━━\u001b[0m\u001b[37m\u001b[0m \u001b[1m9s\u001b[0m 9ms/step - accuracy: 0.8646 - loss: 0.0223 - val_accuracy: 0.5158 - val_loss: 1.0892\n",
      "Epoch 47/50\n",
      "\u001b[1m920/920\u001b[0m \u001b[32m━━━━━━━━━━━━━━━━━━━━\u001b[0m\u001b[37m\u001b[0m \u001b[1m11s\u001b[0m 12ms/step - accuracy: 0.8569 - loss: 0.0241 - val_accuracy: 0.5174 - val_loss: 1.1342\n",
      "Epoch 48/50\n",
      "\u001b[1m920/920\u001b[0m \u001b[32m━━━━━━━━━━━━━━━━━━━━\u001b[0m\u001b[37m\u001b[0m \u001b[1m8s\u001b[0m 9ms/step - accuracy: 0.8654 - loss: 0.0230 - val_accuracy: 0.5299 - val_loss: 1.1101\n",
      "Epoch 49/50\n",
      "\u001b[1m920/920\u001b[0m \u001b[32m━━━━━━━━━━━━━━━━━━━━\u001b[0m\u001b[37m\u001b[0m \u001b[1m8s\u001b[0m 9ms/step - accuracy: 0.8594 - loss: 0.0224 - val_accuracy: 0.5125 - val_loss: 1.1312\n",
      "Epoch 50/50\n",
      "\u001b[1m920/920\u001b[0m \u001b[32m━━━━━━━━━━━━━━━━━━━━\u001b[0m\u001b[37m\u001b[0m \u001b[1m9s\u001b[0m 9ms/step - accuracy: 0.8622 - loss: 0.0205 - val_accuracy: 0.4880 - val_loss: 1.3214\n"
     ]
    },
    {
     "name": "stderr",
     "output_type": "stream",
     "text": [
      "WARNING:absl:You are saving your model as an HDF5 file via `model.save()` or `keras.saving.save_model(model)`. This file format is considered legacy. We recommend using instead the native Keras format, e.g. `model.save('my_model.keras')` or `keras.saving.save_model(model, 'my_model.keras')`. \n"
     ]
    }
   ],
   "source": [
    "n_sheets_excel = len(pd.ExcelFile(EXCEL_FILENAME).sheet_names)\n",
    "n_k_fold = int((n_sheets_excel - 1) / 2)\n",
    "\n",
    "# Drive Path\n",
    "# base_path = \"/content/drive/MyDrive/Research - Thoracic Abnormalities/Models Evaluation/MobileNet/training/\"\n",
    "# Local Path\n",
    "model_name = \"MobileNet\"\n",
    "base_path = f\"../Models Evaluation/{model_name}/training/\"\n",
    "\n",
    "# Function to create a unique directory for each run\n",
    "def create_run_dir(base_path):\n",
    "    timestamp = datetime.now().strftime(\"%Y%m%d_%H%M%S\")\n",
    "    run_path = os.path.join(base_path, f\"run_{timestamp}\")\n",
    "    os.makedirs(run_path, exist_ok=True)\n",
    "    return run_path\n",
    "\n",
    "# Function to dynamically extract hyperparameters/other info from the model\n",
    "def get_model_hyperparameters(model, batch_size, epochs, train_images_arr, val_images_arr, train_labels):\n",
    "    test_size = len(pd.read_excel(EXCEL_FILENAME, sheet_name='test'))\n",
    "    all_images_count = len(train_images_arr) + len(val_images_arr) + test_size\n",
    "    return {\n",
    "        \"model_name\": model_name,\n",
    "        \"images_count\": all_images_count,\n",
    "        \"image_size\": train_images_arr[0].shape if isinstance(train_images_arr, np.ndarray) else \"N/A\",\n",
    "        \"num_labels\": len(train_labels.iloc[0]),\n",
    "        \"epochs\": epochs,\n",
    "        \"optimizer\": model.optimizer.get_config()[\"name\"],  # Extract optimizer name\n",
    "        \"learning_rate\": model.optimizer.learning_rate.numpy() if hasattr(model.optimizer, \"learning_rate\") else \"N/A\",  # Get learning rate\n",
    "        \"loss\": model.loss if hasattr(model, \"loss\") else \"N/A\",  # Extract loss function\n",
    "        \"batch_size\": batch_size,\n",
    "    }\n",
    "\n",
    "# Create a unique directory for the current program run\n",
    "run_path = create_run_dir(base_path)\n",
    "\n",
    "for k in range(1, n_k_fold + 1):\n",
    "    print(\"##################### FOLD - {} #####################\".format(k))\n",
    "\n",
    "    # Create a directory for the current fold within the run directory\n",
    "    fold_path = os.path.join(run_path, f\"fold_{k}\")\n",
    "    os.makedirs(fold_path, exist_ok=True)\n",
    "    \n",
    "    # CALLBACK\n",
    "    # CSV Logger Callback\n",
    "    csv_logger_filename = base_path + 'csv_loggers/csv_logger_fold_{}.csv'.format(k)\n",
    "    csv_logger_callback = CSVLogger(csv_logger_filename)\n",
    "\n",
    "    # Sheet Name\n",
    "    train_sheet_name_per_fold = \"fold_{}_train\".format(k)\n",
    "    val_sheet_name_per_fold = \"fold_{}_val\".format(k)\n",
    "    # Get Array Images and Masks\n",
    "    train_images_arr, train_labels = getArrFromExcel(train_sheet_name_per_fold)\n",
    "    val_images_arr, val_labels = getArrFromExcel(val_sheet_name_per_fold)\n",
    "\n",
    "    # Build Model\n",
    "    model = buildModelMobileNet()\n",
    "    \n",
    "    # Dynamically extract hyperparameters\n",
    "    batch_size = 8\n",
    "    epochs = 50\n",
    "    hyperparams = get_model_hyperparameters(model, batch_size, epochs, train_images_arr, val_images_arr, train_labels)\n",
    "\n",
    "    # Model Training\n",
    "    history = model.fit(train_images_arr,\n",
    "                        train_labels,\n",
    "                        validation_data=(val_images_arr, val_labels),\n",
    "                        batch_size=batch_size,\n",
    "                        epochs=epochs,\n",
    "                        callbacks=csv_logger_callback)\n",
    "    \n",
    "\n",
    "    # Append training history summary to the .csv log file\n",
    "    csv_logger_filename_summary = os.path.join(fold_path, f'summary_log_fold_{k}.csv')\n",
    "    # Extract the last epoch's metrics\n",
    "    last_epoch_metrics = {metric: values[-1] for metric, values in history.history.items()}\n",
    "    # Convert the metrics dictionary to a DataFrame\n",
    "    last_epoch_df = pd.DataFrame([last_epoch_metrics])\n",
    "    # Add fold-specific hyperparameters to the DataFrame for context\n",
    "    hyperparams_df = pd.DataFrame([hyperparams])\n",
    "    # Combine metrics and hyperparameters into one DataFrame\n",
    "    summary_df = pd.concat([last_epoch_df, hyperparams_df], axis=1)\n",
    "    # Save to CSV\n",
    "    summary_df.to_csv(csv_logger_filename_summary, index=False)\n",
    "\n",
    "    # Read CSV Logger After Training\n",
    "    csv_logger_df = pd.read_csv(csv_logger_filename)\n",
    "    csv_logger_df.to_csv(csv_logger_filename)\n",
    "    \n",
    "    # Write hyperparameters and other details to a .txt log file\n",
    "    # with open(txt_logger_filename, 'w') as txt_logger:\n",
    "\n",
    "    # Model Per Fold Documentation\n",
    "    model.save(base_path + \"model_per_fold/model_fold_{}.h5\".format(k))"
   ]
  },
  {
   "cell_type": "markdown",
   "metadata": {
    "id": "4k1bIY1Fdgcg"
   },
   "source": [
    "<!-- # ---ShuffleNet Training--- -->"
   ]
  },
  {
   "cell_type": "code",
   "execution_count": 19,
   "metadata": {
    "id": "1XGYcFIEdlQS"
   },
   "outputs": [],
   "source": [
    "# model = buildModelShuffleNet()\n",
    "# model.summary()"
   ]
  },
  {
   "cell_type": "code",
   "execution_count": null,
   "metadata": {
    "id": "MTvSMzIAdlQT"
   },
   "outputs": [
    {
     "name": "stdout",
     "output_type": "stream",
     "text": [
      "##################### FOLD - 1 #####################\n"
     ]
    },
    {
     "name": "stderr",
     "output_type": "stream",
     "text": [
      "Processing images: 100%|██████████| 7360/7360 [00:14<00:00, 516.39it/s]\n",
      "Processing images: 100%|██████████| 1840/1840 [00:03<00:00, 588.67it/s]\n"
     ]
    },
    {
     "name": "stdout",
     "output_type": "stream",
     "text": [
      "Epoch 1/50\n"
     ]
    },
    {
     "name": "stderr",
     "output_type": "stream",
     "text": [
      "/root/projects/tf217/tf217/lib/python3.12/site-packages/keras/src/models/functional.py:225: UserWarning: The structure of `inputs` doesn't match the expected structure: ['input_layer']. Received: the structure of inputs=*\n",
      "  warnings.warn(\n",
      "2024-12-04 14:43:37.767422: I external/local_xla/xla/stream_executor/cuda/cuda_asm_compiler.cc:397] ptxas warning : Registers are spilled to local memory in function 'gemm_fusion_dot_6822', 168 bytes spill stores, 168 bytes spill loads\n",
      "\n",
      "2024-12-04 14:43:41.932162: E external/local_xla/xla/service/slow_operation_alarm.cc:65] Trying algorithm eng65{k2=7,k5=3,k14=2} for conv (f32[8,32,111,111]{3,2,1,0}, u8[0]{0}) custom-call(f32[8,64,109,109]{3,2,1,0}, f32[64,32,3,3]{3,2,1,0}), window={size=3x3}, dim_labels=bf01_oi01->bf01, custom_call_target=\"__cudnn$convBackwardInput\", backend_config={\"cudnn_conv_backend_config\":{\"activation_mode\":\"kNone\",\"conv_result_scale\":1,\"leakyrelu_alpha\":0,\"side_input_scale\":0},\"force_earliest_schedule\":false,\"operation_queue_id\":\"0\",\"wait_on_operation_queues\":[]} is taking a while...\n",
      "2024-12-04 14:43:41.934177: E external/local_xla/xla/service/slow_operation_alarm.cc:133] The operation took 1.745220016s\n",
      "Trying algorithm eng65{k2=7,k5=3,k14=2} for conv (f32[8,32,111,111]{3,2,1,0}, u8[0]{0}) custom-call(f32[8,64,109,109]{3,2,1,0}, f32[64,32,3,3]{3,2,1,0}), window={size=3x3}, dim_labels=bf01_oi01->bf01, custom_call_target=\"__cudnn$convBackwardInput\", backend_config={\"cudnn_conv_backend_config\":{\"activation_mode\":\"kNone\",\"conv_result_scale\":1,\"leakyrelu_alpha\":0,\"side_input_scale\":0},\"force_earliest_schedule\":false,\"operation_queue_id\":\"0\",\"wait_on_operation_queues\":[]} is taking a while...\n"
     ]
    },
    {
     "name": "stdout",
     "output_type": "stream",
     "text": [
      "\u001b[1m919/920\u001b[0m \u001b[32m━━━━━━━━━━━━━━━━━━━\u001b[0m\u001b[37m━\u001b[0m \u001b[1m0s\u001b[0m 35ms/step - accuracy: 0.2540 - loss: 0.5872"
     ]
    },
    {
     "name": "stderr",
     "output_type": "stream",
     "text": [
      "/root/projects/tf217/tf217/lib/python3.12/site-packages/keras/src/models/functional.py:225: UserWarning: The structure of `inputs` doesn't match the expected structure: ['input_layer']. Received: the structure of inputs=*\n",
      "  warnings.warn(\n"
     ]
    },
    {
     "name": "stdout",
     "output_type": "stream",
     "text": [
      "\u001b[1m920/920\u001b[0m \u001b[32m━━━━━━━━━━━━━━━━━━━━\u001b[0m\u001b[37m\u001b[0m \u001b[1m59s\u001b[0m 40ms/step - accuracy: 0.2540 - loss: 0.5871 - val_accuracy: 0.3098 - val_loss: 0.8147\n",
      "Epoch 2/50\n",
      "\u001b[1m920/920\u001b[0m \u001b[32m━━━━━━━━━━━━━━━━━━━━\u001b[0m\u001b[37m\u001b[0m \u001b[1m35s\u001b[0m 38ms/step - accuracy: 0.2764 - loss: 0.5582 - val_accuracy: 0.3386 - val_loss: 0.5520\n",
      "Epoch 3/50\n",
      "\u001b[1m920/920\u001b[0m \u001b[32m━━━━━━━━━━━━━━━━━━━━\u001b[0m\u001b[37m\u001b[0m \u001b[1m35s\u001b[0m 38ms/step - accuracy: 0.3349 - loss: 0.5395 - val_accuracy: 0.3527 - val_loss: 0.5860\n",
      "Epoch 4/50\n",
      "\u001b[1m920/920\u001b[0m \u001b[32m━━━━━━━━━━━━━━━━━━━━\u001b[0m\u001b[37m\u001b[0m \u001b[1m36s\u001b[0m 39ms/step - accuracy: 0.4070 - loss: 0.5107 - val_accuracy: 0.2582 - val_loss: 0.5769\n",
      "Epoch 5/50\n",
      "\u001b[1m920/920\u001b[0m \u001b[32m━━━━━━━━━━━━━━━━━━━━\u001b[0m\u001b[37m\u001b[0m \u001b[1m36s\u001b[0m 39ms/step - accuracy: 0.4291 - loss: 0.4941 - val_accuracy: 0.4288 - val_loss: 0.5010\n",
      "Epoch 6/50\n",
      "\u001b[1m920/920\u001b[0m \u001b[32m━━━━━━━━━━━━━━━━━━━━\u001b[0m\u001b[37m\u001b[0m \u001b[1m36s\u001b[0m 39ms/step - accuracy: 0.4648 - loss: 0.4766 - val_accuracy: 0.4321 - val_loss: 0.5225\n",
      "Epoch 7/50\n",
      "\u001b[1m920/920\u001b[0m \u001b[32m━━━━━━━━━━━━━━━━━━━━\u001b[0m\u001b[37m\u001b[0m \u001b[1m36s\u001b[0m 39ms/step - accuracy: 0.4940 - loss: 0.4601 - val_accuracy: 0.4440 - val_loss: 0.5023\n",
      "Epoch 8/50\n",
      "\u001b[1m920/920\u001b[0m \u001b[32m━━━━━━━━━━━━━━━━━━━━\u001b[0m\u001b[37m\u001b[0m \u001b[1m36s\u001b[0m 39ms/step - accuracy: 0.5087 - loss: 0.4493 - val_accuracy: 0.4587 - val_loss: 0.4886\n",
      "Epoch 9/50\n",
      "\u001b[1m920/920\u001b[0m \u001b[32m━━━━━━━━━━━━━━━━━━━━\u001b[0m\u001b[37m\u001b[0m \u001b[1m36s\u001b[0m 39ms/step - accuracy: 0.5285 - loss: 0.4397 - val_accuracy: 0.4462 - val_loss: 0.5070\n",
      "Epoch 10/50\n",
      "\u001b[1m920/920\u001b[0m \u001b[32m━━━━━━━━━━━━━━━━━━━━\u001b[0m\u001b[37m\u001b[0m \u001b[1m36s\u001b[0m 39ms/step - accuracy: 0.5490 - loss: 0.4260 - val_accuracy: 0.4636 - val_loss: 0.4873\n",
      "Epoch 11/50\n",
      "\u001b[1m920/920\u001b[0m \u001b[32m━━━━━━━━━━━━━━━━━━━━\u001b[0m\u001b[37m\u001b[0m \u001b[1m36s\u001b[0m 39ms/step - accuracy: 0.5739 - loss: 0.3997 - val_accuracy: 0.4364 - val_loss: 0.5418\n",
      "Epoch 12/50\n",
      "\u001b[1m920/920\u001b[0m \u001b[32m━━━━━━━━━━━━━━━━━━━━\u001b[0m\u001b[37m\u001b[0m \u001b[1m36s\u001b[0m 39ms/step - accuracy: 0.6055 - loss: 0.3739 - val_accuracy: 0.4853 - val_loss: 0.5702\n",
      "Epoch 13/50\n",
      "\u001b[1m920/920\u001b[0m \u001b[32m━━━━━━━━━━━━━━━━━━━━\u001b[0m\u001b[37m\u001b[0m \u001b[1m36s\u001b[0m 39ms/step - accuracy: 0.6602 - loss: 0.3277 - val_accuracy: 0.3951 - val_loss: 0.5907\n",
      "Epoch 14/50\n",
      "\u001b[1m920/920\u001b[0m \u001b[32m━━━━━━━━━━━━━━━━━━━━\u001b[0m\u001b[37m\u001b[0m \u001b[1m36s\u001b[0m 39ms/step - accuracy: 0.7002 - loss: 0.2880 - val_accuracy: 0.4315 - val_loss: 0.7395\n",
      "Epoch 15/50\n",
      "\u001b[1m920/920\u001b[0m \u001b[32m━━━━━━━━━━━━━━━━━━━━\u001b[0m\u001b[37m\u001b[0m \u001b[1m38s\u001b[0m 41ms/step - accuracy: 0.7619 - loss: 0.2304 - val_accuracy: 0.4092 - val_loss: 0.9794\n",
      "Epoch 16/50\n",
      "\u001b[1m920/920\u001b[0m \u001b[32m━━━━━━━━━━━━━━━━━━━━\u001b[0m\u001b[37m\u001b[0m \u001b[1m36s\u001b[0m 39ms/step - accuracy: 0.7902 - loss: 0.1834 - val_accuracy: 0.4603 - val_loss: 0.6549\n",
      "Epoch 17/50\n",
      "\u001b[1m920/920\u001b[0m \u001b[32m━━━━━━━━━━━━━━━━━━━━\u001b[0m\u001b[37m\u001b[0m \u001b[1m36s\u001b[0m 39ms/step - accuracy: 0.8139 - loss: 0.1511 - val_accuracy: 0.3940 - val_loss: 0.8421\n",
      "Epoch 18/50\n",
      "\u001b[1m920/920\u001b[0m \u001b[32m━━━━━━━━━━━━━━━━━━━━\u001b[0m\u001b[37m\u001b[0m \u001b[1m36s\u001b[0m 39ms/step - accuracy: 0.8352 - loss: 0.1234 - val_accuracy: 0.4109 - val_loss: 0.9233\n",
      "Epoch 19/50\n",
      "\u001b[1m920/920\u001b[0m \u001b[32m━━━━━━━━━━━━━━━━━━━━\u001b[0m\u001b[37m\u001b[0m \u001b[1m36s\u001b[0m 39ms/step - accuracy: 0.8316 - loss: 0.1053 - val_accuracy: 0.3810 - val_loss: 1.0995\n",
      "Epoch 20/50\n",
      "\u001b[1m920/920\u001b[0m \u001b[32m━━━━━━━━━━━━━━━━━━━━\u001b[0m\u001b[37m\u001b[0m \u001b[1m36s\u001b[0m 39ms/step - accuracy: 0.8499 - loss: 0.0873 - val_accuracy: 0.4022 - val_loss: 1.0831\n",
      "Epoch 21/50\n",
      "\u001b[1m920/920\u001b[0m \u001b[32m━━━━━━━━━━━━━━━━━━━━\u001b[0m\u001b[37m\u001b[0m \u001b[1m36s\u001b[0m 39ms/step - accuracy: 0.8460 - loss: 0.0836 - val_accuracy: 0.4136 - val_loss: 1.2787\n",
      "Epoch 22/50\n",
      "\u001b[1m920/920\u001b[0m \u001b[32m━━━━━━━━━━━━━━━━━━━━\u001b[0m\u001b[37m\u001b[0m \u001b[1m36s\u001b[0m 39ms/step - accuracy: 0.8490 - loss: 0.0708 - val_accuracy: 0.4440 - val_loss: 1.1459\n",
      "Epoch 23/50\n",
      "\u001b[1m920/920\u001b[0m \u001b[32m━━━━━━━━━━━━━━━━━━━━\u001b[0m\u001b[37m\u001b[0m \u001b[1m36s\u001b[0m 39ms/step - accuracy: 0.8521 - loss: 0.0645 - val_accuracy: 0.4288 - val_loss: 1.0838\n",
      "Epoch 24/50\n",
      "\u001b[1m920/920\u001b[0m \u001b[32m━━━━━━━━━━━━━━━━━━━━\u001b[0m\u001b[37m\u001b[0m \u001b[1m36s\u001b[0m 39ms/step - accuracy: 0.8491 - loss: 0.0632 - val_accuracy: 0.4668 - val_loss: 1.1145\n",
      "Epoch 25/50\n",
      "\u001b[1m920/920\u001b[0m \u001b[32m━━━━━━━━━━━━━━━━━━━━\u001b[0m\u001b[37m\u001b[0m \u001b[1m36s\u001b[0m 39ms/step - accuracy: 0.8489 - loss: 0.0606 - val_accuracy: 0.4283 - val_loss: 1.0954\n",
      "Epoch 26/50\n",
      "\u001b[1m920/920\u001b[0m \u001b[32m━━━━━━━━━━━━━━━━━━━━\u001b[0m\u001b[37m\u001b[0m \u001b[1m36s\u001b[0m 39ms/step - accuracy: 0.8572 - loss: 0.0507 - val_accuracy: 0.4473 - val_loss: 1.2738\n",
      "Epoch 27/50\n",
      "\u001b[1m920/920\u001b[0m \u001b[32m━━━━━━━━━━━━━━━━━━━━\u001b[0m\u001b[37m\u001b[0m \u001b[1m36s\u001b[0m 39ms/step - accuracy: 0.8521 - loss: 0.0530 - val_accuracy: 0.4109 - val_loss: 1.0897\n",
      "Epoch 28/50\n",
      "\u001b[1m920/920\u001b[0m \u001b[32m━━━━━━━━━━━━━━━━━━━━\u001b[0m\u001b[37m\u001b[0m \u001b[1m36s\u001b[0m 39ms/step - accuracy: 0.8551 - loss: 0.0464 - val_accuracy: 0.4592 - val_loss: 1.2321\n",
      "Epoch 29/50\n",
      "\u001b[1m920/920\u001b[0m \u001b[32m━━━━━━━━━━━━━━━━━━━━\u001b[0m\u001b[37m\u001b[0m \u001b[1m36s\u001b[0m 39ms/step - accuracy: 0.8568 - loss: 0.0502 - val_accuracy: 0.4533 - val_loss: 1.2122\n",
      "Epoch 30/50\n",
      "\u001b[1m920/920\u001b[0m \u001b[32m━━━━━━━━━━━━━━━━━━━━\u001b[0m\u001b[37m\u001b[0m \u001b[1m36s\u001b[0m 39ms/step - accuracy: 0.8586 - loss: 0.0445 - val_accuracy: 0.4522 - val_loss: 1.3488\n",
      "Epoch 31/50\n",
      "\u001b[1m920/920\u001b[0m \u001b[32m━━━━━━━━━━━━━━━━━━━━\u001b[0m\u001b[37m\u001b[0m \u001b[1m36s\u001b[0m 39ms/step - accuracy: 0.8543 - loss: 0.0385 - val_accuracy: 0.4500 - val_loss: 1.3605\n",
      "Epoch 32/50\n",
      "\u001b[1m920/920\u001b[0m \u001b[32m━━━━━━━━━━━━━━━━━━━━\u001b[0m\u001b[37m\u001b[0m \u001b[1m36s\u001b[0m 39ms/step - accuracy: 0.8643 - loss: 0.0412 - val_accuracy: 0.4668 - val_loss: 1.3392\n",
      "Epoch 33/50\n",
      "\u001b[1m920/920\u001b[0m \u001b[32m━━━━━━━━━━━━━━━━━━━━\u001b[0m\u001b[37m\u001b[0m \u001b[1m38s\u001b[0m 41ms/step - accuracy: 0.8610 - loss: 0.0395 - val_accuracy: 0.4397 - val_loss: 1.4114\n",
      "Epoch 34/50\n",
      "\u001b[1m920/920\u001b[0m \u001b[32m━━━━━━━━━━━━━━━━━━━━\u001b[0m\u001b[37m\u001b[0m \u001b[1m36s\u001b[0m 39ms/step - accuracy: 0.8527 - loss: 0.0450 - val_accuracy: 0.4576 - val_loss: 1.1529\n",
      "Epoch 35/50\n",
      "\u001b[1m920/920\u001b[0m \u001b[32m━━━━━━━━━━━━━━━━━━━━\u001b[0m\u001b[37m\u001b[0m \u001b[1m36s\u001b[0m 39ms/step - accuracy: 0.8503 - loss: 0.0403 - val_accuracy: 0.4386 - val_loss: 1.2597\n",
      "Epoch 36/50\n",
      "\u001b[1m920/920\u001b[0m \u001b[32m━━━━━━━━━━━━━━━━━━━━\u001b[0m\u001b[37m\u001b[0m \u001b[1m36s\u001b[0m 39ms/step - accuracy: 0.8613 - loss: 0.0341 - val_accuracy: 0.4522 - val_loss: 1.3705\n",
      "Epoch 37/50\n",
      "\u001b[1m920/920\u001b[0m \u001b[32m━━━━━━━━━━━━━━━━━━━━\u001b[0m\u001b[37m\u001b[0m \u001b[1m36s\u001b[0m 39ms/step - accuracy: 0.8602 - loss: 0.0322 - val_accuracy: 0.4000 - val_loss: 2.2091\n",
      "Epoch 38/50\n",
      "\u001b[1m920/920\u001b[0m \u001b[32m━━━━━━━━━━━━━━━━━━━━\u001b[0m\u001b[37m\u001b[0m \u001b[1m36s\u001b[0m 39ms/step - accuracy: 0.8541 - loss: 0.0376 - val_accuracy: 0.4283 - val_loss: 1.2957\n",
      "Epoch 39/50\n",
      "\u001b[1m920/920\u001b[0m \u001b[32m━━━━━━━━━━━━━━━━━━━━\u001b[0m\u001b[37m\u001b[0m \u001b[1m36s\u001b[0m 39ms/step - accuracy: 0.8646 - loss: 0.0340 - val_accuracy: 0.4674 - val_loss: 1.4714\n",
      "Epoch 40/50\n",
      "\u001b[1m920/920\u001b[0m \u001b[32m━━━━━━━━━━━━━━━━━━━━\u001b[0m\u001b[37m\u001b[0m \u001b[1m36s\u001b[0m 39ms/step - accuracy: 0.8471 - loss: 0.0280 - val_accuracy: 0.4788 - val_loss: 1.4725\n",
      "Epoch 41/50\n",
      "\u001b[1m920/920\u001b[0m \u001b[32m━━━━━━━━━━━━━━━━━━━━\u001b[0m\u001b[37m\u001b[0m \u001b[1m36s\u001b[0m 39ms/step - accuracy: 0.8559 - loss: 0.0318 - val_accuracy: 0.4457 - val_loss: 1.3974\n",
      "Epoch 42/50\n",
      "\u001b[1m920/920\u001b[0m \u001b[32m━━━━━━━━━━━━━━━━━━━━\u001b[0m\u001b[37m\u001b[0m \u001b[1m36s\u001b[0m 39ms/step - accuracy: 0.8609 - loss: 0.0347 - val_accuracy: 0.4701 - val_loss: 1.2947\n",
      "Epoch 43/50\n",
      "\u001b[1m920/920\u001b[0m \u001b[32m━━━━━━━━━━━━━━━━━━━━\u001b[0m\u001b[37m\u001b[0m \u001b[1m36s\u001b[0m 39ms/step - accuracy: 0.8709 - loss: 0.0258 - val_accuracy: 0.4174 - val_loss: 1.6504\n",
      "Epoch 44/50\n",
      "\u001b[1m920/920\u001b[0m \u001b[32m━━━━━━━━━━━━━━━━━━━━\u001b[0m\u001b[37m\u001b[0m \u001b[1m36s\u001b[0m 39ms/step - accuracy: 0.8591 - loss: 0.0282 - val_accuracy: 0.4620 - val_loss: 1.2355\n",
      "Epoch 45/50\n",
      "\u001b[1m920/920\u001b[0m \u001b[32m━━━━━━━━━━━━━━━━━━━━\u001b[0m\u001b[37m\u001b[0m \u001b[1m36s\u001b[0m 39ms/step - accuracy: 0.8495 - loss: 0.0302 - val_accuracy: 0.4370 - val_loss: 1.4832\n",
      "Epoch 46/50\n",
      "\u001b[1m920/920\u001b[0m \u001b[32m━━━━━━━━━━━━━━━━━━━━\u001b[0m\u001b[37m\u001b[0m \u001b[1m36s\u001b[0m 39ms/step - accuracy: 0.8548 - loss: 0.0254 - val_accuracy: 0.4554 - val_loss: 1.2657\n",
      "Epoch 47/50\n",
      "\u001b[1m920/920\u001b[0m \u001b[32m━━━━━━━━━━━━━━━━━━━━\u001b[0m\u001b[37m\u001b[0m \u001b[1m36s\u001b[0m 39ms/step - accuracy: 0.8496 - loss: 0.0295 - val_accuracy: 0.4315 - val_loss: 1.2969\n",
      "Epoch 48/50\n",
      "\u001b[1m920/920\u001b[0m \u001b[32m━━━━━━━━━━━━━━━━━━━━\u001b[0m\u001b[37m\u001b[0m \u001b[1m36s\u001b[0m 39ms/step - accuracy: 0.8622 - loss: 0.0268 - val_accuracy: 0.3652 - val_loss: 1.7569\n",
      "Epoch 49/50\n",
      "\u001b[1m920/920\u001b[0m \u001b[32m━━━━━━━━━━━━━━━━━━━━\u001b[0m\u001b[37m\u001b[0m \u001b[1m38s\u001b[0m 41ms/step - accuracy: 0.8542 - loss: 0.0272 - val_accuracy: 0.4359 - val_loss: 1.5284\n",
      "Epoch 50/50\n",
      "\u001b[1m920/920\u001b[0m \u001b[32m━━━━━━━━━━━━━━━━━━━━\u001b[0m\u001b[37m\u001b[0m \u001b[1m36s\u001b[0m 39ms/step - accuracy: 0.8618 - loss: 0.0236 - val_accuracy: 0.4761 - val_loss: 1.3855\n"
     ]
    },
    {
     "name": "stderr",
     "output_type": "stream",
     "text": [
      "WARNING:absl:You are saving your model as an HDF5 file via `model.save()` or `keras.saving.save_model(model)`. This file format is considered legacy. We recommend using instead the native Keras format, e.g. `model.save('my_model.keras')` or `keras.saving.save_model(model, 'my_model.keras')`. \n"
     ]
    },
    {
     "name": "stdout",
     "output_type": "stream",
     "text": [
      "##################### FOLD - 2 #####################\n"
     ]
    },
    {
     "name": "stderr",
     "output_type": "stream",
     "text": [
      "Processing images: 100%|██████████| 7360/7360 [00:12<00:00, 568.08it/s]\n",
      "Processing images: 100%|██████████| 1840/1840 [00:03<00:00, 552.85it/s]\n"
     ]
    },
    {
     "name": "stdout",
     "output_type": "stream",
     "text": [
      "Epoch 1/50\n"
     ]
    },
    {
     "name": "stderr",
     "output_type": "stream",
     "text": [
      "/root/projects/tf217/tf217/lib/python3.12/site-packages/keras/src/models/functional.py:225: UserWarning: The structure of `inputs` doesn't match the expected structure: ['input_layer']. Received: the structure of inputs=*\n",
      "  warnings.warn(\n"
     ]
    },
    {
     "name": "stdout",
     "output_type": "stream",
     "text": [
      "\u001b[1m920/920\u001b[0m \u001b[32m━━━━━━━━━━━━━━━━━━━━\u001b[0m\u001b[37m\u001b[0m \u001b[1m0s\u001b[0m 36ms/step - accuracy: 0.2715 - loss: 0.5828"
     ]
    }
   ],
   "source": [
    "n_sheets_excel = len(pd.ExcelFile(EXCEL_FILENAME).sheet_names)\n",
    "n_k_fold = int((n_sheets_excel - 1) / 2)\n",
    "\n",
    "# Drive Path\n",
    "# base_path = \"/content/drive/MyDrive/Research - Thoracic Abnormalities/Models Evaluation/Xception/training/\"\n",
    "# Local Path\n",
    "model_name = \"Xception\"\n",
    "base_path = f\"../Models Evaluation/{model_name}/training/\"\n",
    "\n",
    "# Function to create a unique directory for each run\n",
    "def create_run_dir(base_path):\n",
    "    timestamp = datetime.now().strftime(\"%Y%m%d_%H%M%S\")\n",
    "    run_path = os.path.join(base_path, f\"run_{timestamp}\")\n",
    "    os.makedirs(run_path, exist_ok=True)\n",
    "    return run_path\n",
    "\n",
    "# Function to dynamically extract hyperparameters/other info from the model\n",
    "def get_model_hyperparameters(model, batch_size, epochs, train_images_arr, val_images_arr, train_labels):\n",
    "    test_size = len(pd.read_excel(EXCEL_FILENAME, sheet_name='test'))\n",
    "    all_images_count = len(train_images_arr) + len(val_images_arr) + test_size\n",
    "    return {\n",
    "        \"model_name\": model_name,\n",
    "        \"images_count\": all_images_count,\n",
    "        \"image_size\": train_images_arr[0].shape if isinstance(train_images_arr, np.ndarray) else \"N/A\",\n",
    "        \"num_labels\": len(train_labels.iloc[0]),\n",
    "        \"epochs\": epochs,\n",
    "        \"optimizer\": model.optimizer.get_config()[\"name\"],  # Extract optimizer name\n",
    "        \"learning_rate\": model.optimizer.learning_rate.numpy() if hasattr(model.optimizer, \"learning_rate\") else \"N/A\",  # Get learning rate\n",
    "        \"loss\": model.loss if hasattr(model, \"loss\") else \"N/A\",  # Extract loss function\n",
    "        \"batch_size\": batch_size,\n",
    "    }\n",
    "\n",
    "# Create a unique directory for the current program run\n",
    "run_path = create_run_dir(base_path)\n",
    "\n",
    "for k in range(1, n_k_fold + 1):\n",
    "    print(\"##################### FOLD - {} #####################\".format(k))\n",
    "\n",
    "    # Create a directory for the current fold within the run directory\n",
    "    fold_path = os.path.join(run_path, f\"fold_{k}\")\n",
    "    os.makedirs(fold_path, exist_ok=True)\n",
    "    \n",
    "    # CALLBACK\n",
    "    # CSV Logger Callback\n",
    "    csv_logger_filename = base_path + 'csv_loggers/csv_logger_fold_{}.csv'.format(k)\n",
    "    csv_logger_callback = CSVLogger(csv_logger_filename)\n",
    "\n",
    "    # Sheet Name\n",
    "    train_sheet_name_per_fold = \"fold_{}_train\".format(k)\n",
    "    val_sheet_name_per_fold = \"fold_{}_val\".format(k)\n",
    "    # Get Array Images and Masks\n",
    "    train_images_arr, train_labels = getArrFromExcel(train_sheet_name_per_fold)\n",
    "    val_images_arr, val_labels = getArrFromExcel(val_sheet_name_per_fold)\n",
    "\n",
    "    # Build Model\n",
    "    model = buildModelXception()\n",
    "    \n",
    "    # Dynamically extract hyperparameters\n",
    "    batch_size = 8\n",
    "    epochs = 50\n",
    "    hyperparams = get_model_hyperparameters(model, batch_size, epochs, train_images_arr, val_images_arr, train_labels)\n",
    "\n",
    "    # Model Training\n",
    "    history = model.fit(train_images_arr,\n",
    "                        train_labels,\n",
    "                        validation_data=(val_images_arr, val_labels),\n",
    "                        batch_size=batch_size,\n",
    "                        epochs=epochs,\n",
    "                        callbacks=csv_logger_callback)\n",
    "    \n",
    "\n",
    "    # Append training history summary to the .csv log file\n",
    "    csv_logger_filename_summary = os.path.join(fold_path, f'summary_log_fold_{k}.csv')\n",
    "    # Extract the last epoch's metrics\n",
    "    last_epoch_metrics = {metric: values[-1] for metric, values in history.history.items()}\n",
    "    # Convert the metrics dictionary to a DataFrame\n",
    "    last_epoch_df = pd.DataFrame([last_epoch_metrics])\n",
    "    # Add fold-specific hyperparameters to the DataFrame for context\n",
    "    hyperparams_df = pd.DataFrame([hyperparams])\n",
    "    # Combine metrics and hyperparameters into one DataFrame\n",
    "    summary_df = pd.concat([last_epoch_df, hyperparams_df], axis=1)\n",
    "    # Save to CSV\n",
    "    summary_df.to_csv(csv_logger_filename_summary, index=False)\n",
    "\n",
    "    # Read CSV Logger After Training\n",
    "    csv_logger_df = pd.read_csv(csv_logger_filename)\n",
    "    csv_logger_df.to_csv(csv_logger_filename)\n",
    "    \n",
    "    # Write hyperparameters and other details to a .txt log file\n",
    "    # with open(txt_logger_filename, 'w') as txt_logger:\n",
    "\n",
    "    # Model Per Fold Documentation\n",
    "    model.save(base_path + \"model_per_fold/model_fold_{}.h5\".format(k))"
   ]
  },
  {
   "cell_type": "markdown",
   "metadata": {
    "id": "XSDVFKPNHP2s"
   },
   "source": [
    "# ---EfficientNetB0 Training---"
   ]
  },
  {
   "cell_type": "code",
   "execution_count": null,
   "metadata": {
    "id": "vKdl4xMRHP25"
   },
   "outputs": [],
   "source": [
    "# model = buildModelEfficientNetB0()\n",
    "# model.summary()"
   ]
  },
  {
   "cell_type": "code",
   "execution_count": null,
   "metadata": {
    "id": "EPXNBQ-aHP25"
   },
   "outputs": [],
   "source": [
    "# n_sheets_excel = len(pd.ExcelFile(EXCEL_FILENAME).sheet_names)\n",
    "# n_k_fold = int((n_sheets_excel - 1) / 2)\n",
    "\n",
    "# # Drive Path\n",
    "# drive_path = \"/content/drive/MyDrive/Research - Thoracic Abnormalities/Models Evaluation/EfficientNetB0/training/\"\n",
    "\n",
    "# for k in range(1, n_k_fold + 1):\n",
    "#     print(\"##################### FOLD - {} #####################\".format(k))\n",
    "\n",
    "#     # CALLBACK\n",
    "#     # CSV Logger Callback\n",
    "#     csv_logger_filename = drive_path + 'csv_loggers/csv_logger_fold_{}.csv'.format(k)\n",
    "#     csv_logger_callback = CSVLogger(csv_logger_filename)\n",
    "\n",
    "#     # Sheet Name\n",
    "#     train_sheet_name_per_fold = \"fold_{}_train\".format(k)\n",
    "#     val_sheet_name_per_fold = \"fold_{}_val\".format(k)\n",
    "#     # Get Array Images and Masks\n",
    "#     train_images_arr, train_labels = getArrFromExcel(train_sheet_name_per_fold)\n",
    "#     val_images_arr, val_labels = getArrFromExcel(val_sheet_name_per_fold)\n",
    "\n",
    "#     # Build Model\n",
    "#     model = buildModelEfficientNetB0()\n",
    "\n",
    "#     # Model Training\n",
    "#     history = model.fit(train_images_arr,\n",
    "#                         train_labels,\n",
    "#                         validation_data=(val_images_arr, val_labels),\n",
    "#                         batch_size=32,\n",
    "#                         epochs=100,\n",
    "#                         callbacks=csv_logger_callback)\n",
    "#     # Read CSV Logger After Training\n",
    "#     csv_logger_df = pd.read_csv(csv_logger_filename)\n",
    "#     csv_logger_df.to_csv(csv_logger_filename)\n",
    "\n",
    "#     # Model Per Fold Documentation\n",
    "#     model.save(drive_path + \"model_per_fold/model_fold_{}.h5\".format(k))"
   ]
  }
 ],
 "metadata": {
  "accelerator": "GPU",
  "colab": {
   "gpuType": "T4",
   "provenance": []
  },
  "kernelspec": {
   "display_name": "tf217",
   "language": "python",
   "name": "python3"
  },
  "language_info": {
   "codemirror_mode": {
    "name": "ipython",
    "version": 3
   },
   "file_extension": ".py",
   "mimetype": "text/x-python",
   "name": "python",
   "nbconvert_exporter": "python",
   "pygments_lexer": "ipython3",
   "version": "3.12.3"
  }
 },
 "nbformat": 4,
 "nbformat_minor": 0
}
