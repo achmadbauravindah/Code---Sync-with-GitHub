{
 "cells": [
  {
   "cell_type": "code",
   "execution_count": 1,
   "metadata": {},
   "outputs": [],
   "source": [
    "import numpy as np\n",
    "import os\n",
    "import matplotlib.pyplot as plt\n",
    "import glob\n",
    "from sklearn.utils import shuffle\n",
    "from sklearn.model_selection import KFold\n",
    "import pandas as pd\n",
    "from sklearn.preprocessing import OrdinalEncoder\n",
    "from sklearn.preprocessing import OneHotEncoder"
   ]
  },
  {
   "cell_type": "code",
   "execution_count": 2,
   "metadata": {},
   "outputs": [],
   "source": [
    "# Path\n",
    "DATASET_PATH = \"LungAbnotmalities_Dataset\"\n",
    "LABELS = [\"Cardiomegaly\", \"Nodule_Mass\", \"Pneumothorax\"]"
   ]
  },
  {
   "cell_type": "code",
   "execution_count": 3,
   "metadata": {},
   "outputs": [],
   "source": [
    "def getAllFilePath(PATH):\n",
    "    train_images_path = np.array([])\n",
    "    train_labels = np.array([])\n",
    "    test_images_path = np.array([])\n",
    "    test_labels = np.array([])\n",
    "    \n",
    "    total_test_Cardiomegaly_label = 40\n",
    "    total_test_Nodule_Mass_label = 40\n",
    "    total_test_Pneumothorax_label = 37\n",
    "    \n",
    "    for label in LABELS:\n",
    "        if label == 'Cardiomegaly':\n",
    "            total_test_per_label = total_test_Cardiomegaly_label\n",
    "        elif label == 'Nodule_Mass':\n",
    "            total_test_per_label = total_test_Nodule_Mass_label\n",
    "        elif label == 'Pneumothorax':\n",
    "            total_test_per_label = total_test_Pneumothorax_label\n",
    "\n",
    "        images_path = []\n",
    "        for root, dirs, filenames in os.walk(PATH + \"/\" + label):\n",
    "            for filename in filenames:\n",
    "                if \".jpg\" in filename:\n",
    "                    image_path = os.path.join(root, filename)\n",
    "                    # print(image_path)\n",
    "                    images_path.append(image_path)\n",
    "        # Path per label\n",
    "        images_path = sorted(images_path)\n",
    "        \n",
    "        # Save train images\n",
    "        train_images_path = np.concatenate((train_images_path, images_path[total_test_per_label:]))\n",
    "        \n",
    "        # Save test images\n",
    "        test_images_path = np.concatenate((test_images_path, images_path[:total_test_per_label]))\n",
    "\n",
    "        # Inset Label\n",
    "        create_train_label_data = np.repeat(label, len(images_path[total_test_per_label:]))\n",
    "        train_labels = np.concatenate((train_labels, create_train_label_data))\n",
    "        create_test_label_data = np.repeat(label, len(images_path[:total_test_per_label]))\n",
    "        test_labels = np.concatenate((test_labels, create_test_label_data))\n",
    "    \n",
    "    train_images_path = np.array(train_images_path).reshape(-1)\n",
    "    test_images_path = np.array(test_images_path).reshape(-1)\n",
    "    # Labels\n",
    "    train_labels = np.array(train_labels).reshape(-1)\n",
    "    test_labels = np.array(test_labels).reshape(-1)\n",
    "    \n",
    "    return train_images_path, train_labels, test_images_path, test_labels\n",
    "\n",
    "\n",
    "train_images_path, train_labels, test_images_path, test_labels = getAllFilePath(DATASET_PATH)"
   ]
  },
  {
   "cell_type": "code",
   "execution_count": 4,
   "metadata": {},
   "outputs": [
    {
     "data": {
      "text/plain": [
       "(468,)"
      ]
     },
     "execution_count": 4,
     "metadata": {},
     "output_type": "execute_result"
    }
   ],
   "source": [
    "train_images_path.shape"
   ]
  },
  {
   "cell_type": "code",
   "execution_count": 5,
   "metadata": {},
   "outputs": [
    {
     "name": "stderr",
     "output_type": "stream",
     "text": [
      "/Users/achmadbauravindah/miniconda3/envs/work/lib/python3.11/site-packages/sklearn/preprocessing/_encoders.py:972: FutureWarning: `sparse` was renamed to `sparse_output` in version 1.2 and will be removed in 1.4. `sparse_output` is ignored unless you leave `sparse` to its default value.\n",
      "  warnings.warn(\n"
     ]
    }
   ],
   "source": [
    "def encodeLabels(data_labels):\n",
    "    # Ordinal Encoder\n",
    "    ord_enc = OrdinalEncoder()\n",
    "    all_data_labels_ordinal = ord_enc.fit_transform(data_labels)\n",
    "    # One-Hot Encoder\n",
    "    one_hot_enc = OneHotEncoder(sparse=False)\n",
    "    all_data_labels_onehot = one_hot_enc.fit_transform(data_labels.reshape(-1, 1))\n",
    "    return all_data_labels_ordinal, all_data_labels_onehot\n",
    "\n",
    "# Create Class Encoder\n",
    "num_train_labels = len(train_labels)\n",
    "all_data_labels = np.concatenate((train_labels, test_labels), axis=0).reshape(-1, 1)\n",
    "all_data_labels_ordinal, all_data_labels_onehot = encodeLabels(all_data_labels)\n",
    "train_labels_ord = all_data_labels_ordinal[:num_train_labels].reshape(-1)\n",
    "test_labels_ord = all_data_labels_ordinal[num_train_labels:].reshape(-1)\n",
    "train_labels_onehot = all_data_labels_onehot[:num_train_labels]\n",
    "test_labels_onehot = all_data_labels_onehot[num_train_labels:]"
   ]
  },
  {
   "cell_type": "code",
   "execution_count": 6,
   "metadata": {},
   "outputs": [],
   "source": [
    "# Shuffle Data Train\n",
    "train_images_path, train_labels, train_labels_ord, train_labels_onehot = shuffle(train_images_path, train_labels, train_labels_ord, train_labels_onehot)"
   ]
  },
  {
   "cell_type": "markdown",
   "metadata": {},
   "source": [
    "### Initiate Writer Excel Pandas"
   ]
  },
  {
   "cell_type": "code",
   "execution_count": 7,
   "metadata": {},
   "outputs": [],
   "source": [
    "excel_filename = DATASET_PATH + \"/Split_LungAbnotmalities_Dataset.xlsx\"\n",
    "writer_excel = pd.ExcelWriter(excel_filename, engine='xlsxwriter')"
   ]
  },
  {
   "cell_type": "markdown",
   "metadata": {},
   "source": [
    "# Proses K-Fold"
   ]
  },
  {
   "cell_type": "code",
   "execution_count": 8,
   "metadata": {},
   "outputs": [],
   "source": [
    "\n",
    "def kfold_save_excel(n_splits):\n",
    "    kf = KFold(n_splits=n_splits)\n",
    "\n",
    "    i = 0\n",
    "    for train_idx, val_idx in kf.split(train_images_path):\n",
    "        i += 1\n",
    "        # Split Data into Train and Validation\n",
    "        fold_train_images_path, fold_val_images_path = train_images_path[train_idx], train_images_path[val_idx]\n",
    "        fold_train_npy_path, fold_val_npy_path = np.char.replace(fold_train_images_path, 'jpg', 'npy'), np.char.replace(fold_val_images_path, 'jpg', 'npy') # add npy columns\n",
    "        fold_train_labels, fold_val_labels = train_labels[train_idx], train_labels[val_idx]\n",
    "        fold_train_labels_ord, fold_val_labels_ord = train_labels_ord[train_idx], train_labels_ord[val_idx]\n",
    "        fold_train_labels_onehot, fold_val_labels_onehot = train_labels_onehot[train_idx], train_labels_onehot[val_idx]\n",
    "        # Create dataframe pandas all images path\n",
    "        train_df = pd.DataFrame({\"images_path\": fold_train_images_path,\n",
    "                                \"labels\": fold_train_labels,\n",
    "                                \"labels_ordinal\": fold_train_labels_ord,\n",
    "                                \"labels_one_hot_state_1\": fold_train_labels_onehot[:, 0],\n",
    "                                \"labels_one_hot_state_2\": fold_train_labels_onehot[:, 1],\n",
    "                                \"labels_one_hot_state_3\": fold_train_labels_onehot[:, 2],\n",
    "                                })\n",
    "        val_df = pd.DataFrame({\"images_path\": fold_val_images_path,\n",
    "                                \"labels\": fold_val_labels,\n",
    "                                \"labels_ordinal\": fold_val_labels_ord,\n",
    "                                \"labels_one_hot_state_1\": fold_val_labels_onehot[:, 0],\n",
    "                                \"labels_one_hot_state_2\": fold_val_labels_onehot[:, 1],\n",
    "                                \"labels_one_hot_state_3\": fold_val_labels_onehot[:, 2],\n",
    "                                })\n",
    "        # Create Sheet Name of Train and Validation at per Fold\n",
    "        sheet_train_name = \"fold_{}_train\".format(i)\n",
    "        sheet_val_name = \"fold_{}_val\".format(i)\n",
    "        # Save Dataframe each Sheet\n",
    "        train_df.to_excel(writer_excel, sheet_name=sheet_train_name)\n",
    "        val_df.to_excel(writer_excel, sheet_name=sheet_val_name)"
   ]
  },
  {
   "cell_type": "markdown",
   "metadata": {},
   "source": [
    "### Save Train and Validation (K-Fold) Dataset to Excel"
   ]
  },
  {
   "cell_type": "code",
   "execution_count": 9,
   "metadata": {},
   "outputs": [],
   "source": [
    "kfold_save_excel(5)"
   ]
  },
  {
   "cell_type": "markdown",
   "metadata": {},
   "source": [
    "### Save Test Dataset to Excel"
   ]
  },
  {
   "cell_type": "code",
   "execution_count": 10,
   "metadata": {},
   "outputs": [
    {
     "data": {
      "text/plain": [
       "(117,)"
      ]
     },
     "execution_count": 10,
     "metadata": {},
     "output_type": "execute_result"
    }
   ],
   "source": [
    "test_labels_ord.shape"
   ]
  },
  {
   "cell_type": "code",
   "execution_count": 11,
   "metadata": {},
   "outputs": [],
   "source": [
    "test_df = pd.DataFrame({\"images_path\": test_images_path,\n",
    "                        \"labels\": test_labels,\n",
    "                        \"labels_ordinal\": test_labels_ord,\n",
    "                        \"labels_one_hot_state_1\": test_labels_onehot[:, 0],\n",
    "                        \"labels_one_hot_state_2\": test_labels_onehot[:, 1],\n",
    "                        \"labels_one_hot_state_3\": test_labels_onehot[:, 2],\n",
    "                        })\n",
    "\n",
    "test_df.to_excel(writer_excel, sheet_name=\"test\")"
   ]
  },
  {
   "cell_type": "markdown",
   "metadata": {},
   "source": [
    "### Save ALL DATASET TO EXCEL"
   ]
  },
  {
   "cell_type": "code",
   "execution_count": 12,
   "metadata": {},
   "outputs": [],
   "source": [
    "# Last Save Excel\n",
    "writer_excel.close()"
   ]
  },
  {
   "cell_type": "code",
   "execution_count": 13,
   "metadata": {},
   "outputs": [
    {
     "data": {
      "text/plain": [
       "array(['Cardiomegaly', 'Nodule_Mass', 'Pneumothorax', 'Pneumothorax',\n",
       "       'Cardiomegaly', 'Nodule_Mass', 'Cardiomegaly', 'Nodule_Mass',\n",
       "       'Cardiomegaly', 'Pneumothorax', 'Cardiomegaly', 'Pneumothorax',\n",
       "       'Nodule_Mass', 'Pneumothorax', 'Nodule_Mass', 'Nodule_Mass',\n",
       "       'Pneumothorax', 'Cardiomegaly', 'Pneumothorax', 'Nodule_Mass',\n",
       "       'Cardiomegaly', 'Cardiomegaly', 'Cardiomegaly', 'Pneumothorax',\n",
       "       'Cardiomegaly', 'Nodule_Mass', 'Cardiomegaly', 'Pneumothorax',\n",
       "       'Nodule_Mass', 'Cardiomegaly', 'Cardiomegaly', 'Nodule_Mass',\n",
       "       'Nodule_Mass', 'Pneumothorax', 'Pneumothorax', 'Pneumothorax',\n",
       "       'Cardiomegaly', 'Nodule_Mass', 'Cardiomegaly', 'Cardiomegaly',\n",
       "       'Cardiomegaly', 'Cardiomegaly', 'Pneumothorax', 'Pneumothorax',\n",
       "       'Cardiomegaly', 'Pneumothorax', 'Nodule_Mass', 'Nodule_Mass',\n",
       "       'Nodule_Mass', 'Nodule_Mass', 'Pneumothorax', 'Cardiomegaly',\n",
       "       'Cardiomegaly', 'Nodule_Mass', 'Cardiomegaly', 'Pneumothorax',\n",
       "       'Nodule_Mass', 'Pneumothorax', 'Pneumothorax', 'Pneumothorax',\n",
       "       'Cardiomegaly', 'Nodule_Mass', 'Pneumothorax', 'Cardiomegaly',\n",
       "       'Nodule_Mass', 'Pneumothorax', 'Cardiomegaly', 'Nodule_Mass',\n",
       "       'Cardiomegaly', 'Cardiomegaly', 'Nodule_Mass', 'Nodule_Mass',\n",
       "       'Nodule_Mass', 'Cardiomegaly', 'Cardiomegaly', 'Nodule_Mass',\n",
       "       'Pneumothorax', 'Cardiomegaly', 'Cardiomegaly', 'Cardiomegaly',\n",
       "       'Pneumothorax', 'Cardiomegaly', 'Nodule_Mass', 'Cardiomegaly',\n",
       "       'Nodule_Mass', 'Pneumothorax', 'Cardiomegaly', 'Pneumothorax',\n",
       "       'Cardiomegaly', 'Pneumothorax', 'Cardiomegaly', 'Nodule_Mass',\n",
       "       'Pneumothorax', 'Nodule_Mass', 'Nodule_Mass', 'Pneumothorax',\n",
       "       'Pneumothorax', 'Cardiomegaly', 'Cardiomegaly', 'Cardiomegaly',\n",
       "       'Nodule_Mass', 'Nodule_Mass', 'Cardiomegaly', 'Pneumothorax',\n",
       "       'Cardiomegaly', 'Nodule_Mass', 'Nodule_Mass', 'Nodule_Mass',\n",
       "       'Nodule_Mass', 'Pneumothorax', 'Cardiomegaly', 'Nodule_Mass',\n",
       "       'Cardiomegaly', 'Nodule_Mass', 'Nodule_Mass', 'Pneumothorax',\n",
       "       'Nodule_Mass', 'Pneumothorax', 'Cardiomegaly', 'Nodule_Mass',\n",
       "       'Cardiomegaly', 'Cardiomegaly', 'Cardiomegaly', 'Nodule_Mass',\n",
       "       'Nodule_Mass', 'Nodule_Mass', 'Nodule_Mass', 'Pneumothorax',\n",
       "       'Nodule_Mass', 'Pneumothorax', 'Cardiomegaly', 'Nodule_Mass',\n",
       "       'Pneumothorax', 'Nodule_Mass', 'Cardiomegaly', 'Nodule_Mass',\n",
       "       'Nodule_Mass', 'Pneumothorax', 'Pneumothorax', 'Nodule_Mass',\n",
       "       'Nodule_Mass', 'Nodule_Mass', 'Nodule_Mass', 'Pneumothorax',\n",
       "       'Cardiomegaly', 'Nodule_Mass', 'Cardiomegaly', 'Pneumothorax',\n",
       "       'Pneumothorax', 'Pneumothorax', 'Cardiomegaly', 'Nodule_Mass',\n",
       "       'Pneumothorax', 'Nodule_Mass', 'Cardiomegaly', 'Nodule_Mass',\n",
       "       'Nodule_Mass', 'Cardiomegaly', 'Pneumothorax', 'Cardiomegaly',\n",
       "       'Pneumothorax', 'Cardiomegaly', 'Nodule_Mass', 'Pneumothorax',\n",
       "       'Cardiomegaly', 'Cardiomegaly', 'Cardiomegaly', 'Nodule_Mass',\n",
       "       'Nodule_Mass', 'Cardiomegaly', 'Cardiomegaly', 'Cardiomegaly',\n",
       "       'Cardiomegaly', 'Pneumothorax', 'Nodule_Mass', 'Pneumothorax',\n",
       "       'Cardiomegaly', 'Cardiomegaly', 'Cardiomegaly', 'Pneumothorax',\n",
       "       'Cardiomegaly', 'Cardiomegaly', 'Nodule_Mass', 'Cardiomegaly',\n",
       "       'Cardiomegaly', 'Nodule_Mass', 'Pneumothorax', 'Pneumothorax',\n",
       "       'Pneumothorax', 'Nodule_Mass', 'Nodule_Mass', 'Pneumothorax',\n",
       "       'Cardiomegaly', 'Pneumothorax', 'Cardiomegaly', 'Nodule_Mass',\n",
       "       'Nodule_Mass', 'Nodule_Mass', 'Pneumothorax', 'Pneumothorax',\n",
       "       'Nodule_Mass', 'Nodule_Mass', 'Cardiomegaly', 'Nodule_Mass',\n",
       "       'Cardiomegaly', 'Pneumothorax', 'Pneumothorax', 'Cardiomegaly',\n",
       "       'Cardiomegaly', 'Pneumothorax', 'Pneumothorax', 'Cardiomegaly',\n",
       "       'Pneumothorax', 'Cardiomegaly', 'Nodule_Mass', 'Pneumothorax',\n",
       "       'Nodule_Mass', 'Cardiomegaly', 'Cardiomegaly', 'Pneumothorax',\n",
       "       'Cardiomegaly', 'Cardiomegaly', 'Pneumothorax', 'Pneumothorax',\n",
       "       'Nodule_Mass', 'Pneumothorax', 'Pneumothorax', 'Pneumothorax',\n",
       "       'Nodule_Mass', 'Pneumothorax', 'Cardiomegaly', 'Cardiomegaly',\n",
       "       'Cardiomegaly', 'Cardiomegaly', 'Cardiomegaly', 'Cardiomegaly',\n",
       "       'Pneumothorax', 'Cardiomegaly', 'Nodule_Mass', 'Nodule_Mass',\n",
       "       'Nodule_Mass', 'Nodule_Mass', 'Pneumothorax', 'Pneumothorax',\n",
       "       'Nodule_Mass', 'Cardiomegaly', 'Cardiomegaly', 'Cardiomegaly',\n",
       "       'Pneumothorax', 'Pneumothorax', 'Nodule_Mass', 'Pneumothorax',\n",
       "       'Pneumothorax', 'Cardiomegaly', 'Pneumothorax', 'Cardiomegaly',\n",
       "       'Nodule_Mass', 'Nodule_Mass', 'Cardiomegaly', 'Cardiomegaly',\n",
       "       'Pneumothorax', 'Pneumothorax', 'Cardiomegaly', 'Nodule_Mass',\n",
       "       'Cardiomegaly', 'Nodule_Mass', 'Pneumothorax', 'Nodule_Mass',\n",
       "       'Nodule_Mass', 'Cardiomegaly', 'Pneumothorax', 'Nodule_Mass',\n",
       "       'Nodule_Mass', 'Cardiomegaly', 'Pneumothorax', 'Pneumothorax',\n",
       "       'Cardiomegaly', 'Pneumothorax', 'Pneumothorax', 'Nodule_Mass',\n",
       "       'Cardiomegaly', 'Pneumothorax', 'Nodule_Mass', 'Pneumothorax',\n",
       "       'Nodule_Mass', 'Pneumothorax', 'Nodule_Mass', 'Pneumothorax',\n",
       "       'Nodule_Mass', 'Nodule_Mass', 'Pneumothorax', 'Nodule_Mass',\n",
       "       'Pneumothorax', 'Pneumothorax', 'Pneumothorax', 'Nodule_Mass',\n",
       "       'Cardiomegaly', 'Pneumothorax', 'Nodule_Mass', 'Cardiomegaly',\n",
       "       'Cardiomegaly', 'Pneumothorax', 'Nodule_Mass', 'Cardiomegaly',\n",
       "       'Pneumothorax', 'Pneumothorax', 'Nodule_Mass', 'Nodule_Mass',\n",
       "       'Pneumothorax', 'Pneumothorax', 'Cardiomegaly', 'Nodule_Mass',\n",
       "       'Nodule_Mass', 'Pneumothorax', 'Pneumothorax', 'Cardiomegaly',\n",
       "       'Cardiomegaly', 'Nodule_Mass', 'Cardiomegaly', 'Cardiomegaly',\n",
       "       'Cardiomegaly', 'Pneumothorax', 'Nodule_Mass', 'Pneumothorax',\n",
       "       'Pneumothorax', 'Nodule_Mass', 'Nodule_Mass', 'Pneumothorax',\n",
       "       'Cardiomegaly', 'Cardiomegaly', 'Nodule_Mass', 'Cardiomegaly',\n",
       "       'Pneumothorax', 'Cardiomegaly', 'Pneumothorax', 'Cardiomegaly',\n",
       "       'Nodule_Mass', 'Cardiomegaly', 'Pneumothorax', 'Nodule_Mass',\n",
       "       'Cardiomegaly', 'Pneumothorax', 'Pneumothorax', 'Nodule_Mass',\n",
       "       'Pneumothorax', 'Cardiomegaly', 'Cardiomegaly', 'Nodule_Mass',\n",
       "       'Pneumothorax', 'Pneumothorax', 'Pneumothorax', 'Nodule_Mass',\n",
       "       'Pneumothorax', 'Nodule_Mass', 'Cardiomegaly', 'Nodule_Mass',\n",
       "       'Cardiomegaly', 'Nodule_Mass', 'Pneumothorax', 'Pneumothorax',\n",
       "       'Pneumothorax', 'Pneumothorax', 'Pneumothorax', 'Nodule_Mass',\n",
       "       'Nodule_Mass', 'Cardiomegaly', 'Nodule_Mass', 'Nodule_Mass',\n",
       "       'Nodule_Mass', 'Nodule_Mass', 'Pneumothorax', 'Cardiomegaly',\n",
       "       'Cardiomegaly', 'Pneumothorax', 'Nodule_Mass', 'Cardiomegaly',\n",
       "       'Pneumothorax', 'Cardiomegaly', 'Cardiomegaly', 'Nodule_Mass',\n",
       "       'Cardiomegaly', 'Cardiomegaly', 'Cardiomegaly', 'Nodule_Mass',\n",
       "       'Nodule_Mass', 'Nodule_Mass', 'Nodule_Mass', 'Cardiomegaly',\n",
       "       'Nodule_Mass', 'Nodule_Mass', 'Nodule_Mass', 'Cardiomegaly',\n",
       "       'Pneumothorax', 'Pneumothorax', 'Nodule_Mass', 'Cardiomegaly',\n",
       "       'Pneumothorax', 'Cardiomegaly', 'Nodule_Mass', 'Cardiomegaly',\n",
       "       'Cardiomegaly', 'Pneumothorax', 'Cardiomegaly', 'Nodule_Mass',\n",
       "       'Nodule_Mass', 'Pneumothorax', 'Pneumothorax', 'Pneumothorax',\n",
       "       'Nodule_Mass', 'Cardiomegaly', 'Pneumothorax', 'Pneumothorax',\n",
       "       'Cardiomegaly', 'Cardiomegaly', 'Nodule_Mass', 'Cardiomegaly',\n",
       "       'Nodule_Mass', 'Nodule_Mass', 'Nodule_Mass', 'Cardiomegaly',\n",
       "       'Pneumothorax', 'Pneumothorax', 'Cardiomegaly', 'Cardiomegaly',\n",
       "       'Cardiomegaly', 'Pneumothorax', 'Pneumothorax', 'Cardiomegaly',\n",
       "       'Nodule_Mass', 'Nodule_Mass', 'Nodule_Mass', 'Nodule_Mass',\n",
       "       'Cardiomegaly', 'Pneumothorax', 'Pneumothorax', 'Nodule_Mass',\n",
       "       'Nodule_Mass', 'Pneumothorax', 'Nodule_Mass', 'Cardiomegaly',\n",
       "       'Pneumothorax', 'Cardiomegaly', 'Cardiomegaly', 'Pneumothorax',\n",
       "       'Cardiomegaly', 'Nodule_Mass', 'Nodule_Mass', 'Nodule_Mass',\n",
       "       'Nodule_Mass', 'Nodule_Mass', 'Pneumothorax', 'Cardiomegaly',\n",
       "       'Pneumothorax', 'Pneumothorax', 'Cardiomegaly', 'Cardiomegaly',\n",
       "       'Cardiomegaly', 'Nodule_Mass', 'Pneumothorax', 'Cardiomegaly',\n",
       "       'Pneumothorax', 'Nodule_Mass', 'Pneumothorax', 'Nodule_Mass',\n",
       "       'Nodule_Mass', 'Nodule_Mass', 'Cardiomegaly', 'Nodule_Mass'],\n",
       "      dtype='<U32')"
      ]
     },
     "execution_count": 13,
     "metadata": {},
     "output_type": "execute_result"
    }
   ],
   "source": [
    "train_labels"
   ]
  },
  {
   "cell_type": "code",
   "execution_count": 14,
   "metadata": {},
   "outputs": [
    {
     "name": "stdout",
     "output_type": "stream",
     "text": [
      "LungAbnotmalities_Dataset/Pneumothorax/images/00025787_050.jpg\n",
      "Pneumothorax\n"
     ]
    }
   ],
   "source": [
    "# importing Image class from PIL package\n",
    "from PIL import Image\n",
    "\n",
    "# creating a object\n",
    "im = Image.open((train_images_path[50]).replace('.npy', '.jpg').replace('npy_images', 'images'))\n",
    "\n",
    "im.show()\n",
    "print(train_images_path[50])\n",
    "print(train_labels[50])"
   ]
  }
 ],
 "metadata": {
  "kernelspec": {
   "display_name": "kuliah",
   "language": "python",
   "name": "python3"
  },
  "language_info": {
   "codemirror_mode": {
    "name": "ipython",
    "version": 3
   },
   "file_extension": ".py",
   "mimetype": "text/x-python",
   "name": "python",
   "nbconvert_exporter": "python",
   "pygments_lexer": "ipython3",
   "version": "3.11.7"
  },
  "orig_nbformat": 4,
  "vscode": {
   "interpreter": {
    "hash": "f4321532817e739f683e2c63981766eb0cb9e79263406a179b684e61376392a5"
   }
  }
 },
 "nbformat": 4,
 "nbformat_minor": 2
}
